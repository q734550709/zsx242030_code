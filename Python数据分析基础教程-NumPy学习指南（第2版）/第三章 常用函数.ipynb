{
 "cells": [
  {
   "cell_type": "markdown",
   "metadata": {},
   "source": [
    "# 第三章 常用函数"
   ]
  },
  {
   "cell_type": "markdown",
   "metadata": {
    "collapsed": true
   },
   "source": [
    "### 1.读写文件"
   ]
  },
  {
   "cell_type": "code",
   "execution_count": 6,
   "metadata": {
    "collapsed": true
   },
   "outputs": [],
   "source": [
    "import numpy as np\n",
    "import datetime\n",
    "import time\n",
    "import sys\n",
    "import matplotlib.pyplot as plt"
   ]
  },
  {
   "cell_type": "code",
   "execution_count": 7,
   "metadata": {
    "collapsed": true
   },
   "outputs": [],
   "source": [
    "#作为文件读写示例，我们创建一个单位矩阵并将其存储到文件中，并按照如下步骤完成。\n",
    "#(1) 单位矩阵，即主对角线上的元素均为1，其余元素均为0的正方形矩阵。在NumPy中可以\n",
    "#用 eye 函数创建一个这样的二维数组，我们只需要给定一个参数，用于指定矩阵中1的元素个数。\n",
    "i2=np.eye(2)\n",
    "#(2)使用 savetxt 函数将数据存储到文件中.\n",
    "np.savetxt('data/eye.txt',i2)"
   ]
  },
  {
   "cell_type": "markdown",
   "metadata": {},
   "source": [
    "### 2.读入 CSV 文件"
   ]
  },
  {
   "cell_type": "code",
   "execution_count": 8,
   "metadata": {
    "collapsed": true
   },
   "outputs": [],
   "source": [
    "#CSV（Comma-Separated Value，逗号分隔值）格式是一种常见的文件格式。\n",
    "#NumPy中的 loadtxt 函数可以方便地读取CSV文件，自动切分字段，并将数据载入NumPy数组"
   ]
  },
  {
   "cell_type": "code",
   "execution_count": 9,
   "metadata": {
    "collapsed": true
   },
   "outputs": [],
   "source": [
    "#下面，我们以载入苹果公司的历史股价数据为\n",
    "#例展开叙述。股价数据存储在CSV文件中，第一列为股票代码以标识股票（苹果公司股票代码为\n",
    "#AAPL ），第二列为dd-mm-yyyy格式的日期，第三列为空，随后各列依次是开盘价、最高价、最低\n",
    "#价和收盘价，最后一列为当日的成交量。"
   ]
  },
  {
   "cell_type": "code",
   "execution_count": 10,
   "metadata": {
    "collapsed": true
   },
   "outputs": [],
   "source": [
    "#下面为一行数据：\n",
    "#股票代码,日期,' ',开盘价,最高价,最低价,收盘价,成交量\n",
    "#AAPL,28-01-2011, ,344.17,344.4,333.53,336.1,21144800"
   ]
  },
  {
   "cell_type": "code",
   "execution_count": 11,
   "metadata": {
    "collapsed": true
   },
   "outputs": [],
   "source": [
    "#从现在开始，我们只关注股票的收盘价和成交量。\n",
    "#我们将收盘价和成交量分别载入到两个数组中，如下所示："
   ]
  },
  {
   "cell_type": "code",
   "execution_count": 12,
   "metadata": {},
   "outputs": [],
   "source": [
    "#usecols 的参数为一个元组，以获取第7字段至第8字段的数据，也就是股票的收盘价和成交量数据。\n",
    "# unpack 参数设置为 True ，意思是分拆存储不同列的数据，\n",
    "#即分别将收盘价和成交量的数组赋值给变量 c 和 v 。\n",
    "#用 delimiter 参数指定了文件中的分隔符为英文逗号\n",
    "c,v=np.loadtxt('data/data.csv', delimiter=',', usecols=(6,7), unpack=True)"
   ]
  },
  {
   "cell_type": "code",
   "execution_count": 13,
   "metadata": {},
   "outputs": [
    {
     "data": {
      "text/plain": [
       "array([336.1 , 339.32, 345.03, 344.32, 343.44, 346.5 , 351.88, 355.2 ,\n",
       "       358.16, 354.54])"
      ]
     },
     "execution_count": 13,
     "metadata": {},
     "output_type": "execute_result"
    }
   ],
   "source": [
    "c[:10]"
   ]
  },
  {
   "cell_type": "code",
   "execution_count": 14,
   "metadata": {},
   "outputs": [
    {
     "data": {
      "text/plain": [
       "array([21144800., 13473000., 15236800.,  9242600., 14064100., 11494200.,\n",
       "       17322100., 13608500., 17240800., 33162400.])"
      ]
     },
     "execution_count": 14,
     "metadata": {},
     "output_type": "execute_result"
    }
   ],
   "source": [
    "v[:10]"
   ]
  },
  {
   "cell_type": "markdown",
   "metadata": {},
   "source": [
    "### 3.成交量加权平均价格（VWAP）"
   ]
  },
  {
   "cell_type": "code",
   "execution_count": 15,
   "metadata": {
    "collapsed": true
   },
   "outputs": [],
   "source": [
    "#VWAP（Volume-Weighted Average Price，成交量加权平均价格）是一个非常重要的经济学量，\n",
    "#它代表着金融资产的“平均”价格。某个价格的成交量越高，该价格所占的权重就越大。VWAP\n",
    "#就是以成交量为权重计算出来的加权平均值，常用于算法交易。"
   ]
  },
  {
   "cell_type": "code",
   "execution_count": 16,
   "metadata": {},
   "outputs": [
    {
     "name": "stdout",
     "output_type": "stream",
     "text": [
      "vwap= 350.5895493532009\n"
     ]
    }
   ],
   "source": [
    "#计算成交量加权平均价格\n",
    "vwap=np.average(c,weights=v)\n",
    "print(\"vwap=\",vwap)"
   ]
  },
  {
   "cell_type": "code",
   "execution_count": 17,
   "metadata": {},
   "outputs": [
    {
     "name": "stdout",
     "output_type": "stream",
     "text": [
      "351.0376666666667\n"
     ]
    }
   ],
   "source": [
    "#算术平均值函数\n",
    "print(np.mean(c))"
   ]
  },
  {
   "cell_type": "code",
   "execution_count": 25,
   "metadata": {
    "collapsed": true
   },
   "outputs": [],
   "source": [
    "#时间加权平均价格\n",
    "#在经济学中，TWAP（Time-Weighted Average Price，时间加权平均价格）是另一种“平均”\n",
    "#价格的指标。既然我们已经计算了VWAP，那也来计算一下TWAP吧。其实TWAP只是一个变种\n",
    "#而已，基本的思想就是最近的价格重要性大一些，所以我们应该对近期的价格给以较高的权重。\n",
    "#最简单的方法就是用 arange 函数创建一个从0开始依次增长的自然数序列，自然数的个数即为收\n",
    "#盘价的个数。当然，这并不一定是正确的计算TWAP的方式。"
   ]
  },
  {
   "cell_type": "code",
   "execution_count": 26,
   "metadata": {},
   "outputs": [
    {
     "name": "stdout",
     "output_type": "stream",
     "text": [
      "352.4283218390804\n"
     ]
    }
   ],
   "source": [
    "t=np.arange(len(c))\n",
    "print(np.average(c,weights=t))"
   ]
  },
  {
   "cell_type": "code",
   "execution_count": 28,
   "metadata": {},
   "outputs": [
    {
     "name": "stdout",
     "output_type": "stream",
     "text": [
      "highest 364.9\n",
      "lowest 333.53\n"
     ]
    }
   ],
   "source": [
    "#取值范围\n",
    "#找到最大值和最小值\n",
    "h,l=np.loadtxt('data/data.csv',delimiter=',', usecols=(4,5), unpack=True)\n",
    "#最大值和最小值\n",
    "print(\"highest\",np.max(h))\n",
    "print(\"lowest\",np.min(l))"
   ]
  },
  {
   "cell_type": "code",
   "execution_count": 31,
   "metadata": {},
   "outputs": [
    {
     "name": "stdout",
     "output_type": "stream",
     "text": [
      "24.859999999999957\n",
      "26.970000000000027\n",
      "531.665\n"
     ]
    }
   ],
   "source": [
    "#NumPy中有一个 ptp 函数可以计算数组的取值范围。该函数返回的是数组元素的最大值\n",
    "#和最小值之间的差值。也就是说，返回值等于max(array) - min(array)。\n",
    "#ptp()函数返回最大值和最小值之间的差值,称为极差\n",
    "#返回值等于max(array) - min(array)\n",
    "print(np.ptp(h))\n",
    "print(np.ptp(l))\n",
    "print (np.max(h) + np.min(l)/2)"
   ]
  },
  {
   "cell_type": "markdown",
   "metadata": {},
   "source": [
    "### 4.统计分析"
   ]
  },
  {
   "cell_type": "code",
   "execution_count": 32,
   "metadata": {
    "collapsed": true
   },
   "outputs": [],
   "source": [
    "#股票交易者对于收盘价的预测很感兴趣。常识告诉我们，这个价格应该接近于某种均值。算\n",
    "#数平均值和加权平均值都是在数值分布中寻找中心点的方法。然而，它们对于异常值（outlier）\n",
    "#既不鲁棒也不敏感。"
   ]
  },
  {
   "cell_type": "code",
   "execution_count": 33,
   "metadata": {
    "collapsed": true
   },
   "outputs": [],
   "source": [
    "#简单统计分析\n",
    "#我们可以用一些阈值来除去异常值，但其实有更好的方法，那就是中位数。将各个变量值按\n",
    "#大小顺序排列起来，形成一个数列，居于数列中间位置的那个数即为中位数。"
   ]
  },
  {
   "cell_type": "code",
   "execution_count": 36,
   "metadata": {},
   "outputs": [
    {
     "name": "stdout",
     "output_type": "stream",
     "text": [
      "median = 352.055\n"
     ]
    }
   ],
   "source": [
    "#一个叫做 median 的函数将帮助我们找到中位数\n",
    "c=np.loadtxt('data/data.csv', delimiter=',', usecols=(6,), unpack=True)\n",
    "print(\"median =\", np.median(c))"
   ]
  },
  {
   "cell_type": "code",
   "execution_count": 37,
   "metadata": {},
   "outputs": [
    {
     "name": "stdout",
     "output_type": "stream",
     "text": [
      "sorted = [336.1  338.61 339.32 342.62 342.88 343.44 344.32 345.03 346.5  346.67\n",
      " 348.16 349.31 350.56 351.88 351.99 352.12 352.47 353.21 354.54 355.2\n",
      " 355.36 355.76 356.85 358.16 358.3  359.18 359.56 359.9  360.   363.13]\n"
     ]
    }
   ],
   "source": [
    "sorted_close = np.msort(c)\n",
    "print(\"sorted =\", sorted_close)"
   ]
  },
  {
   "cell_type": "code",
   "execution_count": 39,
   "metadata": {},
   "outputs": [
    {
     "name": "stdout",
     "output_type": "stream",
     "text": [
      "middle = 351.99\n"
     ]
    }
   ],
   "source": [
    "N = len(c)\n",
    "print(\"middle =\",sorted_close[int((N - 1)/2)])"
   ]
  },
  {
   "cell_type": "code",
   "execution_count": 43,
   "metadata": {},
   "outputs": [
    {
     "name": "stdout",
     "output_type": "stream",
     "text": [
      "average middle = 352.055\n"
     ]
    }
   ],
   "source": [
    "#对于长度为偶数的数组，中位数的值应该等于中间那两个数的平均值。\n",
    "print(\"average middle =\", (sorted_close[int(N /2)] + sorted_close[int((N -1) / 2)])/2)"
   ]
  },
  {
   "cell_type": "code",
   "execution_count": 45,
   "metadata": {},
   "outputs": [
    {
     "name": "stdout",
     "output_type": "stream",
     "text": [
      "variance = 50.126517888888884\n"
     ]
    }
   ],
   "source": [
    "#另外一个我们关心的统计量就是方差。方差能够体现变量变化的程度\n",
    "print(\"variance =\", np.var(c))"
   ]
  },
  {
   "cell_type": "code",
   "execution_count": 46,
   "metadata": {},
   "outputs": [
    {
     "name": "stdout",
     "output_type": "stream",
     "text": [
      "50.126517888888884\n"
     ]
    }
   ],
   "source": [
    "#方差是指各个数据与所有数据算术平均数的离差平方和除以数据个数所得到的值。\n",
    "print(np.mean((c - c.mean())**2))"
   ]
  },
  {
   "cell_type": "code",
   "execution_count": 47,
   "metadata": {
    "collapsed": true
   },
   "outputs": [],
   "source": [
    "#总体方差是用数据个数去除离差平方和，而样本方差则是用样本数据\n",
    "#个数减1去除离差平方和，其中样本数据个数减1（即n-1）称为自由度。之所以有这样的差别，是为了保证样本\n",
    "#方差是一个无偏估计量。"
   ]
  },
  {
   "cell_type": "markdown",
   "metadata": {},
   "source": [
    "### 5.股票收益率"
   ]
  },
  {
   "cell_type": "code",
   "execution_count": 53,
   "metadata": {
    "collapsed": true
   },
   "outputs": [],
   "source": [
    "#在学术文献中，收盘价的分析常常是基于股票收益率和对数收益率的。简单收益率是指相邻\n",
    "#两个价格之间的变化率，而对数收益率是指所有价格取对数后两两之间的差值。"
   ]
  },
  {
   "cell_type": "code",
   "execution_count": 57,
   "metadata": {},
   "outputs": [
    {
     "name": "stdout",
     "output_type": "stream",
     "text": [
      "Standard deviation = 0.012922134436826306\n"
     ]
    }
   ],
   "source": [
    "#NumPy中的 diff 函数可以返回一个由相邻数组元素的差值构成的数组\n",
    "#不过这里要注意， diff 返回的数组比收盘价数组少一个元素。\n",
    "#股票收益率\n",
    "returns = np.diff(c) /c[ : -1]\n",
    "print(\"Standard deviation =\", np.std(returns))"
   ]
  },
  {
   "cell_type": "code",
   "execution_count": 59,
   "metadata": {},
   "outputs": [
    {
     "name": "stdout",
     "output_type": "stream",
     "text": [
      "logreturns [ 0.00953488  0.01668775 -0.00205991 -0.00255903  0.00887039  0.01540739\n",
      "  0.0093908   0.0082988  -0.01015864  0.00649435  0.00650813  0.00200256\n",
      "  0.00893468 -0.01339027 -0.02183875 -0.03468287  0.01177296  0.00075857\n",
      "  0.01528161  0.01440064 -0.011103    0.00801225  0.02090904  0.00122297\n",
      " -0.01297267  0.00112499 -0.00929083 -0.01659219  0.01522945]\n"
     ]
    }
   ],
   "source": [
    "#我们先用 log 函数得到每一个收盘价的对数，再对结果使用 diff 函数即可。\n",
    "logreturns = np.diff(np.log(c))\n",
    "print(\"logreturns\",logreturns)"
   ]
  },
  {
   "cell_type": "code",
   "execution_count": 60,
   "metadata": {
    "collapsed": true
   },
   "outputs": [],
   "source": [
    "#一般情况下，我们应检查输入数组以确保其不含有零和负数。否则，将得到一个错误提示。\n",
    "#不过在我们的例子中，股价总为正值，所以可以将检查省略掉。"
   ]
  },
  {
   "cell_type": "code",
   "execution_count": 61,
   "metadata": {},
   "outputs": [
    {
     "name": "stdout",
     "output_type": "stream",
     "text": [
      "Indices with positive returns (array([ 0,  1,  4,  5,  6,  7,  9, 10, 11, 12, 16, 17, 18, 19, 21, 22, 23,\n",
      "       25, 28], dtype=int64),)\n"
     ]
    }
   ],
   "source": [
    "#我们很可能对哪些交易日的收益率为正值非常感兴趣。\n",
    "#输出该数组中所有正值元素的索引\n",
    "posretindices = np.where(returns > 0)\n",
    "print(\"Indices with positive returns\", posretindices)"
   ]
  },
  {
   "cell_type": "code",
   "execution_count": 62,
   "metadata": {},
   "outputs": [
    {
     "data": {
      "text/plain": [
       "array([0.00958048, 0.01682777, 0.00890985, 0.0155267 , 0.00943503,\n",
       "       0.00833333, 0.00651548, 0.00652935, 0.00200457, 0.00897472,\n",
       "       0.01184253, 0.00075886, 0.01539897, 0.01450483, 0.00804443,\n",
       "       0.02112916, 0.00122372, 0.00112562, 0.01534601])"
      ]
     },
     "execution_count": 62,
     "metadata": {},
     "output_type": "execute_result"
    }
   ],
   "source": [
    "returns[posretindices]"
   ]
  },
  {
   "cell_type": "code",
   "execution_count": 63,
   "metadata": {
    "collapsed": true
   },
   "outputs": [],
   "source": [
    "#在投资学中，波动率（volatility）是对价格变动的一种度量。历史波动率可以根据历史价\n",
    "#格数据计算得出。计算历史波动率（如年波动率或月波动率）时，需要用到对数收益率。年波动\n",
    "#率等于对数收益率的标准差除以其均值，再除以交易日倒数的平方根，通常交易日取252天。"
   ]
  },
  {
   "cell_type": "code",
   "execution_count": 64,
   "metadata": {},
   "outputs": [
    {
     "name": "stdout",
     "output_type": "stream",
     "text": [
      "129.27478991115132\n"
     ]
    }
   ],
   "source": [
    "annual_volatility = np.std(logreturns)/np.mean(logreturns)\n",
    "annual_volatility = annual_volatility / np.sqrt(1./252.)\n",
    "print(annual_volatility)"
   ]
  },
  {
   "cell_type": "code",
   "execution_count": 66,
   "metadata": {},
   "outputs": [
    {
     "name": "stdout",
     "output_type": "stream",
     "text": [
      "Monthly volatility 37.318417377317765\n"
     ]
    }
   ],
   "source": [
    "#请注意 sqrt 函数中的除法运算。在Python中，整数的除法和浮点数的除法运算机制不同，\n",
    "#我们必须使用浮点数才能得到正确的结果。与计算年波动率的方法类似，计算月波动率如下：\n",
    "print( \"Monthly volatility\", annual_volatility * np.sqrt(1./12.))"
   ]
  },
  {
   "cell_type": "markdown",
   "metadata": {},
   "source": [
    "### 6.日期分析"
   ]
  },
  {
   "cell_type": "code",
   "execution_count": 67,
   "metadata": {
    "collapsed": true
   },
   "outputs": [],
   "source": [
    "#首先，我们要读入收盘价数据。随后，根据星期几来切分收盘价数据，并分别计算平均价格。\n",
    "#最后，我们将找出一周中哪一天的平均收盘价最高，哪一天的最低。"
   ]
  },
  {
   "cell_type": "code",
   "execution_count": 68,
   "metadata": {
    "collapsed": true
   },
   "outputs": [],
   "source": [
    "#NumPy是面向浮点数运算的，因此需要对日期做一些专门的处理。\n",
    "def datestr2num(s):\n",
    "    return datetime.datetime.strptime(s.decode('ascii'),\"%d-%m-%Y\").date().weekday()"
   ]
  },
  {
   "cell_type": "code",
   "execution_count": 74,
   "metadata": {},
   "outputs": [
    {
     "name": "stdout",
     "output_type": "stream",
     "text": [
      "Dates = [4. 0. 1. 2. 3. 4. 0. 1. 2. 3. 4. 0. 1. 2. 3. 4. 1. 2. 3. 4. 0. 1. 2. 3.\n",
      " 4. 0. 1. 2. 3. 4.] close= [336.1  339.32 345.03 344.32 343.44 346.5  351.88 355.2  358.16 354.54\n",
      " 356.85 359.18 359.9  363.13 358.3  350.56 338.61 342.62 342.88 348.16\n",
      " 353.21 349.31 352.12 359.56 360.   355.36 355.76 352.47 346.67 351.99]\n",
      "30 30\n"
     ]
    }
   ],
   "source": [
    "#最后,调用weekday方法返回一个数字。如同你在注释中看到的,这个数字可以是0到6的整数,\n",
    "#0代表星期一,6代表星期天\n",
    "#这个参数就是 converters ，它是一本数据列和转换函数之间进行映射的字典。\n",
    "dates,close=np.loadtxt('data/data.csv', delimiter=',', \n",
    "                       usecols=(1,6), converters={1:datestr2num},unpack=True)\n",
    "print(\"Dates =\", dates,\"close=\",close)\n",
    "print(len(dates),len(close))"
   ]
  },
  {
   "cell_type": "code",
   "execution_count": 75,
   "metadata": {
    "collapsed": true
   },
   "outputs": [],
   "source": [
    "#我们来创建一个包含5个元素的数组，分别代表一周的5个工作日。数组元素将初始化为0。\n",
    "averages = np.zeros(5)\n",
    "#这个数组将用于保存各工作日的平均收盘价。"
   ]
  },
  {
   "cell_type": "code",
   "execution_count": 79,
   "metadata": {},
   "outputs": [
    {
     "name": "stdout",
     "output_type": "stream",
     "text": [
      "Day 0 prices [[339.32 351.88 359.18 353.21 355.36]] Average 351.7900000000001\n",
      "Day 1 prices [[345.03 355.2  359.9  338.61 349.31 355.76]] Average 350.63500000000005\n",
      "Day 2 prices [[344.32 358.16 363.13 342.62 352.12 352.47]] Average 352.1366666666666\n",
      "Day 3 prices [[343.44 354.54 358.3  342.88 359.56 346.67]] Average 350.8983333333333\n",
      "Day 4 prices [[336.1  346.5  356.85 350.56 348.16 360.   351.99]] Average 350.0228571428571\n"
     ]
    }
   ],
   "source": [
    "#take 函数可以按照这些索引值从数组中取出相应的元素\n",
    "for i in range(5): \n",
    "    #dates是一个数组\n",
    "    #indices也是一个数组\n",
    "    indices=np.where(dates==i)\n",
    "    #print(indices)\n",
    "    #用take函数获取这些索引值相应的元素值\n",
    "    prices=np.take(close,indices)\n",
    "    avg=np.mean(prices)\n",
    "    print(\"Day\",i,\"prices\",prices,\"Average\",avg)\n",
    "    averages[i]=avg"
   ]
  },
  {
   "cell_type": "code",
   "execution_count": 81,
   "metadata": {},
   "outputs": [
    {
     "name": "stdout",
     "output_type": "stream",
     "text": [
      "Highest average 352.1366666666666\n",
      "Top day of the week 2\n",
      "Lowest average 350.0228571428571\n",
      "Bottom day of the week 4\n"
     ]
    }
   ],
   "source": [
    "#如果你愿意，还可以找出哪个工作日的平均收盘价是最高的，哪个是最低的\n",
    "top = np.max(averages)\n",
    "print(\"Highest average\", top)\n",
    "print(\"Top day of the week\", np.argmax(averages))\n",
    "bottom = np.min(averages)\n",
    "print(\"Lowest average\", bottom)\n",
    "print(\"Bottom day of the week\", np.argmin(averages))"
   ]
  },
  {
   "cell_type": "markdown",
   "metadata": {},
   "source": [
    "### 7.周汇总"
   ]
  },
  {
   "cell_type": "code",
   "execution_count": 124,
   "metadata": {
    "collapsed": true
   },
   "outputs": [],
   "source": [
    "#我们来把苹果股票数据按周进行汇总。\n",
    "#为了简单起见，我们只考虑前三周的数据，这样就避免了节假日造成的数据缺失\n",
    "dates, open, high, low, close=np.loadtxt('data/data.csv', delimiter=',', usecols=(1, 3, 4, 5, 6), \n",
    "                                         converters={1: datestr2num}, unpack=True)\n",
    "close = close[:16]\n",
    "dates = dates[:16]"
   ]
  },
  {
   "cell_type": "code",
   "execution_count": 125,
   "metadata": {},
   "outputs": [
    {
     "data": {
      "text/plain": [
       "array([336.1 , 339.32, 345.03, 344.32, 343.44, 346.5 , 351.88, 355.2 ,\n",
       "       358.16, 354.54, 356.85, 359.18, 359.9 , 363.13, 358.3 , 350.56])"
      ]
     },
     "execution_count": 125,
     "metadata": {},
     "output_type": "execute_result"
    }
   ],
   "source": [
    "close"
   ]
  },
  {
   "cell_type": "code",
   "execution_count": 126,
   "metadata": {},
   "outputs": [
    {
     "data": {
      "text/plain": [
       "array([4., 0., 1., 2., 3., 4., 0., 1., 2., 3., 4., 0., 1., 2., 3., 4.])"
      ]
     },
     "execution_count": 126,
     "metadata": {},
     "output_type": "execute_result"
    }
   ],
   "source": [
    "dates"
   ]
  },
  {
   "cell_type": "code",
   "execution_count": 88,
   "metadata": {},
   "outputs": [
    {
     "name": "stdout",
     "output_type": "stream",
     "text": [
      "(array([ 1,  6, 11], dtype=int64),)\n"
     ]
    }
   ],
   "source": [
    "#首先我们来找到示例数据中的第一个星期一。\n",
    "print(np.where(dates == 0))"
   ]
  },
  {
   "cell_type": "code",
   "execution_count": 89,
   "metadata": {},
   "outputs": [
    {
     "name": "stdout",
     "output_type": "stream",
     "text": [
      "The first Monday index is 1\n"
     ]
    }
   ],
   "source": [
    "first_monday = np.ravel(np.where(dates == 0))[0]\n",
    "print(\"The first Monday index is\", first_monday)"
   ]
  },
  {
   "cell_type": "code",
   "execution_count": 90,
   "metadata": {},
   "outputs": [
    {
     "name": "stdout",
     "output_type": "stream",
     "text": [
      "(array([ 0,  5, 10, 15], dtype=int64),)\n",
      "The last Friday index is 15\n"
     ]
    }
   ],
   "source": [
    "#下面要做的是找到示例数据的最后一个星期五，方法和找第一个星期一类似\n",
    "print(np.where(dates == 4))\n",
    "last_friday = np.ravel(np.where(dates == 4))[-1]\n",
    "print(\"The last Friday index is\", last_friday)"
   ]
  },
  {
   "cell_type": "code",
   "execution_count": 92,
   "metadata": {},
   "outputs": [
    {
     "name": "stdout",
     "output_type": "stream",
     "text": [
      "Weeks indices initial [ 1  2  3  4  5  6  7  8  9 10 11 12 13 14 15]\n"
     ]
    }
   ],
   "source": [
    "#接下来创建一个数组，用于存储三周内每一天的索引值\n",
    "weeks_indices = np.arange(first_monday, last_friday + 1)\n",
    "print(\"Weeks indices initial\", weeks_indices)"
   ]
  },
  {
   "cell_type": "code",
   "execution_count": 93,
   "metadata": {},
   "outputs": [
    {
     "name": "stdout",
     "output_type": "stream",
     "text": [
      "Weeks indices after split [array([1, 2, 3, 4, 5], dtype=int64), array([ 6,  7,  8,  9, 10], dtype=int64), array([11, 12, 13, 14, 15], dtype=int64)]\n"
     ]
    }
   ],
   "source": [
    "#按照每个子数组5个元素，用 split 函数切分数组：\n",
    "weeks_indices = np.split(weeks_indices,3)\n",
    "print(\"Weeks indices after split\", weeks_indices)"
   ]
  },
  {
   "cell_type": "code",
   "execution_count": 95,
   "metadata": {
    "collapsed": true
   },
   "outputs": [],
   "source": [
    "#在NumPy中，数组的维度也被称作轴。现在我们来熟悉一下 apply_along_axis 函数。\n",
    "#这个函数会调用另外一个由我们给出的函数，作用于每一个数组元素上。\n",
    "#在调用apply_along_axis 时提供我们自定义的函数名 summarize ，并指定要作用的轴或维度的编号\n",
    "#（如取1）、目标数组以及可变数量的 summarize 函数的参数。"
   ]
  },
  {
   "cell_type": "code",
   "execution_count": 134,
   "metadata": {
    "collapsed": true
   },
   "outputs": [],
   "source": [
    "#weeks_indices,first_monday, high,low,last_friday\n",
    "def summarize(weeks_indices, first_monday, high, low, last_friday):\n",
    "    monday_open = first_monday[weeks_indices[0]]\n",
    "    print(\"weeks_indices[0]\",weeks_indices[0])\n",
    "    print(\"monday_open\",monday_open)\n",
    "    week_high = np.max( np.take(high, weeks_indices) )\n",
    "    print(\"week_high\",week_high)\n",
    "    week_low = np.min( np.take(low, weeks_indices) )\n",
    "    print(\"week_low\",week_low)\n",
    "    friday_close = last_friday[weeks_indices[-1]]\n",
    "    print(\"weeks_indices[-1]\",weeks_indices[-1])\n",
    "    print(\"friday_close\",friday_close)\n",
    "    print(\"==========================================================\")\n",
    "    return(\"APPL\", monday_open, week_high, week_low, friday_close)"
   ]
  },
  {
   "cell_type": "code",
   "execution_count": 135,
   "metadata": {},
   "outputs": [
    {
     "name": "stdout",
     "output_type": "stream",
     "text": [
      "weeks_indices[0] 1\n",
      "monday_open 335.8\n",
      "week_high 346.7\n",
      "week_low 334.3\n",
      "weeks_indices[-1] 5\n",
      "friday_close 346.5\n",
      "==========================================================\n",
      "weeks_indices[0] 6\n",
      "monday_open 347.89\n",
      "week_high 360.0\n",
      "week_low 347.64\n",
      "weeks_indices[-1] 10\n",
      "friday_close 356.85\n",
      "==========================================================\n",
      "weeks_indices[0] 11\n",
      "monday_open 356.79\n",
      "week_high 364.9\n",
      "week_low 349.52\n",
      "weeks_indices[-1] 15\n",
      "friday_close 350.56\n",
      "==========================================================\n",
      "Week summary [['APPL' '335.8' '346.7' '334.3' '346.5']\n",
      " ['APPL' '347.8' '360.0' '347.6' '356.8']\n",
      " ['APPL' '356.7' '364.9' '349.5' '350.5']]\n"
     ]
    }
   ],
   "source": [
    "weeksummary = np.apply_along_axis(summarize, 1, weeks_indices, open, high, low, close)\n",
    "print (\"Week summary\", weeksummary)"
   ]
  },
  {
   "cell_type": "code",
   "execution_count": 129,
   "metadata": {
    "collapsed": true
   },
   "outputs": [],
   "source": [
    "#使用NumPy中的 savetxt 函数，将数据保存至文件。使用NumPy中的 savetxt 函数，将数据保存至文件。\n",
    "np.savetxt(\"data/weeksummary.csv\", weeksummary, delimiter=\",\", fmt=\"%s\")\n",
    "#如代码中所示，我们指定了文件名、需要保存的数组名、分隔符（在这个例子中为英文标点\n",
    "#逗号）以及存储浮点数的格式。"
   ]
  },
  {
   "cell_type": "code",
   "execution_count": 136,
   "metadata": {
    "collapsed": true
   },
   "outputs": [],
   "source": [
    "#格式字符串以一个百分号开始。接下来是一个可选的标志字符： - 表示结果左对齐， 0 表示\n",
    "#左端补0， + 表示输出符号（正号 + 或负号 - ）。第三部分为可选的输出宽度参数，表示输出的\n",
    "#最小位数。第四部分是精度格式符，以\".\"开头，后面跟一个表示精度的整数。最后是一个类型指定字\n",
    "#符，在我们的例子中指定为字符串类型。"
   ]
  },
  {
   "cell_type": "markdown",
   "metadata": {},
   "source": [
    "c :单个字符<br/>\n",
    "d 或 i: 十进制有符号整数<br/>\n",
    "e 或 E :科学记数法表示的浮点数<br/>\n",
    "f:浮点数<br/>\n",
    "g 或 G： 自动在 e 、 E 和 f 中选择合适的表示法<br/>\n",
    "o:八进制有符号整数<br/>\n",
    "s:字符串<br/>\n",
    "u:十进制无符号整数<br/>\n",
    "x 或 X 十六进制无符号整数"
   ]
  },
  {
   "cell_type": "markdown",
   "metadata": {},
   "source": [
    "### 8.真实波动幅度均值（ATR）"
   ]
  },
  {
   "cell_type": "code",
   "execution_count": 138,
   "metadata": {
    "collapsed": true
   },
   "outputs": [],
   "source": [
    "#ATR（Average True Range，真实波动幅度均值）是一个用来衡量股价波动性的技术指标。\n",
    "#ATR的计算并不是重点，只是作为演示几个NumPy函数的例子，包括 maximum 函数。"
   ]
  },
  {
   "cell_type": "code",
   "execution_count": 21,
   "metadata": {},
   "outputs": [
    {
     "name": "stdout",
     "output_type": "stream",
     "text": [
      "len(h) 20 len(l) 20\n",
      "Close [21144800. 13473000. 15236800.  9242600. 14064100. 11494200. 17322100.\n",
      " 13608500. 17240800. 33162400. 13127500. 11086200. 10149000. 17184100.\n",
      " 18949000. 29144500. 31162200. 23994700. 17853500. 13572000. 14395400.\n",
      " 16290300. 21521000. 17885200. 16188000. 19504300. 12718000. 16192700.\n",
      " 18138800. 16824200.]\n"
     ]
    }
   ],
   "source": [
    "#计算真实波动幅度均值\n",
    "#按照如下步骤计算真实波动幅度均值。\n",
    "h,l=np.loadtxt('data/data.csv',delimiter=',', usecols=(5,6), unpack=True)\n",
    "c=np.loadtxt('data/data.csv', delimiter=',', usecols=(7,), unpack=True)\n",
    "#(1) ATR是基于N个交易日的最高价和最低价进行计算的，通常取最近20个交易日。\n",
    "h = h[-20:]\n",
    "l = l[-20:]\n",
    "print(\"len(h)\", len(h), \"len(l)\", len(l))\n",
    "print(\"Close\", c)"
   ]
  },
  {
   "cell_type": "code",
   "execution_count": 22,
   "metadata": {},
   "outputs": [
    {
     "name": "stdout",
     "output_type": "stream",
     "text": [
      "len(previousclose) 20\n",
      "Previous close [33162400. 13127500. 11086200. 10149000. 17184100. 18949000. 29144500.\n",
      " 31162200. 23994700. 17853500. 13572000. 14395400. 16290300. 21521000.\n",
      " 17885200. 16188000. 19504300. 12718000. 16192700. 18138800.]\n"
     ]
    }
   ],
   "source": [
    "#(2) 我们还需要知道前一个交易日的收盘价。\n",
    "previousclose = c[-20-1: -1]\n",
    "print(\"len(previousclose)\", len(previousclose))\n",
    "print(\"Previous close\", previousclose)"
   ]
  },
  {
   "cell_type": "code",
   "execution_count": 23,
   "metadata": {
    "collapsed": true
   },
   "outputs": [],
   "source": [
    "#对于每一个交易日，计算以下各项。\n",
    "#h – l 当日股价范围，即当日最高价和最低价之差。\n",
    "#h – previousclose 当日最高价和前一个交易日收盘价之差。\n",
    "#previousclose – l 前一个交易日收盘价和当日最低价之差。"
   ]
  },
  {
   "cell_type": "code",
   "execution_count": 24,
   "metadata": {},
   "outputs": [
    {
     "name": "stdout",
     "output_type": "stream",
     "text": [
      "True range [-3.31 -2.47 -2.35 -2.63 -1.78 -1.04 -0.89 -4.01 -4.51 -3.36 -2.09 -1.63\n",
      " -3.72 -3.64 -2.25 -4.05 -3.51 -1.87 -1.77 -6.99]\n"
     ]
    }
   ],
   "source": [
    "#(3) max 函数返回数组中的最大值。基于上面计算的3个数值，我们来计算所谓的真实波动幅\n",
    "#度，也就是这三者的最大值。现在我们想在一组数组之间按照元素挑选最大值——也就是在所有\n",
    "#的数组中第一个元素的最大值、第二个元素的最大值等。为此，需要用NumPy中的 maximum 函数，\n",
    "#而不是 max 函数。\n",
    "truerange = np.maximum(h - l, h - previousclose, previousclose - l)\n",
    "print(\"True range\", truerange)"
   ]
  },
  {
   "cell_type": "code",
   "execution_count": 30,
   "metadata": {},
   "outputs": [],
   "source": [
    "#(4) 创建一个长度为 N 的数组 atr ，并初始化数组元素为0。\n",
    "N=20\n",
    "atr = np.zeros(N)"
   ]
  },
  {
   "cell_type": "code",
   "execution_count": 31,
   "metadata": {},
   "outputs": [],
   "source": [
    "#(5)这个数组的首个元素就是 truerange 数组元素的平均值。\n",
    "atr[0] = np.mean(truerange)"
   ]
  },
  {
   "cell_type": "code",
   "execution_count": 33,
   "metadata": {},
   "outputs": [
    {
     "name": "stdout",
     "output_type": "stream",
     "text": [
      "ATR [-2.8935     -2.872325   -2.84620875 -2.83539831 -2.7826284  -2.69549698\n",
      " -2.60522213 -2.67546102 -2.76718797 -2.79682857 -2.76148714 -2.70491279\n",
      " -2.75566715 -2.79988379 -2.7723896  -2.83627012 -2.86995661 -2.81995878\n",
      " -2.76746084 -2.9785878 ]\n"
     ]
    }
   ],
   "source": [
    "#用如下公式计算其他元素的值：\n",
    "#[[N-1]PART+TR]/N\n",
    "##这里,PATR表示前一个交易日的ATR值,TR即当日的真实波动幅度。\n",
    "for i in range(1, 20):\n",
    "    atr[i] = (N - 1) * atr[i - 1] + truerange[i]\n",
    "    atr[i] /= N\n",
    "print(\"ATR\", atr)"
   ]
  },
  {
   "cell_type": "markdown",
   "metadata": {},
   "source": [
    "### 9.简单移动平均线"
   ]
  },
  {
   "cell_type": "markdown",
   "metadata": {},
   "source": [
    "numpy.convolve(a, v, mode=‘full’)，这是numpy函数中的卷积函数库<br/>\n",
    "　　参数：<br/>\n",
    "　　　　a:(N,)输入的一维数组<br/>\n",
    "　　　　b:(M,)输入的第二个一维数组<br/>\n",
    "　　　　mode:{‘full’, ‘valid’, ‘same’}参数可选<br/>\n",
    "　　　　　　‘full’　默认值，返回每一个卷积值，长度是N+M-1,在卷积的边缘处，信号不重叠，存在边际效应。<br/>\n",
    "　　　　　　‘same’　返回的数组长度为max(M, N),边际效应依旧存在。<br/>\n",
    "　　　　　　‘valid’ 　返回的数组长度为max(M,N)-min(M,N)+1,此时返回的是完全重叠的点。边缘的点无效。<br/>"
   ]
  },
  {
   "cell_type": "code",
   "execution_count": 34,
   "metadata": {},
   "outputs": [
    {
     "data": {
      "text/plain": [
       "array([0. , 1. , 2.5, 4. , 1.5])"
      ]
     },
     "execution_count": 34,
     "metadata": {},
     "output_type": "execute_result"
    }
   ],
   "source": [
    "np.convolve([1, 2, 3], [0, 1, 0.5])"
   ]
  },
  {
   "cell_type": "code",
   "execution_count": 35,
   "metadata": {},
   "outputs": [
    {
     "data": {
      "text/plain": [
       "array([1. , 2.5, 4. ])"
      ]
     },
     "execution_count": 35,
     "metadata": {},
     "output_type": "execute_result"
    }
   ],
   "source": [
    "np.convolve([1,2,3],[0,1,0.5], 'same')"
   ]
  },
  {
   "cell_type": "code",
   "execution_count": 36,
   "metadata": {},
   "outputs": [
    {
     "data": {
      "text/plain": [
       "array([2.5])"
      ]
     },
     "execution_count": 36,
     "metadata": {},
     "output_type": "execute_result"
    }
   ],
   "source": [
    "np.convolve([1,2,3],[0,1,0.5], 'valid')"
   ]
  },
  {
   "cell_type": "code",
   "execution_count": 37,
   "metadata": {
    "collapsed": true
   },
   "outputs": [],
   "source": [
    "#简单移动平均线（simple moving average）通常用于分析时间序列上的数据。为了计算它，\n",
    "#我们需要定义一个N个周期的移动窗口，在我们的例子中即N个交易日。我们按照时间序列滑动\n",
    "#这个窗口，并计算窗口内数据的均值。"
   ]
  },
  {
   "cell_type": "code",
   "execution_count": 41,
   "metadata": {
    "collapsed": true
   },
   "outputs": [],
   "source": [
    "#计算简单移动平均线\n",
    "#移动平均线只需要少量的循环和均值函数即可计算得出，但使用NumPy还有更优的选\n",
    "#择—— convolve 函数。简单移动平均线只不过是计算与等权重的指示函数的卷积，当然，也可\n",
    "#以是不等权重的。\n",
    "#卷积是分析数学中一种重要的运算，定义为一个函数与经过翻转和平移的另一个函数的乘积的积分。"
   ]
  },
  {
   "cell_type": "code",
   "execution_count": 42,
   "metadata": {
    "collapsed": true
   },
   "outputs": [],
   "source": [
    "#按照如下步骤计算简单移动平均线。"
   ]
  },
  {
   "cell_type": "code",
   "execution_count": 54,
   "metadata": {},
   "outputs": [
    {
     "name": "stdout",
     "output_type": "stream",
     "text": [
      "Weights [0.2 0.2 0.2 0.2 0.2]\n"
     ]
    }
   ],
   "source": [
    "#(1) 使用 ones 函数创建一个长度为 N 的元素均初始化为1的数组，然后对整个数组除以 N ，即\n",
    "#可得到权重。如下所示：\n",
    "N = 5\n",
    "weights = np.ones(N) / N\n",
    "print(\"Weights\", weights)"
   ]
  },
  {
   "cell_type": "code",
   "execution_count": 59,
   "metadata": {},
   "outputs": [
    {
     "name": "stdout",
     "output_type": "stream",
     "text": [
      "30\n",
      "26\n"
     ]
    },
    {
     "data": {
      "text/plain": [
       "array([341.642, 343.722, 346.234, 348.268, 351.036, 353.256, 355.326,\n",
       "       356.786, 357.726, 358.72 , 359.472, 358.214, 354.1  , 350.644,\n",
       "       346.594, 344.566, 345.096, 347.236, 349.136, 352.472, 354.84 ,\n",
       "       355.27 , 356.56 , 356.63 , 354.052, 352.45 ])"
      ]
     },
     "execution_count": 59,
     "metadata": {},
     "output_type": "execute_result"
    }
   ],
   "source": [
    "#(2) 使用这些权重值，调用 convolve 函数：\n",
    "#6为最低价\n",
    "c = np.loadtxt('data/data.csv', delimiter=',', usecols=(6,), unpack=True)\n",
    "print(len(c))\n",
    "#34-8=26\n",
    "sma = np.convolve(weights, c)[N-1:-N+1]\n",
    "print(len(sma))\n",
    "sma"
   ]
  },
  {
   "cell_type": "code",
   "execution_count": 60,
   "metadata": {},
   "outputs": [
    {
     "data": {
      "image/png": "[encoded data removed]",
      "text/plain": [
       "<matplotlib.figure.Figure at 0xe1866a0>"
      ]
     },
     "metadata": {},
     "output_type": "display_data"
    }
   ],
   "source": [
    "t = np.arange(N-1, len(c))\n",
    "plt.plot(t,c[N-1:], lw=1.0)\n",
    "plt.plot(t,sma, lw=2.0)\n",
    "plt.show()"
   ]
  },
  {
   "cell_type": "markdown",
   "metadata": {},
   "source": [
    "### 10.指数移动平均线"
   ]
  },
  {
   "cell_type": "code",
   "execution_count": 177,
   "metadata": {
    "collapsed": true
   },
   "outputs": [],
   "source": [
    "#除了简单移动平均线，指数移动平均线（exponential moving average）也是一种流行的技术\n",
    "#指标。指数移动平均线使用的权重是指数衰减的。对历史上的数据点赋予的权重以指数速度减小，\n",
    "#但永远不会到达0。我们将在计算权重的过程中学习 exp 和 linspace 函数。"
   ]
  },
  {
   "cell_type": "code",
   "execution_count": 61,
   "metadata": {},
   "outputs": [
    {
     "name": "stdout",
     "output_type": "stream",
     "text": [
      "Exp [ 1.          2.71828183  7.3890561  20.08553692 54.59815003]\n"
     ]
    }
   ],
   "source": [
    "#给定一个数组， exp 函数可以计算出每个数组元素的指数\n",
    "x = np.arange(5)\n",
    "print(\"Exp\", np.exp(x))"
   ]
  },
  {
   "cell_type": "code",
   "execution_count": 62,
   "metadata": {},
   "outputs": [
    {
     "name": "stdout",
     "output_type": "stream",
     "text": [
      "Linspace [-1.   -0.75 -0.5  -0.25  0.  ]\n"
     ]
    }
   ],
   "source": [
    "#linspace 函数需要一个起始值和一个终止值参数，以及可选的元素个数的参数，它将返回\n",
    "#一个元素值在指定的范围内均匀分布的数组。\n",
    "print(\"Linspace\", np.linspace(-1, 0, 5))"
   ]
  },
  {
   "cell_type": "code",
   "execution_count": 65,
   "metadata": {},
   "outputs": [
    {
     "name": "stdout",
     "output_type": "stream",
     "text": [
      "Weights [0.11405072 0.14644403 0.18803785 0.24144538 0.31002201]\n"
     ]
    },
    {
     "data": {
      "image/png": "[encoded data removed]",
      "text/plain": [
       "<matplotlib.figure.Figure at 0x10453c88>"
      ]
     },
     "metadata": {},
     "output_type": "display_data"
    }
   ],
   "source": [
    "#下面我们来对示例数据计算指数移动平均线。\n",
    "#(1) 还是回到权重的计算——这次使用 exp 和 linspace 函数。\n",
    "N = int(5)\n",
    "weights = np.exp(np.linspace(-1. , 0. , N))\n",
    "#(2) 对权重值做归一化处理。我们将用到 ndarray 对象的 sum 方法。\n",
    "weights /= weights.sum()\n",
    "print(\"Weights\", weights)\n",
    "#在N = 5时，我们得到的权重值如下：\n",
    "##6为最低价\n",
    "c = np.loadtxt('data/data.csv', delimiter=',', usecols=(6,), unpack=True)\n",
    "ema = np.convolve(weights, c)[N-1:-N+1]\n",
    "#(3) 接下来就很容易了，我们只需要使用在简单移动平均线一节中学习到的 convolve 函数即\n",
    "#可。同样，我们还是将结果绘制出来。\n",
    "t = np.arange(N - 1, len(c))\n",
    "plt.plot(t, c[N-1:], lw=1.0)\n",
    "plt.plot(t, ema, lw=2.0)\n",
    "plt.show()"
   ]
  },
  {
   "cell_type": "markdown",
   "metadata": {},
   "source": [
    "### 11.布林带"
   ]
  },
  {
   "cell_type": "code",
   "execution_count": 66,
   "metadata": {
    "collapsed": true
   },
   "outputs": [],
   "source": [
    "#布林带（Bollinger band）又是一种技术指标。是的，股票市场的确有成千上万种技术指标。\n",
    "#布林带是以发明者约翰·布林格（John Bollinger）的名字命名的，用以刻画价格波动的区间。布\n",
    "#林带的基本型态是由三条轨道线组成的带状通道（中轨和上、下轨各一条）。"
   ]
  },
  {
   "cell_type": "code",
   "execution_count": 67,
   "metadata": {
    "collapsed": true
   },
   "outputs": [],
   "source": [
    "#中轨 简单移动平均线。\n",
    "#上轨 比简单移动平均线高两倍标准差的距离。这里的标准差是指计算简单移动平均线所用数据的\n",
    "#标准差。\n",
    "#下轨 比简单移动平均线低两倍标准差的距离。"
   ]
  },
  {
   "cell_type": "code",
   "execution_count": 190,
   "metadata": {
    "collapsed": true
   },
   "outputs": [],
   "source": [
    "#绘制布林带\n",
    "#接下来的例子将介绍NumPy中的 fill 函数。 fill 函数可以将数组元素的值全部设置为一个指定\n",
    "#的标量值，它的执行速度比使用 array.flat = scalar 或者用循环遍历数组赋值的方法更快。\n",
    "#按照如下步骤绘制布林带。"
   ]
  },
  {
   "cell_type": "code",
   "execution_count": 68,
   "metadata": {},
   "outputs": [
    {
     "name": "stdout",
     "output_type": "stream",
     "text": [
      "30\n",
      "5\n",
      "26 26\n",
      "[329.23044409 335.70890572 318.53386282 321.90858271 327.74175968\n",
      " 331.5628136  337.94259734 343.84172744 339.99900409 336.58687297\n",
      " 333.15550418 328.64879207 323.61483771 327.25667796 334.30323599\n",
      " 335.79295948 326.55905786 324.27329493 325.47601386 332.85867025\n",
      " 341.63882551 348.75558399 348.48014357 348.01342992 343.56371701\n",
      " 341.85163786]\n",
      "[336.1  339.32 345.03 344.32 343.44 346.5  351.88 355.2  358.16 354.54\n",
      " 356.85 359.18 359.9  363.13 358.3  350.56 338.61 342.62 342.88 348.16\n",
      " 353.21 349.31 352.12 359.56 360.   355.36]\n",
      "[354.05355591 351.73509428 373.93413718 374.62741729 374.33024032\n",
      " 374.9491864  372.70940266 369.73027256 375.45299591 380.85312703\n",
      " 385.78849582 387.77920793 384.58516229 374.03132204 358.88476401\n",
      " 353.33904052 363.63294214 370.19870507 372.79598614 372.08532975\n",
      " 368.04117449 361.78441601 364.63985643 365.24657008 364.54028299\n",
      " 363.04836214]\n",
      "Ratio between bands 1.0\n"
     ]
    },
    {
     "data": {
      "image/png": "[encoded data removed]",
      "text/plain": [
       "<matplotlib.figure.Figure at 0x10334c50>"
      ]
     },
     "metadata": {},
     "output_type": "display_data"
    }
   ],
   "source": [
    "#我们已经有一个名为 sma 的数组，包含了简单移动平均线的数据。因此，我们首先要遍\n",
    "#历和这些值有关的数据子集。数据子集构建完成后，计算其标准差。注意，从某种意义上来说，\n",
    "#我们必须去计算每一个数据点与相应平均值之间的差值。如果不使用NumPy，我们只能遍历所有\n",
    "#的数据点并逐一减去相应的平均值。幸运的是，NumPy中的 fill 函数可以构建元素值完全相同\n",
    "#的数组。这可以让我们省去一层循环，当然也就省去了这个循环内作差的步骤。\n",
    "deviation = []\n",
    "#c为最低价\n",
    "C = len(c)\n",
    "print(C)#30\n",
    "print(N)#5\n",
    "#(4,30)\n",
    "for i in range(N - 1, C):\n",
    "    #4,5,6,.....,24\n",
    "    #9,10,......,29\n",
    "    if i + N < C:\n",
    "        dev = c[i: i + N]\n",
    "    #25,26,......,29\n",
    "    else:\n",
    "        dev = c[-N:]\n",
    "    averages = np.zeros(N)\n",
    "    #fill函数填充数据\n",
    "    #-2,-1,0,......,23\n",
    "    averages.fill(sma[i - N - 1])\n",
    "    dev = dev - averages\n",
    "    dev = dev ** 2\n",
    "    dev = np.sqrt(np.mean(dev))\n",
    "    deviation.append(dev)\n",
    "deviation = 2 * np.array(deviation)\n",
    "print(len(deviation), len(sma))\n",
    "upperBB = sma + deviation\n",
    "lowerBB = sma - deviation\n",
    "c_slice = c[N-1:]\n",
    "between_bands = np.where((c_slice < upperBB) & (c_slice > lowerBB))\n",
    "print(lowerBB[between_bands])\n",
    "print(c[between_bands])\n",
    "print(upperBB[between_bands])\n",
    "between_bands = len(np.ravel(between_bands))\n",
    "print(\"Ratio between bands\", float(between_bands)/len(c_slice))\n",
    "#(2) 使用如下代码绘制布林带\n",
    "t = np.arange(N - 1, C)\n",
    "plt.plot(t, c_slice, lw=1.0)\n",
    "plt.plot(t, sma, lw=2.0)\n",
    "plt.plot(t, upperBB, lw=3.0)\n",
    "plt.plot(t, lowerBB, lw=4.0)\n",
    "plt.show()"
   ]
  },
  {
   "cell_type": "code",
   "execution_count": 194,
   "metadata": {
    "collapsed": true
   },
   "outputs": [],
   "source": [
    "#NumPy中 fill 函数的用法。该函数可以用一个指定的标量值填充数组，\n",
    "#而这个标量值也是 fill 函数唯一的参数。"
   ]
  },
  {
   "cell_type": "code",
   "execution_count": 195,
   "metadata": {
    "collapsed": true
   },
   "outputs": [],
   "source": [
    "#人们通常将简单移动平均线作为布林带的中轨线。而以指数移动平均线作为中轨线也是一\n",
    "#种流行的做法，因此我们将它留作练习。"
   ]
  },
  {
   "cell_type": "code",
   "execution_count": 69,
   "metadata": {
    "collapsed": true
   },
   "outputs": [],
   "source": [
    "#验证一下 fill 函数的执行速度是否真的比使用 array.flat = scalar 或者用循环遍历\n",
    "#数组赋值的方法更快。"
   ]
  },
  {
   "cell_type": "markdown",
   "metadata": {},
   "source": [
    "### 12.线性模型"
   ]
  },
  {
   "cell_type": "code",
   "execution_count": 197,
   "metadata": {
    "collapsed": true
   },
   "outputs": [],
   "source": [
    "#NumPy的 linalg 包是专门用于线性代数计算的。下面的工作基于一个假设，\n",
    "#就是一个价格可以根据N个之前的价格利用线性模型计算得出。"
   ]
  },
  {
   "cell_type": "code",
   "execution_count": 198,
   "metadata": {
    "collapsed": true
   },
   "outputs": [],
   "source": [
    "#用线性模型预测价格"
   ]
  },
  {
   "cell_type": "code",
   "execution_count": 70,
   "metadata": {
    "collapsed": true
   },
   "outputs": [],
   "source": [
    "#我们姑且假设，一个股价可以用之前股价的线性组合表示出来，也就是说，这个股价等于之\n",
    "#前的股价与各自的系数相乘后再做加和的结果，这些系数是需要我们来确定的。用线性代数的术\n",
    "#语来讲，这就是解一个最小二乘法的问题。步骤如下。"
   ]
  },
  {
   "cell_type": "code",
   "execution_count": 77,
   "metadata": {},
   "outputs": [
    {
     "name": "stdout",
     "output_type": "stream",
     "text": [
      "5\n",
      "[355.36 355.76 352.47 346.67 351.99]\n",
      "b [351.99 346.67 352.47 355.76 355.36]\n"
     ]
    }
   ],
   "source": [
    "##6为最低价\n",
    "c = np.loadtxt('data/data.csv', delimiter=',', usecols=(6,), unpack=True)\n",
    "#(1) 首先，获取一个包含N个股价的向量 b 。\n",
    "b = c[-N:]\n",
    "print(len(b))\n",
    "print(b)\n",
    "b = b[::-1]\n",
    "print(\"b\", b)"
   ]
  },
  {
   "cell_type": "code",
   "execution_count": 74,
   "metadata": {},
   "outputs": [
    {
     "name": "stdout",
     "output_type": "stream",
     "text": [
      "Zeros N by N [[0. 0. 0. 0. 0.]\n",
      " [0. 0. 0. 0. 0.]\n",
      " [0. 0. 0. 0. 0.]\n",
      " [0. 0. 0. 0. 0.]\n",
      " [0. 0. 0. 0. 0.]]\n"
     ]
    }
   ],
   "source": [
    "#(2) 第二步，初始化一个N×N的二维数组 A ，元素全部为 0 。\n",
    "A = np.zeros((N, N), float)\n",
    "print(\"Zeros N by N\", A)"
   ]
  },
  {
   "cell_type": "code",
   "execution_count": 75,
   "metadata": {},
   "outputs": [
    {
     "name": "stdout",
     "output_type": "stream",
     "text": [
      "A [[360.   355.36 355.76 352.47 346.67]\n",
      " [359.56 360.   355.36 355.76 352.47]\n",
      " [352.12 359.56 360.   355.36 355.76]\n",
      " [349.31 352.12 359.56 360.   355.36]\n",
      " [353.21 349.31 352.12 359.56 360.  ]]\n"
     ]
    }
   ],
   "source": [
    "#(3) 第三步，用 b 向量中的N个股价值填充数组 A 。\n",
    "for i in range(N):\n",
    "    A[i, ] = c[-N - 1 - i: - 1 - i]\n",
    "print(\"A\", A)"
   ]
  },
  {
   "cell_type": "code",
   "execution_count": 97,
   "metadata": {},
   "outputs": [
    {
     "name": "stdout",
     "output_type": "stream",
     "text": [
      "[ 0.78111069 -1.44411737  1.63563225 -0.89905126  0.92009049] = [] = 5 = [1.77736601e+03 1.49622969e+01 8.75528492e+00 5.15099261e+00\n",
      " 1.75199608e+00]\n"
     ]
    },
    {
     "name": "stderr",
     "output_type": "stream",
     "text": [
      "C:\\Users\\zsx\\Anaconda3\\lib\\site-packages\\ipykernel_launcher.py:4: FutureWarning: `rcond` parameter will change to the default of machine precision times ``max(M, N)`` where M and N are the input matrix dimensions.\n",
      "To use the future default and silence this warning we advise to pass `rcond=None`, to keep using the old, explicitly pass `rcond=-1`.\n",
      "  after removing the cwd from sys.path.\n"
     ]
    }
   ],
   "source": [
    "#(4) 我们的目标是确定线性模型中的那些系数，以解决最小平方和的问题。我们使用 linalg\n",
    "#包中的 lstsq 函数来完成这个任务。\n",
    "##返回的元组中包含稍后要用到的系数向量 x 、一个残差数组、 A 的秩以及 A 的奇异值。\n",
    "(x, residuals, rank, s) = np.linalg.lstsq(A, b)\n",
    "print(x, \"=\",residuals,\"=\", rank,\"=\", s)"
   ]
  },
  {
   "cell_type": "code",
   "execution_count": null,
   "metadata": {
    "collapsed": true
   },
   "outputs": [],
   "source": [
    "#(5) 一旦得到了线性模型中的系数，我们就可以预测下一次的股价了。使用NumPy中的 dot\n",
    "#函数计算系数向量与最近N个价格构成的向量的点积（dot product）。"
   ]
  },
  {
   "cell_type": "code",
   "execution_count": 80,
   "metadata": {},
   "outputs": [
    {
     "name": "stdout",
     "output_type": "stream",
     "text": [
      "357.9391610152338\n"
     ]
    }
   ],
   "source": [
    "print(np.dot(b, x))"
   ]
  },
  {
   "cell_type": "markdown",
   "metadata": {},
   "source": [
    "### 13.趋势线"
   ]
  },
  {
   "cell_type": "code",
   "execution_count": 206,
   "metadata": {
    "collapsed": true
   },
   "outputs": [],
   "source": [
    "#趋势线，是根据股价走势图上很多所谓的枢轴点绘成的曲线。顾名思义，趋势线描绘的是价\n",
    "#格变化的趋势。过去的股民们在纸上用手绘制趋势线，而现在我们可以让计算机来帮助我们作图。\n",
    "#在这一节的教程中，我们将用非常简易的方法来绘制趋势线，可能在实际生活中不是很奏效，但\n",
    "#这应该能将趋势线的原理阐述清楚。"
   ]
  },
  {
   "cell_type": "code",
   "execution_count": 81,
   "metadata": {
    "collapsed": true
   },
   "outputs": [],
   "source": [
    "#绘制趋势线\n",
    "#按照如下步骤绘制趋势线。\n",
    "#(1) 首先，我们需要确定枢轴点的位置。\n",
    "#这里，我们假设它们等于最高价、最低价和收盘价的算术平均值。"
   ]
  },
  {
   "cell_type": "code",
   "execution_count": 82,
   "metadata": {
    "collapsed": true
   },
   "outputs": [],
   "source": [
    "#最高价,最低价,收盘价\n",
    "h, l, c = np.loadtxt('data/data.csv', delimiter=',', usecols=(4, 5, 6), unpack=True)"
   ]
  },
  {
   "cell_type": "code",
   "execution_count": 83,
   "metadata": {},
   "outputs": [
    {
     "data": {
      "text/plain": [
       "array([344.4 , 340.04, 345.65, 345.25, 344.24, 346.7 , 353.25, 355.52,\n",
       "       359.  , 360.  , 357.8 , 359.48, 359.97, 364.9 , 360.27, 359.5 ,\n",
       "       345.4 , 344.64, 345.15, 348.43, 355.05, 355.72, 354.35, 359.79,\n",
       "       360.29, 361.67, 357.4 , 354.76, 349.77, 352.32])"
      ]
     },
     "execution_count": 83,
     "metadata": {},
     "output_type": "execute_result"
    }
   ],
   "source": [
    "h"
   ]
  },
  {
   "cell_type": "code",
   "execution_count": 84,
   "metadata": {},
   "outputs": [
    {
     "data": {
      "text/plain": [
       "array([333.53, 334.3 , 340.98, 343.55, 338.55, 343.51, 347.64, 352.15,\n",
       "       354.87, 348.  , 353.54, 356.71, 357.55, 360.5 , 356.52, 349.52,\n",
       "       337.72, 338.61, 338.37, 344.8 , 351.12, 347.68, 348.4 , 355.92,\n",
       "       357.75, 351.31, 352.25, 350.6 , 344.9 , 345.  ])"
      ]
     },
     "execution_count": 84,
     "metadata": {},
     "output_type": "execute_result"
    }
   ],
   "source": [
    "l"
   ]
  },
  {
   "cell_type": "code",
   "execution_count": 85,
   "metadata": {},
   "outputs": [
    {
     "data": {
      "text/plain": [
       "array([336.1 , 339.32, 345.03, 344.32, 343.44, 346.5 , 351.88, 355.2 ,\n",
       "       358.16, 354.54, 356.85, 359.18, 359.9 , 363.13, 358.3 , 350.56,\n",
       "       338.61, 342.62, 342.88, 348.16, 353.21, 349.31, 352.12, 359.56,\n",
       "       360.  , 355.36, 355.76, 352.47, 346.67, 351.99])"
      ]
     },
     "execution_count": 85,
     "metadata": {},
     "output_type": "execute_result"
    }
   ],
   "source": [
    "c"
   ]
  },
  {
   "cell_type": "code",
   "execution_count": 86,
   "metadata": {},
   "outputs": [
    {
     "name": "stdout",
     "output_type": "stream",
     "text": [
      "Pivots [338.01       337.88666667 343.88666667 344.37333333 342.07666667\n",
      " 345.57       350.92333333 354.29       357.34333333 354.18\n",
      " 356.06333333 358.45666667 359.14       362.84333333 358.36333333\n",
      " 353.19333333 340.57666667 341.95666667 342.13333333 347.13\n",
      " 353.12666667 350.90333333 351.62333333 358.42333333 359.34666667\n",
      " 356.11333333 355.13666667 352.61       347.11333333 349.77      ]\n"
     ]
    }
   ],
   "source": [
    "pivots = (h + l + c ) / 3\n",
    "print(\"Pivots\", pivots)"
   ]
  },
  {
   "cell_type": "code",
   "execution_count": 87,
   "metadata": {
    "collapsed": true
   },
   "outputs": [],
   "source": [
    "#从这些枢轴点出发，我们可以推导出所谓的阻力位和支撑位。阻力位是指股价上升时遇到阻\n",
    "#力，在转跌前的最高价格；支撑位是指股价下跌时遇到支撑，在反弹前的最低价格。需要提醒的\n",
    "#是，阻力位和支撑位并非客观存在，它们只是一个估计量。基于这些估计量，我们就可以绘制出\n",
    "#阻力位和支撑位的趋势线。我们定义当日股价区间为最高价与最低价之差。"
   ]
  },
  {
   "cell_type": "code",
   "execution_count": 88,
   "metadata": {
    "collapsed": true
   },
   "outputs": [],
   "source": [
    "#(2) 定义一个函数用直线 y= at + b 来拟合数据，该函数应返回系数 a 和 b 。这里需要再次用\n",
    "#到 linalg 包中的 lstsq 函数。将直线方程重写为 y = Ax 的形式，其中 A = [t 1] ， x = [a b] 。\n",
    "#使用 ones_like 和 vstack 函数来构造数组 A 。"
   ]
  },
  {
   "cell_type": "code",
   "execution_count": 101,
   "metadata": {
    "collapsed": true
   },
   "outputs": [],
   "source": [
    "def fit_line(t, y):\n",
    "    A = np.vstack([t, np.ones_like(t)]).T\n",
    "    print(A.shape)\n",
    "    print(np.linalg.lstsq(A, y))\n",
    "    return np.linalg.lstsq(A, y)[0]"
   ]
  },
  {
   "cell_type": "code",
   "execution_count": 102,
   "metadata": {
    "collapsed": true
   },
   "outputs": [],
   "source": [
    "#(3) 假设支撑位在枢轴点下方一个当日股价区间的位置，而阻力位在枢轴点上方一个当日股\n",
    "#价区间的位置，据此拟合支撑位和阻力位的趋势线。"
   ]
  },
  {
   "cell_type": "code",
   "execution_count": 104,
   "metadata": {},
   "outputs": [
    {
     "name": "stdout",
     "output_type": "stream",
     "text": [
      "[ 0  1  2  3  4  5  6  7  8  9 10 11 12 13 14 15 16 17 18 19 20 21 22 23\n",
      " 24 25 26 27 28 29]\n",
      "(30, 2)\n",
      "(array([2.66605117e-01, 3.41391004e+02]), array([1755.96858]), 2, array([92.61284461,  2.80374979]))\n",
      "(30, 2)\n",
      "(array([2.90444939e-01, 3.52035993e+02]), array([1149.64982025]), 2, array([92.61284461,  2.80374979]))\n"
     ]
    },
    {
     "name": "stderr",
     "output_type": "stream",
     "text": [
      "C:\\Users\\zsx\\Anaconda3\\lib\\site-packages\\ipykernel_launcher.py:4: FutureWarning: `rcond` parameter will change to the default of machine precision times ``max(M, N)`` where M and N are the input matrix dimensions.\n",
      "To use the future default and silence this warning we advise to pass `rcond=None`, to keep using the old, explicitly pass `rcond=-1`.\n",
      "  after removing the cwd from sys.path.\n",
      "C:\\Users\\zsx\\Anaconda3\\lib\\site-packages\\ipykernel_launcher.py:5: FutureWarning: `rcond` parameter will change to the default of machine precision times ``max(M, N)`` where M and N are the input matrix dimensions.\n",
      "To use the future default and silence this warning we advise to pass `rcond=None`, to keep using the old, explicitly pass `rcond=-1`.\n",
      "  \"\"\"\n"
     ]
    }
   ],
   "source": [
    "t = np.arange(len(c))\n",
    "print(t)\n",
    "sa, sb = fit_line(t, pivots - (h - l))\n",
    "ra, rb = fit_line(t, pivots + (h - l))\n",
    "support = sa * t + sb\n",
    "resistance = ra * t + rb"
   ]
  },
  {
   "cell_type": "code",
   "execution_count": 105,
   "metadata": {
    "collapsed": true
   },
   "outputs": [],
   "source": [
    "#(4) 到这里我们已经获得了绘制趋势线所需要的全部数据。但是，我们最好检查一下有多少\n",
    "#个数据点落在支撑位和阻力位之间。显然，如果只有一小部分数据在这两条趋势线之间，这样的\n",
    "#设定就没有意义。设置一个判断数据点是否位于趋势线之间的条件，作为 where 函数的参数。"
   ]
  },
  {
   "cell_type": "code",
   "execution_count": 107,
   "metadata": {},
   "outputs": [
    {
     "name": "stdout",
     "output_type": "stream",
     "text": [
      "Condition [False False  True  True  True  True  True False False  True False False\n",
      " False False False  True False False False  True  True  True  True False\n",
      " False  True  True  True False  True]\n",
      "between_bands (array([ 2,  3,  4,  5,  6,  9, 15, 19, 20, 21, 22, 25, 26, 27, 29],\n",
      "      dtype=int64),)\n"
     ]
    }
   ],
   "source": [
    "condition = (c > support) & (c < resistance)\n",
    "print(\"Condition\", condition)\n",
    "between_bands = np.where(condition)\n",
    "print(\"between_bands\",between_bands)\n",
    "#以下是根据条件判断的布尔值："
   ]
  },
  {
   "cell_type": "code",
   "execution_count": 108,
   "metadata": {},
   "outputs": [
    {
     "name": "stdout",
     "output_type": "stream",
     "text": [
      "[341.92421382 342.19081893 342.45742405 342.72402917 342.99063429\n",
      " 343.79044964 345.39008034 346.4565008  346.72310592 346.98971104\n",
      " 347.25631615 348.0561315  348.32273662 348.58934174 349.12255197]\n",
      "[345.03 344.32 343.44 346.5  351.88 354.54 350.56 348.16 353.21 349.31\n",
      " 352.12 355.36 355.76 352.47 351.99]\n",
      "[352.61688271 352.90732765 353.19777259 353.48821753 353.77866246\n",
      " 354.64999728 356.39266691 357.55444667 357.84489161 358.13533655\n",
      " 358.42578149 359.2971163  359.58756124 359.87800618 360.45889606]\n"
     ]
    }
   ],
   "source": [
    "#复查一下具体取值：\n",
    "print(support[between_bands])\n",
    "print(c[between_bands])\n",
    "print (resistance[between_bands])"
   ]
  },
  {
   "cell_type": "code",
   "execution_count": 109,
   "metadata": {},
   "outputs": [
    {
     "name": "stdout",
     "output_type": "stream",
     "text": [
      "Number points between bands 15\n",
      "Ratio between bands 0.5\n"
     ]
    }
   ],
   "source": [
    "#注意， where 函数返回的是一个秩为2的数组，因此在使用 len 函数之前需要调用 ravel 函数。\n",
    "between_bands = len(np.ravel(between_bands))\n",
    "print (\"Number points between bands\", between_bands)\n",
    "print (\"Ratio between bands\", float(between_bands)/len(c))"
   ]
  },
  {
   "cell_type": "code",
   "execution_count": 110,
   "metadata": {},
   "outputs": [
    {
     "name": "stdout",
     "output_type": "stream",
     "text": [
      "Tomorrows support 349.38915708812254\n",
      "Tomorrows resistance 360.7493409961686\n"
     ]
    }
   ],
   "source": [
    "#我们还得到了一个额外的奖励：一个新的预测模型。我们可以用这个模型来预测下一个交易\n",
    "#日的阻力位和支撑位。\n",
    "print( \"Tomorrows support\", sa * (t[-1] + 1) + sb)\n",
    "print (\"Tomorrows resistance\", ra * (t[-1] + 1) + rb)"
   ]
  },
  {
   "cell_type": "code",
   "execution_count": 113,
   "metadata": {},
   "outputs": [
    {
     "name": "stdout",
     "output_type": "stream",
     "text": [
      "Number of points between bands 2nd approach 15\n"
     ]
    }
   ],
   "source": [
    "#此外，还有另外一种计算支撑位和阻力位之间数据点个数的方法：使用 [] 和 intersect1d\n",
    "#函数。在 [] 操作符里面定义选取条件，然后用 intersect1d 函数计算两者相交的结果。\n",
    "a1 = c[c > support]\n",
    "a2 = c[c < resistance]\n",
    "print(\"Number of points between bands 2nd approach\" ,len(np. intersect1d(a1, a2)))"
   ]
  },
  {
   "cell_type": "code",
   "execution_count": 115,
   "metadata": {},
   "outputs": [
    {
     "data": {
      "image/png": "[encoded data removed]",
      "text/plain": [
       "<matplotlib.figure.Figure at 0x10575a90>"
      ]
     },
     "metadata": {},
     "output_type": "display_data"
    }
   ],
   "source": [
    "#(5) 我们再次将结果绘制出来，如下所示：\n",
    "plt.plot(t, c)\n",
    "plt.plot(t, support)\n",
    "plt.plot(t, resistance)\n",
    "plt.show()"
   ]
  },
  {
   "cell_type": "code",
   "execution_count": null,
   "metadata": {
    "collapsed": true
   },
   "outputs": [],
   "source": [
    "#随后，我们用两种不同的方法分别计算了有多少个数据点落在支撑位和阻力位之间的范围内，\n",
    "#并得到了一致的结果。\n",
    "#第一种方法使用 where 函数和一个条件表达式。第二种方法使用 [] 操作符和 intersect1d 函\n",
    "#数。 intersect1d 函数返回一个由两个数组的所有公共元素构成的数组。"
   ]
  },
  {
   "cell_type": "markdown",
   "metadata": {},
   "source": [
    "### 14.ndarray 对象的方法"
   ]
  },
  {
   "cell_type": "markdown",
   "metadata": {},
   "source": [
    "ndarray 对象的方法相当多，我们无法在这里逐一介绍。前面遇到的 var 、 sum 、 std 、 argmax 、\n",
    "argmin 以及 mean 函数也均为 ndarray 方法。"
   ]
  },
  {
   "cell_type": "markdown",
   "metadata": {},
   "source": [
    "average:加权平均<br/>\n",
    "mean:算术平均<br/>\n",
    "max:最大<br/>\n",
    "min:最小<br/>\n",
    "ptp:极差<br/>\n",
    "median:中位数<br/>\n",
    "var:方差<br/>\n",
    "diff:一个由相邻数组元素的差值构成的数组<br/>\n",
    "std:标准差<br/>\n",
    "log:去对数<br/>\n",
    "where:判断，返回的是数组的下标<br/>\n",
    "sqrt:平方<br/>\n",
    "take(close,indices)：从close中取出indices下标对应的值<br/>\n",
    "argmax:返回的是 averages 数组中最大元素的索引值<br/>\n",
    "argmin:返回的是 averages 数组中最小元素的索引值<br/>\n",
    "split:分割<br/>\n",
    "apply_along_axis：<br/>\n",
    "maximum：<br/>\n",
    "convolve:<br/>\n",
    "fill:<br/>\n",
    "np.linalg.lstsq(A, b):<br/>\n",
    "np.dot(b, x):<br/>\n",
    "np. intersect1d<br/>\n",
    "clip:<br/>\n",
    "compress:<br/>\n",
    "prod:<br/>\n",
    "cumprod:<br/>"
   ]
  },
  {
   "cell_type": "markdown",
   "metadata": {},
   "source": [
    "### 15.数组的修剪和压缩"
   ]
  },
  {
   "cell_type": "code",
   "execution_count": 116,
   "metadata": {},
   "outputs": [
    {
     "name": "stdout",
     "output_type": "stream",
     "text": [
      "a = [0 1 2 3 4]\n",
      "Clipped [1 1 2 2 2]\n"
     ]
    }
   ],
   "source": [
    "#这里给出少量使用 ndarray 方法的例子。按如下步骤对数组进行修剪和压缩操作。\n",
    "#(1) clip 方法返回一个修剪过的数组，也就是将所有比给定最大值还大的元素全部设为给定\n",
    "#的最大值，而所有比给定最小值还小的元素全部设为给定的最小值。例如，设定范围1到2对0到4\n",
    "#的整数数组进行修剪：\n",
    "a = np.arange(5)\n",
    "print(\"a =\", a)\n",
    "print(\"Clipped\", a.clip(1, 2))"
   ]
  },
  {
   "cell_type": "code",
   "execution_count": 118,
   "metadata": {},
   "outputs": [
    {
     "name": "stdout",
     "output_type": "stream",
     "text": [
      "[0 1 2 3]\n",
      "Compressed [3]\n"
     ]
    }
   ],
   "source": [
    "#(2) compress 方法返回一个根据给定条件筛选后的数组。例如：\n",
    "a = np.arange(4)\n",
    "print( a)\n",
    "print (\"Compressed\", a.compress(a > 2))"
   ]
  },
  {
   "cell_type": "markdown",
   "metadata": {},
   "source": [
    "### 16.阶乘"
   ]
  },
  {
   "cell_type": "code",
   "execution_count": 119,
   "metadata": {},
   "outputs": [
    {
     "name": "stdout",
     "output_type": "stream",
     "text": [
      "b = [1 2 3 4 5 6 7 8]\n",
      "Factorial 40320\n"
     ]
    }
   ],
   "source": [
    "#ndarray 类有一个 prod 方法，可以计算数组中所有元素的乘积。按如下步骤计算阶乘。\n",
    "#(1) 计算8的阶乘。为此，先生成一个1~8的整数数组，并调用 prod 方法。\n",
    "b = np.arange(1, 9)\n",
    "print(\"b =\", b)\n",
    "print( \"Factorial\", b.prod())"
   ]
  },
  {
   "cell_type": "code",
   "execution_count": 120,
   "metadata": {},
   "outputs": [
    {
     "name": "stdout",
     "output_type": "stream",
     "text": [
      "Factorials [    1     2     6    24   120   720  5040 40320]\n"
     ]
    }
   ],
   "source": [
    "#调用 cumprod 方法，计算数组元素的累积乘积。\n",
    "print(\"Factorials\", b.cumprod())"
   ]
  },
  {
   "cell_type": "code",
   "execution_count": null,
   "metadata": {
    "collapsed": true
   },
   "outputs": [],
   "source": []
  }
 ],
 "metadata": {
  "kernelspec": {
   "display_name": "Python 3",
   "language": "python",
   "name": "python3"
  },
  "language_info": {
   "codemirror_mode": {
    "name": "ipython",
    "version": 3
   },
   "file_extension": ".py",
   "mimetype": "text/x-python",
   "name": "python",
   "nbconvert_exporter": "python",
   "pygments_lexer": "ipython3",
   "version": "3.6.1"
  }
 },
 "nbformat": 4,
 "nbformat_minor": 2
}
