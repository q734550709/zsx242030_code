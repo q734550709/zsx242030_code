{
 "cells": [
  {
   "cell_type": "markdown",
   "metadata": {},
   "source": [
    "本文为剑指offer中的所有面试题，代码全部亲测有效。\n",
    "\n",
    "所有的题目都是按照剑指offer上的顺序。"
   ]
  },
  {
   "cell_type": "markdown",
   "metadata": {},
   "source": [
    "## 面试题:将字符串转换成整数"
   ]
  },
  {
   "cell_type": "code",
   "execution_count": 1,
   "metadata": {
    "collapsed": true
   },
   "outputs": [],
   "source": [
    "class Solution:\n",
    "    def StrToInt(self, s):\n",
    "        bitweigh = 1\n",
    "        res = 0\n",
    "        if len(s) == 0:\n",
    "            return res\n",
    "        if len(s) == 1 and not s[0].isdigit():\n",
    "            return 0\n",
    "        for i in range(len(s) - 1, -1, -1):\n",
    "            if s[i].isdigit():\n",
    "                res += (ord(s[i]) - ord('0')) * bitweigh\n",
    "                bitweigh *= 10\n",
    "                continue\n",
    "            else:\n",
    "                if i == 0 and (s[i] is \"+\" or s[i] is \"-\"):\n",
    "                    continue\n",
    "                else:\n",
    "                    return 0\n",
    "        return -1 * res if s[0] is \"-\" else res"
   ]
  },
  {
   "cell_type": "code",
   "execution_count": 2,
   "metadata": {
    "collapsed": true
   },
   "outputs": [],
   "source": [
    "so=Solution()"
   ]
  },
  {
   "cell_type": "code",
   "execution_count": 3,
   "metadata": {},
   "outputs": [
    {
     "data": {
      "text/plain": [
       "2147483647"
      ]
     },
     "execution_count": 3,
     "metadata": {},
     "output_type": "execute_result"
    }
   ],
   "source": [
    "so.StrToInt(\"+2147483647\")"
   ]
  },
  {
   "cell_type": "code",
   "execution_count": 4,
   "metadata": {},
   "outputs": [
    {
     "data": {
      "text/plain": [
       "0"
      ]
     },
     "execution_count": 4,
     "metadata": {},
     "output_type": "execute_result"
    }
   ],
   "source": [
    "so.StrToInt(\"aass123\")"
   ]
  },
  {
   "cell_type": "code",
   "execution_count": 5,
   "metadata": {},
   "outputs": [
    {
     "data": {
      "text/plain": [
       "0"
      ]
     },
     "execution_count": 5,
     "metadata": {},
     "output_type": "execute_result"
    }
   ],
   "source": [
    "so.StrToInt(\"aass123\")"
   ]
  },
  {
   "cell_type": "code",
   "execution_count": 6,
   "metadata": {},
   "outputs": [
    {
     "data": {
      "text/plain": [
       "-2147483647"
      ]
     },
     "execution_count": 6,
     "metadata": {},
     "output_type": "execute_result"
    }
   ],
   "source": [
    "so.StrToInt(\"-2147483647\")"
   ]
  },
  {
   "cell_type": "code",
   "execution_count": 7,
   "metadata": {},
   "outputs": [
    {
     "data": {
      "text/plain": [
       "0"
      ]
     },
     "execution_count": 7,
     "metadata": {},
     "output_type": "execute_result"
    }
   ],
   "source": [
    "so.StrToInt(\"456 123\")"
   ]
  },
  {
   "cell_type": "markdown",
   "metadata": {},
   "source": [
    "## 面试题3:数组中重复的数字"
   ]
  },
  {
   "cell_type": "markdown",
   "metadata": {},
   "source": [
    "### 题目一:找出数组中重复的数字"
   ]
  },
  {
   "cell_type": "markdown",
   "metadata": {},
   "source": [
    "在一个长度为n的数组里的所有数字都在0~n-1的范围内。数组中某些数字是重复的，但不知道有几个数字重复了，也不知道每个数字重复了几次。请找出数组中任意一个重复的数字。例如，如果输入长度为7的数组{2,3,1,0,2,5,3}，那么对应的输出是重复的数字2或者3。"
   ]
  },
  {
   "cell_type": "markdown",
   "metadata": {},
   "source": [
    "解法:因为列表总共有n个元素，所有元素可能取到的元素有0~n-1，共n种。如果不存在重复的数字，那么排序后数字i将会出现在下标为i的位置。现在让我们重新扫描数组，当扫描到下标为i的数字时，首先比较这个数字(记为m)与i是否相等： 如果是，继续扫描下一个元素，如果不是，则再拿它与第m个数字比较： 如果它和第m个数字相同，就找到了一个重复的元素；如果不同，就将m与第i个数字互换。接下来继续重头开始，重复换这个比较。"
   ]
  },
  {
   "cell_type": "code",
   "execution_count": 8,
   "metadata": {
    "collapsed": true
   },
   "outputs": [],
   "source": [
    "def findDuplicates(lisA):\n",
    "    i = 0\n",
    "    while i < len(lisA) and lisA != []:\n",
    "        m = lisA[i]\n",
    "        if m == i:\n",
    "            i += 1\n",
    "        else:\n",
    "            if m == lisA[m]:\n",
    "                print('找到一个重复的元素:%d' % m)\n",
    "                break\n",
    "            else:\n",
    "                temp = lisA[i]\n",
    "                lisA[i] = lisA[m]\n",
    "                lisA[m] = temp\n",
    "                i = 0"
   ]
  },
  {
   "cell_type": "code",
   "execution_count": 9,
   "metadata": {},
   "outputs": [
    {
     "name": "stdout",
     "output_type": "stream",
     "text": [
      "找到一个重复的元素:2\n"
     ]
    }
   ],
   "source": [
    "findDuplicates([2,3,1,0,2,5,3])"
   ]
  },
  {
   "cell_type": "markdown",
   "metadata": {},
   "source": [
    "### 题目二:不修改数组找出重复的数字"
   ]
  },
  {
   "cell_type": "markdown",
   "metadata": {},
   "source": [
    "在一个长度为n+1的数组里的所有数字都在1~n范围内，所以数字中至少有一个数字是重复的。请找出数组中任意一个重复的数字，但不能修改输入的数组。例如，如果输入长度为8的数组{2,3,5,4,3,2,6,7}，那么对应的输出是重复的数字2或者3。"
   ]
  },
  {
   "cell_type": "markdown",
   "metadata": {},
   "source": [
    "避免使用O(n)的辅助空间。我们把取值空间[1,n]从中间的数字m分为两部分，前面一部分为1~m，后面一部分为m+1~n。如果数组中元素落在前面一部分的元素个数多于m个，那么数组中重复的元素一定落在前半区间；否则，数组中重复的元素一定落在后半区间。然后，我们可以继续将包含重复元素的区间一分为二，直到找到一个重复的元素。"
   ]
  },
  {
   "cell_type": "code",
   "execution_count": 10,
   "metadata": {
    "collapsed": true
   },
   "outputs": [],
   "source": [
    "def findDuplicates(lisA):\n",
    "    # 找到重复元素，返回True；否则，返回False\n",
    "    low = 1\n",
    "    high = len(lisA) - 1\n",
    "    while low <= high:\n",
    "        mid = (low + high) // 2\n",
    "        #统计数组中落在前半部分区间中的元素的个数\n",
    "        count_low = 0\n",
    "        for i in lisA:\n",
    "            if i in range(low, mid + 1):\n",
    "                count_low += 1\n",
    "        #判断落在长度为1的区间中的数组元素个数\n",
    "        if high == low:\n",
    "            if count_low > 1:  #如果大于1，则找到重复的元素\n",
    "                return low\n",
    "            else:\n",
    "                break\n",
    "        #比较前半部分区间长度与落在该区间内元素的个数，决定将前半部分/后半部分区间继续一分为二\n",
    "        if count_low > (mid - low + 1):\n",
    "            high = mid\n",
    "        else:\n",
    "            low = mid + 1\n",
    "\n",
    "    return False"
   ]
  },
  {
   "cell_type": "code",
   "execution_count": 11,
   "metadata": {},
   "outputs": [
    {
     "data": {
      "text/plain": [
       "3"
      ]
     },
     "execution_count": 11,
     "metadata": {},
     "output_type": "execute_result"
    }
   ],
   "source": [
    "findDuplicates([2,3,5,4,3,2,6,7])"
   ]
  },
  {
   "cell_type": "markdown",
   "metadata": {},
   "source": [
    "## 面试题4:二维数组中的查找"
   ]
  },
  {
   "cell_type": "markdown",
   "metadata": {},
   "source": [
    "题目:在一个二维数组中，每一行都按照从左到右递增的顺序排序，每一列都按照从上到下递增的顺序排序。请完成一个函数，输入这样一个二维数组和一个整数，判断数组中是否含有该整数。"
   ]
  },
  {
   "cell_type": "markdown",
   "metadata": {},
   "source": [
    "从右上开始查找：如果数组中的数比这个整数大，向左移动一位，如果数组中的数比这个数小，向下移动一位。"
   ]
  },
  {
   "cell_type": "code",
   "execution_count": 12,
   "metadata": {
    "collapsed": true
   },
   "outputs": [],
   "source": [
    "class Solution:\n",
    "    # array 二维列表\n",
    "    def Find(self, target, array):\n",
    "        if array == []:\n",
    "            return False\n",
    "        # 行数\n",
    "        num_row = len(array)\n",
    "        # 列数\n",
    "        num_col = len(array[0])\n",
    "        # 从右上角开始，也就是从最后一列开始\n",
    "        i = num_col - 1\n",
    "        j = 0\n",
    "        while i >= 0 and j < num_row:\n",
    "            # 删除整列\n",
    "            if array[j][i] > target:\n",
    "                i -= 1\n",
    "            # 删除整行\n",
    "            elif array[j][i] < target:\n",
    "                j += 1\n",
    "            else:\n",
    "                return True"
   ]
  },
  {
   "cell_type": "code",
   "execution_count": 13,
   "metadata": {},
   "outputs": [
    {
     "data": {
      "text/plain": [
       "True"
      ]
     },
     "execution_count": 13,
     "metadata": {},
     "output_type": "execute_result"
    }
   ],
   "source": [
    "so=Solution()\n",
    "lis=[[1,2,8,9],\n",
    "     [2,4,9,12],\n",
    "     [4,7,10,13],\n",
    "     [6,8,11,15]]\n",
    "target=15\n",
    "so.Find(target,lis)"
   ]
  },
  {
   "cell_type": "markdown",
   "metadata": {},
   "source": [
    "## 面试题5:替换空格"
   ]
  },
  {
   "cell_type": "markdown",
   "metadata": {},
   "source": [
    "题目:请实现一个函数，把字符串中的每个空格替换成“%20”。例如，输入\"We Are Happy.\"，则经过替换之后的字符串为\"We%20Are%20Happy.\""
   ]
  },
  {
   "cell_type": "markdown",
   "metadata": {},
   "source": [
    "1.先计算最终需要给出的长度，然后建立两个指针p1,p2，p1指向原始字符串的末尾，p2指向替换后的字符串的末尾。同时移动p1,p2, 将p1指的内容逐个复制到p2, 当p1遇到空格时，在p2处插入 %20， p1向前移动一个位置，p2向前移动3个位置，当p1和p2位置重合时，全部替换完成。\n",
    "\n",
    "2.python中可以利用append() [O(1)]，新建list，一次遍历，碰到空格就添加 %20，否则就添加原始字符串s内容。 "
   ]
  },
  {
   "cell_type": "code",
   "execution_count": 14,
   "metadata": {
    "collapsed": true
   },
   "outputs": [],
   "source": [
    "# 实现的是1\n",
    "# 时间复杂度o(n)\n",
    "class Solution:\n",
    "    # s 源字符串\n",
    "    def replaceSpace(self, s):\n",
    "        # 如果不是字符串或者为空串\n",
    "        if not isinstance(s, str) or len(s) <= 0 or s == None:\n",
    "            return ''\n",
    "        spaceNum = 0\n",
    "        for i in s:\n",
    "            if i == \" \":\n",
    "                spaceNum += 1\n",
    "        print(\"空格的个数\", spaceNum)\n",
    "\n",
    "        # 总共的长度\n",
    "        newStrLen = len(s) + spaceNum * 2\n",
    "        # 新串的列表\n",
    "        newStr = newStrLen * [None]\n",
    "        indexOfOriginal, indexOfNew = len(s) - 1, newStrLen - 1\n",
    "        while indexOfNew >= 0 and indexOfOriginal <= indexOfNew:\n",
    "            if s[indexOfOriginal] == ' ':\n",
    "                newStr[indexOfNew - 2:indexOfNew + 1] = ['%', '2', '0']\n",
    "                indexOfNew -= 3\n",
    "                indexOfOriginal -= 1\n",
    "            else:\n",
    "                newStr[indexOfNew] = s[indexOfOriginal]\n",
    "                indexOfNew -= 1\n",
    "                indexOfOriginal -= 1\n",
    "        return ''.join(newStr)"
   ]
  },
  {
   "cell_type": "code",
   "execution_count": 15,
   "metadata": {},
   "outputs": [
    {
     "name": "stdout",
     "output_type": "stream",
     "text": [
      "空格的个数 2\n"
     ]
    },
    {
     "data": {
      "text/plain": [
       "'We%20are%20happy.'"
      ]
     },
     "execution_count": 15,
     "metadata": {},
     "output_type": "execute_result"
    }
   ],
   "source": [
    "so=Solution()\n",
    "so.replaceSpace(\"We are happy.\")"
   ]
  },
  {
   "cell_type": "markdown",
   "metadata": {},
   "source": [
    "## 面试题6:从尾到头打印链表"
   ]
  },
  {
   "cell_type": "markdown",
   "metadata": {},
   "source": [
    "题目:输入一个链表的头结点，从尾到头反过来打印每个节点的值。\n",
    "\n",
    "从头到尾遍历链表，并用一个栈存储每个节点的值，之后出栈输出，用insert()，一直在index=0的位置插入遍历的值。"
   ]
  },
  {
   "cell_type": "code",
   "execution_count": 16,
   "metadata": {
    "collapsed": true
   },
   "outputs": [],
   "source": [
    "class ListNode:\n",
    "    def __init__(self, x):\n",
    "        self.val = x\n",
    "        self.next = None"
   ]
  },
  {
   "cell_type": "code",
   "execution_count": 17,
   "metadata": {
    "collapsed": true
   },
   "outputs": [],
   "source": [
    "class Solution:\n",
    "    # 返回从尾部到头部的列表值序列，例如[1,2,3]\n",
    "    def printListFromTailToHead(self, listNode):\n",
    "        # write code here\n",
    "        if not listNode:\n",
    "            return []\n",
    "        result = []\n",
    "        while listNode:\n",
    "            # 也可以把它放入栈中\n",
    "            result.insert(0, listNode.val)\n",
    "            listNode = listNode.next\n",
    "        return result"
   ]
  },
  {
   "cell_type": "code",
   "execution_count": 18,
   "metadata": {},
   "outputs": [
    {
     "data": {
      "text/plain": [
       "[10, 9, 8, 7, 6, 5, 4, 3, 2, 1]"
      ]
     },
     "execution_count": 18,
     "metadata": {},
     "output_type": "execute_result"
    }
   ],
   "source": [
    "llist1 = ListNode(1)\n",
    "pnode = llist1\n",
    "for i in range(2, 11):\n",
    "    pnode.next = ListNode(i)\n",
    "    pnode = pnode.next\n",
    "\n",
    "so = Solution()\n",
    "so.printListFromTailToHead(llist1)"
   ]
  },
  {
   "cell_type": "code",
   "execution_count": 19,
   "metadata": {
    "collapsed": true
   },
   "outputs": [],
   "source": [
    "# 使用递归的方法\n",
    "result = []\n",
    "def printListFromTailToHead1(head):\n",
    "    if head is None:\n",
    "        return\n",
    "    printListFromTailToHead1(head.next)\n",
    "    result.append(head.val)\n",
    "    return result"
   ]
  },
  {
   "cell_type": "code",
   "execution_count": 20,
   "metadata": {},
   "outputs": [
    {
     "data": {
      "text/plain": [
       "[10, 9, 8, 7, 6, 5, 4, 3, 2, 1]"
      ]
     },
     "execution_count": 20,
     "metadata": {},
     "output_type": "execute_result"
    }
   ],
   "source": [
    "printListFromTailToHead1(llist1)"
   ]
  },
  {
   "cell_type": "markdown",
   "metadata": {},
   "source": [
    "## 题目7:重建二叉树"
   ]
  },
  {
   "cell_type": "markdown",
   "metadata": {},
   "source": [
    "题目:输入某二叉树的前序遍历和中序遍历的结果，请重建出该二叉树。假设输入的前序遍历和中序遍历的结果中都不含重复的数字。例如输入前序遍历序列{1,2,4,7,3,5,6,8}和中序遍历序列{4,7,2,1,5,3,8,6}，则重建二叉树并返回。\n",
    "\n",
    "利用二叉树前序遍历和中序遍历的特点，前序遍历的第一个值一定为根节点，对应于中序遍历中间的一个点，在中序遍历中，该点左侧的值为根节点的左子树，右侧的值为根节点的右子树。这时可以利用递归，取前序遍历的[1:i+1]和中序遍历的[:i]作为对应的左子树继续上一个过程，取前序遍历的[i+1:]和中序遍历的[i+1:]对应与右子树继续上一个过程，重建二叉树。"
   ]
  },
  {
   "cell_type": "code",
   "execution_count": 21,
   "metadata": {
    "collapsed": true
   },
   "outputs": [],
   "source": [
    "class TreeNode:\n",
    "    def __init__(self, x):\n",
    "        self.val = x\n",
    "        self.left = None\n",
    "        self.right = None\n",
    "\n",
    "\n",
    "class Solution:\n",
    "    # 返回构造的TreeNode根节点\n",
    "    def reConstructBinaryTree(self, pre, tin):\n",
    "        if not pre and not tin:\n",
    "            return None\n",
    "        root = TreeNode(pre[0])\n",
    "        if set(pre) != set(tin):\n",
    "            return None\n",
    "        i = tin.index(pre[0])\n",
    "        root.left = self.reConstructBinaryTree(pre[1:i + 1], tin[:i])\n",
    "        root.right = self.reConstructBinaryTree(pre[i + 1:], tin[i + 1:])\n",
    "        return root\n",
    "\n",
    "    # 按行打印二叉树\n",
    "    def Print(self, pRoot):\n",
    "        if pRoot is None:\n",
    "            return []\n",
    "        nodes, res = [pRoot], []\n",
    "        while nodes:\n",
    "            curStack, nextStack = [], []\n",
    "            for node in nodes:\n",
    "                curStack.append(node.val)\n",
    "                if node.left:\n",
    "                    nextStack.append(node.left)\n",
    "                if node.right:\n",
    "                    nextStack.append(node.right)\n",
    "            res.append(curStack)\n",
    "            nodes = nextStack\n",
    "        return res"
   ]
  },
  {
   "cell_type": "code",
   "execution_count": 22,
   "metadata": {},
   "outputs": [
    {
     "data": {
      "text/plain": [
       "[[1], [2, 3], [4, 5, 6], [7, 8]]"
      ]
     },
     "execution_count": 22,
     "metadata": {},
     "output_type": "execute_result"
    }
   ],
   "source": [
    "so = Solution()\n",
    "root = so.reConstructBinaryTree([1, 2, 4, 7, 3, 5, 6, 8],\n",
    "                                [4, 7, 2, 1, 5, 3, 8, 6])\n",
    "so.Print(root)"
   ]
  },
  {
   "cell_type": "markdown",
   "metadata": {},
   "source": [
    "## 面试题8:二叉树的下一个结点"
   ]
  },
  {
   "cell_type": "markdown",
   "metadata": {},
   "source": [
    "题目：给定一个二叉树和其中的一个结点，请找出中序遍历顺序的下一个结点并且返回。注意，树中的结点不仅包含左右子结点，同时包含指向父结点的指针。"
   ]
  },
  {
   "cell_type": "code",
   "execution_count": 23,
   "metadata": {
    "collapsed": true
   },
   "outputs": [],
   "source": [
    "class TreeNode:\n",
    "    def __init__(self, x):\n",
    "        self.val = x\n",
    "        self.left = None\n",
    "        self.right = None\n",
    "        self.next = None\n",
    "\n",
    "class Solution:\n",
    "    def GetNext(self, pNode):\n",
    "        if pNode is None:\n",
    "            return\n",
    "        pNext = None\n",
    "        if pNode.right:\n",
    "            pNode = pNode.right\n",
    "            while pNode.left:\n",
    "                pNode = pNode.left\n",
    "            pNext = pNode\n",
    "        else:\n",
    "            if pNode.next and pNode.next.left == pNode:\n",
    "                pNext = pNode.next\n",
    "            elif pNode.next and pNode.next.right == pNode:\n",
    "                pNode = pNode.next\n",
    "                while pNode.next and pNode.next.right == pNode:\n",
    "                    pNode = pNode.next\n",
    "                # 遍历终止时当前节点有父节点, 说明当前节点是父节点的左子节点, 输入节点的下一个结点为当前节点的父节点\n",
    "                # 反之终止时当前节点没有父节点, 说明当前节点在位于根节点的右子树, 没有下一个结点\n",
    "                if pNode.next:\n",
    "                    pNext = pNode.next\n",
    "        return pNext"
   ]
  },
  {
   "cell_type": "code",
   "execution_count": 24,
   "metadata": {},
   "outputs": [],
   "source": [
    "pNode1 = TreeNode(8)\n",
    "pNode2 = TreeNode(6)\n",
    "pNode3 = TreeNode(10)\n",
    "pNode4 = TreeNode(5)\n",
    "pNode5 = TreeNode(7)\n",
    "pNode6 = TreeNode(9)\n",
    "pNode7 = TreeNode(11)\n",
    "\n",
    "pNode1.left = pNode2\n",
    "pNode1.right = pNode3\n",
    "pNode2.left = pNode4\n",
    "pNode2.right = pNode5\n",
    "pNode3.left = pNode6\n",
    "pNode3.right = pNode7"
   ]
  },
  {
   "cell_type": "code",
   "execution_count": 25,
   "metadata": {
    "collapsed": true
   },
   "outputs": [],
   "source": [
    "so=Solution()\n",
    "pNext=so.GetNext(pNode2)"
   ]
  },
  {
   "cell_type": "code",
   "execution_count": 26,
   "metadata": {},
   "outputs": [
    {
     "data": {
      "text/plain": [
       "7"
      ]
     },
     "execution_count": 26,
     "metadata": {},
     "output_type": "execute_result"
    }
   ],
   "source": [
    "pNext.val"
   ]
  },
  {
   "cell_type": "markdown",
   "metadata": {},
   "source": [
    "## 面试题9:用两个栈实现队列"
   ]
  },
  {
   "cell_type": "markdown",
   "metadata": {},
   "source": [
    "用两个栈来实现一个队列，完成队列的Push和Pop操作。 队列中的元素为int类型。"
   ]
  },
  {
   "cell_type": "code",
   "execution_count": 27,
   "metadata": {
    "collapsed": true
   },
   "outputs": [],
   "source": [
    "class Solution:\n",
    "    def __init__(self):\n",
    "        self.stack = []\n",
    "        self.minStack = []\n",
    "\n",
    "    def push(self, node):\n",
    "        # write code here\n",
    "        self.stack.append(node)\n",
    "        if self.minStack == [] or node < self.min():\n",
    "            self.minStack.append(node)\n",
    "        else:\n",
    "            temp = self.min()\n",
    "            self.minStack.append(temp)\n",
    "\n",
    "    def pop(self):\n",
    "        # write code here\n",
    "        if self.stack == None or self.minStack == None:\n",
    "            return None\n",
    "        self.minStack.pop()\n",
    "        self.stack.pop()\n",
    "\n",
    "    def top(self):\n",
    "        # write code here\n",
    "        return self.stack[-1]\n",
    "\n",
    "    def min(self):\n",
    "        # write code here\n",
    "        return self.minStack[-1]"
   ]
  },
  {
   "cell_type": "code",
   "execution_count": 28,
   "metadata": {
    "collapsed": true
   },
   "outputs": [],
   "source": [
    "so=Solution()"
   ]
  },
  {
   "cell_type": "code",
   "execution_count": 29,
   "metadata": {},
   "outputs": [],
   "source": [
    "so.push(122)"
   ]
  },
  {
   "cell_type": "code",
   "execution_count": 30,
   "metadata": {},
   "outputs": [
    {
     "data": {
      "text/plain": [
       "122"
      ]
     },
     "execution_count": 30,
     "metadata": {},
     "output_type": "execute_result"
    }
   ],
   "source": [
    "so.min()"
   ]
  },
  {
   "cell_type": "code",
   "execution_count": 31,
   "metadata": {
    "collapsed": true
   },
   "outputs": [],
   "source": [
    "so.push(300)"
   ]
  },
  {
   "cell_type": "code",
   "execution_count": 32,
   "metadata": {},
   "outputs": [
    {
     "data": {
      "text/plain": [
       "122"
      ]
     },
     "execution_count": 32,
     "metadata": {},
     "output_type": "execute_result"
    }
   ],
   "source": [
    "so.min()"
   ]
  },
  {
   "cell_type": "code",
   "execution_count": 33,
   "metadata": {
    "collapsed": true
   },
   "outputs": [],
   "source": [
    "so.push(30)"
   ]
  },
  {
   "cell_type": "code",
   "execution_count": 34,
   "metadata": {},
   "outputs": [
    {
     "data": {
      "text/plain": [
       "30"
      ]
     },
     "execution_count": 34,
     "metadata": {},
     "output_type": "execute_result"
    }
   ],
   "source": [
    "so.min()"
   ]
  },
  {
   "cell_type": "code",
   "execution_count": 35,
   "metadata": {},
   "outputs": [],
   "source": [
    "so.pop()"
   ]
  },
  {
   "cell_type": "code",
   "execution_count": 36,
   "metadata": {},
   "outputs": [
    {
     "data": {
      "text/plain": [
       "122"
      ]
     },
     "execution_count": 36,
     "metadata": {},
     "output_type": "execute_result"
    }
   ],
   "source": [
    "so.min()"
   ]
  },
  {
   "cell_type": "markdown",
   "metadata": {},
   "source": [
    "## 面试题10:斐波那契数列"
   ]
  },
  {
   "cell_type": "markdown",
   "metadata": {},
   "source": [
    "题目一：求斐波那契数列的第n项"
   ]
  },
  {
   "cell_type": "code",
   "execution_count": 37,
   "metadata": {
    "collapsed": true
   },
   "outputs": [],
   "source": [
    "class Solution:\n",
    "    def Fibonacci(self, n):\n",
    "        tempArray = [0,1]\n",
    "        if n >= 2:\n",
    "            for i in range(2, n+1):\n",
    "                tempArray[i%2] = tempArray[0] + tempArray[1]\n",
    "        return tempArray[n%2]"
   ]
  },
  {
   "cell_type": "code",
   "execution_count": 38,
   "metadata": {},
   "outputs": [
    {
     "data": {
      "text/plain": [
       "3"
      ]
     },
     "execution_count": 38,
     "metadata": {},
     "output_type": "execute_result"
    }
   ],
   "source": [
    "so=Solution()\n",
    "so.Fibonacci(4)"
   ]
  },
  {
   "cell_type": "markdown",
   "metadata": {
    "collapsed": true
   },
   "source": [
    "题目二：青蛙跳台阶问题\n",
    "\n",
    "一只青蛙一次可以跳上1级台阶，也可以跳上2级台阶。求该青蛙跳上一个n级的台阶总共有多少种跳法？"
   ]
  },
  {
   "cell_type": "code",
   "execution_count": 39,
   "metadata": {
    "collapsed": true
   },
   "outputs": [],
   "source": [
    "class Solution:\n",
    "    def jumpFloor(self,number):\n",
    "        tempArray=[1,2]\n",
    "        if number >=3:\n",
    "            for i in range(3,number+1):\n",
    "                tempArray[(i+1)%2]=tempArray[0]+tempArray[1]\n",
    "        return tempArray[(number+1)%2]"
   ]
  },
  {
   "cell_type": "code",
   "execution_count": 40,
   "metadata": {},
   "outputs": [
    {
     "data": {
      "text/plain": [
       "5"
      ]
     },
     "execution_count": 40,
     "metadata": {},
     "output_type": "execute_result"
    }
   ],
   "source": [
    "so=Solution()\n",
    "so.jumpFloor(4)"
   ]
  },
  {
   "cell_type": "markdown",
   "metadata": {},
   "source": [
    "## 面试11:旋转数组的最小数字"
   ]
  },
  {
   "cell_type": "markdown",
   "metadata": {},
   "source": [
    "题目：把一个数组最开始的若干个元素搬到数组的末尾，我们称之为数组的旋转。输入一个递增排序的数组的一个旋转，输出旋转数组的最小元素。例如数组{3, 4, 5, 1, 2}为{1, 2, 3, 4, 5}的一个旋转，该数组的最小值为1。"
   ]
  },
  {
   "cell_type": "code",
   "execution_count": 41,
   "metadata": {
    "collapsed": true
   },
   "outputs": [],
   "source": [
    "class Solution:\n",
    "    def minNumberInRotateArray(self, rotateArray):\n",
    "        # write code here\n",
    "        if len(rotateArray) == 0:\n",
    "            return 0\n",
    "        front = 0\n",
    "        rear = len(rotateArray) - 1\n",
    "        minVal = rotateArray[0]\n",
    "        \n",
    "        if rotateArray[front] < rotateArray[rear]:\n",
    "            return rotateArray[front]\n",
    "        else:\n",
    "            while (rear - front) > 1: \n",
    "                mid = (front + rear) // 2\n",
    "                if rotateArray[mid] >= rotateArray[front]:\n",
    "                    front = mid\n",
    "                elif rotateArray[mid] <= rotateArray[rear]:\n",
    "                    rear = mid\n",
    "                elif rotateArray[front] == rotateArray[rear] == rotateArray[mid]:\n",
    "                    for i in range(1, len(rotateArray)):\n",
    "                        if rotateArray[i] < minVal:\n",
    "                            minVal = rotateArray[i]\n",
    "                            rear = i\n",
    "            minVal = rotateArray[rear]\n",
    "            return minVal"
   ]
  },
  {
   "cell_type": "code",
   "execution_count": 42,
   "metadata": {},
   "outputs": [
    {
     "data": {
      "text/plain": [
       "1"
      ]
     },
     "execution_count": 42,
     "metadata": {},
     "output_type": "execute_result"
    }
   ],
   "source": [
    "so=Solution()\n",
    "so.minNumberInRotateArray([3,4,5,1,2])"
   ]
  },
  {
   "cell_type": "code",
   "execution_count": 43,
   "metadata": {},
   "outputs": [
    {
     "data": {
      "text/plain": [
       "1"
      ]
     },
     "execution_count": 43,
     "metadata": {},
     "output_type": "execute_result"
    }
   ],
   "source": [
    "so.minNumberInRotateArray([3,4,5,1,2,2,2,2,2,2])"
   ]
  },
  {
   "cell_type": "code",
   "execution_count": 44,
   "metadata": {},
   "outputs": [
    {
     "data": {
      "text/plain": [
       "3"
      ]
     },
     "execution_count": 44,
     "metadata": {},
     "output_type": "execute_result"
    }
   ],
   "source": [
    "so.minNumberInRotateArray([3,4])"
   ]
  },
  {
   "cell_type": "code",
   "execution_count": 45,
   "metadata": {},
   "outputs": [
    {
     "data": {
      "text/plain": [
       "0"
      ]
     },
     "execution_count": 45,
     "metadata": {},
     "output_type": "execute_result"
    }
   ],
   "source": [
    "so.minNumberInRotateArray([1,1,1,0,0,0,1,1,1,1,1])"
   ]
  },
  {
   "cell_type": "code",
   "execution_count": 46,
   "metadata": {},
   "outputs": [
    {
     "data": {
      "text/plain": [
       "1"
      ]
     },
     "execution_count": 46,
     "metadata": {},
     "output_type": "execute_result"
    }
   ],
   "source": [
    "so.minNumberInRotateArray([1,1,1,3,1,1,1,1])"
   ]
  },
  {
   "cell_type": "markdown",
   "metadata": {},
   "source": [
    "## 面试12:矩阵中的路径"
   ]
  },
  {
   "cell_type": "markdown",
   "metadata": {},
   "source": [
    "题目:请设计一个函数，用来判断在一个矩阵中是否存在一条包含某字符串所有字符的路径。路径可以从矩阵中的任意一个格子开始，每一步可以在矩阵中向左，向右，向上，向下移动一个格子。如果一条路径经过了矩阵中的某一个格子，则之后不能再次进入这个格子。 例如 a b c e s f c s a d e e 这样的3 X 4 矩阵中包含一条字符串”bcced”的路径，但是矩阵中不包含”abcb”路径，因为字符串的第一个字符b占据了矩阵中的第一行第二个格子之后，路径不能再次进入该格子。"
   ]
  },
  {
   "cell_type": "code",
   "execution_count": 47,
   "metadata": {
    "collapsed": true
   },
   "outputs": [],
   "source": [
    "class Solution:\n",
    "    def hasPath(self, matrix, rows, cols, path):\n",
    "        # write code here\n",
    "        assistMatrix = [True]*rows*cols\n",
    "        for i in range(rows):\n",
    "            for j in range(cols):\n",
    "                if(self.hasPathAtAStartPoint(matrix, rows, cols, i, j, path, assistMatrix)):\n",
    "                    return True\n",
    "        return False\n",
    "\n",
    "    def hasPathAtAStartPoint(self, matrix, rows, cols, i, j, path, assistMatrix):\n",
    "        if not path:\n",
    "            return True\n",
    "        index = i*cols+j\n",
    "        if i < 0 or i >= rows or j < 0 or j >= cols or matrix[index] != path[0] or assistMatrix[index] == False:\n",
    "            return False\n",
    "        assistMatrix[index] = False\n",
    "        if(self.hasPathAtAStartPoint(matrix, rows, cols, i+1, j, path[1:], assistMatrix) or\n",
    "           self.hasPathAtAStartPoint(matrix, rows, cols, i-1, j, path[1:], assistMatrix) or\n",
    "           self.hasPathAtAStartPoint(matrix, rows, cols, i, j-1, path[1:], assistMatrix) or\n",
    "           self.hasPathAtAStartPoint(matrix, rows, cols, i, j+1, path[1:], assistMatrix)):\n",
    "            return True\n",
    "        assistMatrix[index] = True\n",
    "        return False"
   ]
  },
  {
   "cell_type": "code",
   "execution_count": 48,
   "metadata": {},
   "outputs": [
    {
     "data": {
      "text/plain": [
       "True"
      ]
     },
     "execution_count": 48,
     "metadata": {},
     "output_type": "execute_result"
    }
   ],
   "source": [
    "matrix=\"abtgcfcsjdeh\"\n",
    "path=\"bfce\"\n",
    "so=Solution()\n",
    "so.hasPath(matrix,3,4,path)"
   ]
  },
  {
   "cell_type": "markdown",
   "metadata": {},
   "source": [
    "## 面试13:机器人的运动范围"
   ]
  },
  {
   "cell_type": "markdown",
   "metadata": {},
   "source": [
    "题目:地上有一个m行和n列的方格。一个机器人从坐标(0,0)的格子开始移动，每一次只能向左，右，上，下四个方向移动一格，但是不能进入行坐标和列坐标的数位之和大于k的格子。 例如，当k为18时，机器人能够进入方格（35,37），因为3+5+3+7 = 18。但是，它不能进入方格（35,38），因为3+5+3+8 = 19。请问该机器人能够达到多少个格子？"
   ]
  },
  {
   "cell_type": "code",
   "execution_count": 49,
   "metadata": {
    "collapsed": true
   },
   "outputs": [],
   "source": [
    "class Solution:\n",
    "    def judge(self, threshold, i, j):\n",
    "        if sum(map(int,str(i)+str(j))) <= threshold:\n",
    "            return True\n",
    "        else:\n",
    "            return False\n",
    "\n",
    "    def findgrid(self, threshold, rows, cols, matrix, i, j):\n",
    "        count = 0\n",
    "        if i<rows and j<cols and i>=0 and j>=0 and self.judge(threshold,i,j) and matrix[i][j]==0:\n",
    "            matrix[i][j] = 1\n",
    "            count = 1 + self.findgrid(threshold, rows, cols, matrix, i, j+1) \\\n",
    "            + self.findgrid(threshold, rows, cols, matrix, i, j-1) \\\n",
    "            + self.findgrid(threshold, rows, cols, matrix, i+1, j) \\\n",
    "            + self.findgrid(threshold, rows, cols, matrix, i-1, j)\n",
    "        return count\n",
    "\n",
    "    def movingCount(self, threshold, rows, cols):\n",
    "        # write code here\n",
    "        matrix = [[0 for i in range(cols)] for j in range(rows)]\n",
    "        count = self.findgrid(threshold, rows, cols, matrix, 0, 0)\n",
    "        print(matrix)\n",
    "        return count"
   ]
  },
  {
   "cell_type": "code",
   "execution_count": 50,
   "metadata": {},
   "outputs": [
    {
     "name": "stdout",
     "output_type": "stream",
     "text": [
      "[[1, 1, 1, 1, 1], [1, 1, 1, 1, 1], [1, 1, 1, 1, 1], [1, 1, 1, 1, 1]]\n"
     ]
    },
    {
     "data": {
      "text/plain": [
       "20"
      ]
     },
     "execution_count": 50,
     "metadata": {},
     "output_type": "execute_result"
    }
   ],
   "source": [
    "so=Solution()\n",
    "so.movingCount(7,4,5)"
   ]
  },
  {
   "cell_type": "markdown",
   "metadata": {},
   "source": [
    "## 面试14:剪绳子"
   ]
  },
  {
   "cell_type": "markdown",
   "metadata": {},
   "source": [
    "题目:给你一根长度为n的绳子，请把绳子剪成m段 (m和n都是整数，n>1并且m>1)每段绳子的长度记为k[0],k[1],…,k[m].请问k[0]k[1]…*k[m]可能的最大乘积是多少？例如，当绳子的长度为8时，我们把它剪成长度分别为2,3,3的三段，此时得到的最大乘积是18."
   ]
  },
  {
   "cell_type": "code",
   "execution_count": 51,
   "metadata": {
    "collapsed": true
   },
   "outputs": [],
   "source": [
    "class Solution:    \n",
    "    def maxProductAfterCutting(self, n):        \n",
    "        # write code here        \n",
    "        if n < 2 :            \n",
    "            return 0        \n",
    "        elif n == 2: \n",
    "            return 1 \n",
    "        # elif n == 3:        #     return 2        \n",
    "        max_list = [0,1,2]        \n",
    "        for i in range(3,n+1):            \n",
    "            if i < n :                \n",
    "                max = i            \n",
    "            else:                \n",
    "                max = 0            \n",
    "            for j in range(1,i//2+1):                \n",
    "                tmp = max_list[j]*max_list[i-j]                \n",
    "                if tmp > max:                    \n",
    "                    max = tmp            \n",
    "            max_list.append(max)        \n",
    "        return max_list[n] "
   ]
  },
  {
   "cell_type": "code",
   "execution_count": 52,
   "metadata": {},
   "outputs": [
    {
     "name": "stdout",
     "output_type": "stream",
     "text": [
      "18\n"
     ]
    }
   ],
   "source": [
    "print(Solution.maxProductAfterCutting(Solution,8))"
   ]
  },
  {
   "cell_type": "markdown",
   "metadata": {},
   "source": [
    "## 面试15:二进制中1的个数"
   ]
  },
  {
   "cell_type": "markdown",
   "metadata": {},
   "source": [
    "题目:输入一个整数，输出该数二进制表示中1的个数。其中负数用补码表示。"
   ]
  },
  {
   "cell_type": "code",
   "execution_count": 53,
   "metadata": {
    "collapsed": true
   },
   "outputs": [],
   "source": [
    "class Solution:\n",
    "    def NumberOf1(self, n):\n",
    "        # write code here\n",
    "        count = 0\n",
    "        if n < 0:\n",
    "            n = n & 0xffffffff\n",
    "        while n != 0:\n",
    "            count += 1\n",
    "            n = (n - 1) & n\n",
    "        return count"
   ]
  },
  {
   "cell_type": "code",
   "execution_count": 54,
   "metadata": {},
   "outputs": [
    {
     "data": {
      "text/plain": [
       "2"
      ]
     },
     "execution_count": 54,
     "metadata": {},
     "output_type": "execute_result"
    }
   ],
   "source": [
    "so=Solution()\n",
    "so.NumberOf1(9)"
   ]
  },
  {
   "cell_type": "markdown",
   "metadata": {},
   "source": [
    "## 面试16:数值的整数次方"
   ]
  },
  {
   "cell_type": "markdown",
   "metadata": {},
   "source": [
    "题目:给定一个double类型的浮点数base和int类型的整数exponent。求base的exponent次方。不考虑大数的情况"
   ]
  },
  {
   "cell_type": "code",
   "execution_count": 55,
   "metadata": {
    "collapsed": true
   },
   "outputs": [],
   "source": [
    "class Solution:\n",
    "    def Power(self, base, exponent):\n",
    "        try:\n",
    "            ret = self.power_value(base, abs(exponent))\n",
    "            if exponent < 0:\n",
    "                return 1.0 / ret\n",
    "        except ZeroDivisionError:\n",
    "            print('Error: base is zero')\n",
    "        else:\n",
    "            return ret\n",
    "\n",
    "    def power_value(self,base, exponent):\n",
    "        if exponent == 0:\n",
    "            return 1\n",
    "        if exponent == 1:\n",
    "            return base\n",
    "        ret = self.power_value(base, exponent >> 1)\n",
    "        ret *= ret\n",
    "        if exponent & 1 == 1:\n",
    "            ret *= base\n",
    "        return ret"
   ]
  },
  {
   "cell_type": "code",
   "execution_count": 56,
   "metadata": {},
   "outputs": [
    {
     "data": {
      "text/plain": [
       "2037035976334486086268445688409378161051468393665936250636140449354381299763336706183397376"
      ]
     },
     "execution_count": 56,
     "metadata": {},
     "output_type": "execute_result"
    }
   ],
   "source": [
    "so=Solution()\n",
    "so.Power(2,300)"
   ]
  },
  {
   "cell_type": "markdown",
   "metadata": {},
   "source": [
    "## 面试17:打印1到最大的n位数"
   ]
  },
  {
   "cell_type": "markdown",
   "metadata": {},
   "source": [
    "题目:输入数字n，按顺序打印出从1最大的n位十进制数。比如输入3，则打印出1、2、3一直到最大的3位数即999.\n",
    "\n",
    "注：在Python中整数类型默认包含大整数，即无论输入多大整数，都能够自动进行相关加减乘除的运算"
   ]
  },
  {
   "cell_type": "code",
   "execution_count": 57,
   "metadata": {},
   "outputs": [],
   "source": [
    "class Solution:\n",
    "    def print1ToMaxN(self,n):\n",
    "        if n <= 0:\n",
    "            return\n",
    "    \n",
    "        number = ['0' for i in range(n)]\n",
    "        for i in range(10):\n",
    "            number[0] = str(i)\n",
    "            self.print2ToMaxNrecursively(number, n, 0)\n",
    "        \n",
    "\n",
    "    def print2ToMaxNrecursively(self,number, length, index):\n",
    "        if index == length - 1:\n",
    "            self.printNumber(number)\n",
    "            return\n",
    "    \n",
    "        for i in range(10):\n",
    "            number[index + 1] = str(i)\n",
    "            print2ToMaxNrecursively(number, length, index + 1)\n",
    "    \n",
    "    def printNumber(self,number) :\n",
    "        begin = len(number)\n",
    "        for i in range(len(number)):\n",
    "            if number[i] != '0':\n",
    "                begin = i\n",
    "                break\n",
    "    \n",
    "        print(''.join(number[begin:]))"
   ]
  },
  {
   "cell_type": "code",
   "execution_count": 58,
   "metadata": {},
   "outputs": [
    {
     "name": "stdout",
     "output_type": "stream",
     "text": [
      "\n",
      "1\n",
      "2\n",
      "3\n",
      "4\n",
      "5\n",
      "6\n",
      "7\n",
      "8\n",
      "9\n"
     ]
    }
   ],
   "source": [
    "so=Solution()\n",
    "so.print1ToMaxN(1)"
   ]
  },
  {
   "cell_type": "markdown",
   "metadata": {},
   "source": [
    "## 面试18:删除链表的节点"
   ]
  },
  {
   "cell_type": "markdown",
   "metadata": {},
   "source": [
    "题目一：在O(1)时间内删除链表结点\n",
    "\n",
    "如果要删除的节点后面有节点，则将该节点内容复制到要删除的节点，并删除该节点。\n",
    "\n",
    "如果要删除的节点在链表头部，直接删除该节点。\n",
    "\n",
    "如果要删除的节点在链尾，遍历至该节点删除。"
   ]
  },
  {
   "cell_type": "code",
   "execution_count": 59,
   "metadata": {},
   "outputs": [],
   "source": [
    "class ListNode:\n",
    "    \n",
    "    def __init__(self, x=None):\n",
    "        self.val =x\n",
    "        self.next = None\n",
    "\n",
    "class Solution:\n",
    "    \n",
    "    def delete_node(self, head, node_to_del):\n",
    "        \n",
    "        if head is None or node_to_del is None:\n",
    "            return head\n",
    "        if node_to_del.next is not None:\n",
    "            next_node=node_to_del.next\n",
    "            node_to_del.val=next_node.val\n",
    "            node_to_del.next=next_node.next\n",
    "            \n",
    "        elif head==node_to_del:\n",
    "            del (node_to_del)\n",
    "            \n",
    "        else:\n",
    "            node=head\n",
    "            while node  is not None:\n",
    "                if node.next==node_to_del:\n",
    "                    break\n",
    "                node=node.next\n",
    "            node.next=node_to_del.next\n",
    "            del(node_to_del)"
   ]
  },
  {
   "cell_type": "code",
   "execution_count": 60,
   "metadata": {},
   "outputs": [],
   "source": [
    "node1= ListNode(1)\n",
    "node2= ListNode(2)\n",
    "node3= ListNode(3)\n",
    "node4= ListNode(4)\n",
    "node5= ListNode(5)\n",
    "node6= ListNode(6)\n",
    "node7= ListNode(7)\n",
    "\n",
    "node1.next=node2\n",
    "node2.next=node3\n",
    "node3.next=node4\n",
    "node4.next=node5\n",
    "node5.next=node6\n",
    "node6.next=node7"
   ]
  },
  {
   "cell_type": "code",
   "execution_count": 61,
   "metadata": {},
   "outputs": [],
   "source": [
    "so=Solution()\n",
    "so.delete_node(node1,node3)"
   ]
  },
  {
   "cell_type": "code",
   "execution_count": 62,
   "metadata": {},
   "outputs": [
    {
     "name": "stdout",
     "output_type": "stream",
     "text": [
      "1\n",
      "2\n",
      "4\n",
      "5\n",
      "6\n",
      "7\n"
     ]
    }
   ],
   "source": [
    "while node1:\n",
    "    print(node1.val)\n",
    "    node1=node1.next"
   ]
  },
  {
   "cell_type": "markdown",
   "metadata": {},
   "source": [
    "题目二:删除链表中重复的结点\n",
    "    \n",
    "在一个排序的链表中，存在重复的结点，请删除该链表中重复的结点，重复的结点不保留，返回链表头指针。 例如，链表1->2->3->3->4->4->5 处理后为 1->2->5"
   ]
  },
  {
   "cell_type": "code",
   "execution_count": 63,
   "metadata": {
    "collapsed": true
   },
   "outputs": [],
   "source": [
    "class ListNode:\n",
    "    def __init__(self, x):\n",
    "        self.val = x\n",
    "        self.next = None\n",
    "\n",
    "class Solution:\n",
    "    def deleteDuplication(self, pHead):\n",
    "\n",
    "        if pHead is None or pHead.next is None:\n",
    "            return pHead\n",
    "        first = ListNode(-1)\n",
    "        first.next = pHead\n",
    "        last = first\n",
    "        while pHead and pHead.next:\n",
    "            if pHead.val == pHead.next.val:\n",
    "                val = pHead.val\n",
    "                while pHead and val == pHead.val:\n",
    "                    pHead = pHead.next\n",
    "                last.next = pHead\n",
    "                \n",
    "            else:\n",
    "                last = pHead\n",
    "                pHead = pHead.next\n",
    "        return first.next"
   ]
  },
  {
   "cell_type": "code",
   "execution_count": 64,
   "metadata": {
    "collapsed": true
   },
   "outputs": [],
   "source": [
    "node1= ListNode(1)\n",
    "node2= ListNode(2)\n",
    "node3= ListNode(3)\n",
    "node4= ListNode(3)\n",
    "node5= ListNode(4)\n",
    "node6= ListNode(4)\n",
    "node7= ListNode(5)\n",
    "\n",
    "node1.next=node2\n",
    "node2.next=node3\n",
    "node3.next=node4\n",
    "node4.next=node5\n",
    "node5.next=node6\n",
    "node6.next=node7"
   ]
  },
  {
   "cell_type": "code",
   "execution_count": 65,
   "metadata": {},
   "outputs": [],
   "source": [
    "so=Solution()\n",
    "head=so.deleteDuplication(node1)"
   ]
  },
  {
   "cell_type": "code",
   "execution_count": 66,
   "metadata": {},
   "outputs": [
    {
     "name": "stdout",
     "output_type": "stream",
     "text": [
      "1\n",
      "2\n",
      "5\n"
     ]
    }
   ],
   "source": [
    "while head:\n",
    "    print(head.val)\n",
    "    head=head.next"
   ]
  },
  {
   "cell_type": "markdown",
   "metadata": {},
   "source": [
    "## 面试19:正则表达式匹配"
   ]
  },
  {
   "cell_type": "markdown",
   "metadata": {},
   "source": [
    "题目：请实现一个函数用来匹配包括’.‘和’*‘的正则表达式。模式中的字符’.‘表示任意一个字符，而’'表示它前面的字符可以出现任意次（包含0次）。 在本题中，匹配是指字符串的所有字符匹配整个模式。例如，字符串\"aaa\"与模式\"a.a\"和\"ab*ac*a\"匹配，但是与\"aa.a\"和\"ab*a\"均不匹配"
   ]
  },
  {
   "cell_type": "code",
   "execution_count": 67,
   "metadata": {
    "collapsed": true
   },
   "outputs": [],
   "source": [
    "class Solution:\n",
    "    # s, pattern都是字符串\n",
    "    def match(self, s, pattern):\n",
    "        # 如果s与pattern都为空，则True\n",
    "        if len(s) == 0 and len(pattern) == 0:\n",
    "            return True\n",
    "        # 如果s不为空，而pattern为空，则False\n",
    "        elif len(s) != 0 and len(pattern) == 0:\n",
    "            return False\n",
    "        # 如果s为空，而pattern不为空，则需要判断\n",
    "        elif len(s) == 0 and len(pattern) != 0:\n",
    "            # pattern中的第二个字符为*，则pattern后移两位继续比较\n",
    "            if len(pattern) > 1 and pattern[1] == '*':\n",
    "                return self.match(s, pattern[2:])\n",
    "            else:\n",
    "                return False\n",
    "        # s与pattern都不为空的情况\n",
    "        else:\n",
    "            # pattern的第二个字符为*的情况\n",
    "            if len(pattern) > 1 and pattern[1] == '*':\n",
    "                # s与pattern的第一个元素不同，则s不变，pattern后移两位，相当于pattern前两位当成空\n",
    "                if s[0] != pattern[0] and pattern[0] != '.':\n",
    "                    return self.match(s, pattern[2:])\n",
    "                else:\n",
    "                    # 如果s[0]与pattern[0]相同，且pattern[1]为*，这个时候有三种情况\n",
    "                    # pattern后移2个，s不变；相当于把pattern前两位当成空，匹配后面的\n",
    "                    # pattern后移2个，s后移1个；相当于pattern前两位与s[0]匹配\n",
    "                    # pattern不变，s后移1个；相当于pattern前两位，与s中的多位进行匹配，因为*可以匹配多位\n",
    "                    return self.match(s, pattern[2:]) or self.match(s[1:], pattern[2:]) or self.match(s[1:], pattern)\n",
    "            # pattern第二个字符不为*的情况\n",
    "            else:\n",
    "                if s[0] == pattern[0] or pattern[0] == '.':\n",
    "                    return self.match(s[1:], pattern[1:])\n",
    "                else:\n",
    "                    return False"
   ]
  },
  {
   "cell_type": "code",
   "execution_count": 68,
   "metadata": {},
   "outputs": [
    {
     "data": {
      "text/plain": [
       "True"
      ]
     },
     "execution_count": 68,
     "metadata": {},
     "output_type": "execute_result"
    }
   ],
   "source": [
    "so=Solution()\n",
    "so.match(\"aaa\",\"a.a\")"
   ]
  },
  {
   "cell_type": "code",
   "execution_count": 69,
   "metadata": {},
   "outputs": [
    {
     "data": {
      "text/plain": [
       "True"
      ]
     },
     "execution_count": 69,
     "metadata": {},
     "output_type": "execute_result"
    }
   ],
   "source": [
    "so.match(\"aaa\",\"ab*ac*a\")"
   ]
  },
  {
   "cell_type": "code",
   "execution_count": 70,
   "metadata": {},
   "outputs": [
    {
     "data": {
      "text/plain": [
       "False"
      ]
     },
     "execution_count": 70,
     "metadata": {},
     "output_type": "execute_result"
    }
   ],
   "source": [
    "so.match(\"aaa\",\"aa.a\")"
   ]
  },
  {
   "cell_type": "markdown",
   "metadata": {},
   "source": [
    "## 面试20:表示数值的字符串"
   ]
  },
  {
   "cell_type": "markdown",
   "metadata": {},
   "source": [
    "题目:请实现一个函数用来判断字符串是否表示数值（包括整数和小数）。例如，字符串”+100”,”5e2”,”-123”,”3.1416”和”-1E-16”都表示数值。 但是”12e”,”1a3.14”,”1.2.3”,”+-5”和”12e+4.3”都不是。"
   ]
  },
  {
   "cell_type": "code",
   "execution_count": 71,
   "metadata": {
    "collapsed": true
   },
   "outputs": [],
   "source": [
    "class Solution:\n",
    "    # s字符串\n",
    "    def isNumeric(self, s):\n",
    "        # write code here\n",
    "        if len(s) <= 0:\n",
    "            return False\n",
    "        # 分别标记是否出现过正负号、小数点、e，因为这几个需要特殊考虑\n",
    "        has_sign = False\n",
    "        has_point = False\n",
    "        has_e = False\n",
    "        for i in range(len(s)):\n",
    "            # 对于e的情况\n",
    "            if s[i] == 'E' or s[i] == 'e':\n",
    "                # 不同出现两个e\n",
    "                if has_e:\n",
    "                    return False\n",
    "                # e不能出现在最后面，因为e后面要接数字\n",
    "                else:\n",
    "                    has_e = True\n",
    "                    if i == len(s) -1:\n",
    "                        return False   \n",
    "            # 对于符号位的情况\n",
    "            elif s[i] == '+' or s[i] == '-':\n",
    "                # 如果前面已经出现过了符号位，那么这个符号位，必须是跟在e后面的\n",
    "                if has_sign:\n",
    "                    if s[i-1] != 'e' and s[i-1] != 'E':\n",
    "                        return False\n",
    "                # 如果这是第一次出现符号位，而且出现的位置不是字符串第一个位置，那么就只能出现在e后面\n",
    "                else:\n",
    "                    has_sign = True\n",
    "                    if i > 0 and s[i-1] != 'e' and s[i-1] != 'E':\n",
    "                        return False\n",
    "            # 对于小数点的情况\n",
    "            elif s[i] == '.':\n",
    "                # 小数点不能出现两次；而且如果已经出现过e了，那么就不能再出现小数点，因为e后面只能是整数\n",
    "                if has_point or has_e:\n",
    "                    return False\n",
    "                # 如果是第一次出现小数点，如果前面出现过e，那么还是不能出现小数点\n",
    "                else:\n",
    "                    has_point = True\n",
    "                    if i > 0 and (s[i-1] == 'e' or s[i-1] == 'E'):\n",
    "                        return False\n",
    "            else:\n",
    "                # 其他字符必须是‘0’到‘9’之间的\n",
    "                if s[i] < '0' or s[i] > '9':\n",
    "                    return False\n",
    "        return True"
   ]
  },
  {
   "cell_type": "code",
   "execution_count": 72,
   "metadata": {},
   "outputs": [
    {
     "data": {
      "text/plain": [
       "True"
      ]
     },
     "execution_count": 72,
     "metadata": {},
     "output_type": "execute_result"
    }
   ],
   "source": [
    "so=Solution()\n",
    "so.isNumeric(\"+10.9992\")"
   ]
  },
  {
   "cell_type": "code",
   "execution_count": 73,
   "metadata": {},
   "outputs": [
    {
     "data": {
      "text/plain": [
       "False"
      ]
     },
     "execution_count": 73,
     "metadata": {},
     "output_type": "execute_result"
    }
   ],
   "source": [
    "so.isNumeric(\"+10e\")"
   ]
  },
  {
   "cell_type": "code",
   "execution_count": 74,
   "metadata": {},
   "outputs": [
    {
     "data": {
      "text/plain": [
       "True"
      ]
     },
     "execution_count": 74,
     "metadata": {},
     "output_type": "execute_result"
    }
   ],
   "source": [
    "so.isNumeric(\"+10e6\")"
   ]
  },
  {
   "cell_type": "code",
   "execution_count": 75,
   "metadata": {},
   "outputs": [
    {
     "data": {
      "text/plain": [
       "True"
      ]
     },
     "execution_count": 75,
     "metadata": {},
     "output_type": "execute_result"
    }
   ],
   "source": [
    "so.isNumeric(\"+10e-6\")"
   ]
  },
  {
   "cell_type": "code",
   "execution_count": 76,
   "metadata": {},
   "outputs": [
    {
     "data": {
      "text/plain": [
       "True"
      ]
     },
     "execution_count": 76,
     "metadata": {},
     "output_type": "execute_result"
    }
   ],
   "source": [
    "so.isNumeric(\"0\")"
   ]
  },
  {
   "cell_type": "code",
   "execution_count": 77,
   "metadata": {},
   "outputs": [
    {
     "data": {
      "text/plain": [
       "False"
      ]
     },
     "execution_count": 77,
     "metadata": {},
     "output_type": "execute_result"
    }
   ],
   "source": [
    "so.isNumeric(\"+10e-6.23\")"
   ]
  },
  {
   "cell_type": "markdown",
   "metadata": {
    "collapsed": true
   },
   "source": [
    "## 面试21:调整数组顺序使奇数位于偶数前面"
   ]
  },
  {
   "cell_type": "markdown",
   "metadata": {},
   "source": [
    "题目：输入一个整数数组，实现一个函数来调整该数组中数字的顺序，使得所有的奇数位于数组的前半部分，所有的偶数位于位于数组的后半部分"
   ]
  },
  {
   "cell_type": "code",
   "execution_count": 78,
   "metadata": {
    "collapsed": true
   },
   "outputs": [],
   "source": [
    "class Solution:\n",
    "    def reOrderArray(self, array):\n",
    "        return sorted(array,key=lambda c:c%2,reverse=True)"
   ]
  },
  {
   "cell_type": "code",
   "execution_count": 79,
   "metadata": {},
   "outputs": [
    {
     "data": {
      "text/plain": [
       "[1, 3, 5, 7, 2, 4, 6, 8]"
      ]
     },
     "execution_count": 79,
     "metadata": {},
     "output_type": "execute_result"
    }
   ],
   "source": [
    "so=Solution()\n",
    "so.reOrderArray([1,2,3,4,5,6,7,8])"
   ]
  },
  {
   "cell_type": "markdown",
   "metadata": {},
   "source": [
    "采用两指针分别从首尾出发，当头指针遇到一个偶数，并且尾指针遇到一个奇数时，交换两指针的数字，直到两指针相遇。时间复杂度为\n",
    "O(n)，(类似于快排) "
   ]
  },
  {
   "cell_type": "code",
   "execution_count": 80,
   "metadata": {
    "collapsed": true
   },
   "outputs": [],
   "source": [
    "class Solution:\n",
    "    def reOrderArray(self, array):\n",
    "        n = len(array)\n",
    "        head = 0\n",
    "        tail = n - 1\n",
    "        while head < tail:\n",
    "            while array[head]%2 != 0:\n",
    "                head += 1\n",
    "            while array[tail]%2 == 0:\n",
    "                tail -= 1\n",
    "            array[head], array[tail] = array[tail], array[head]\n",
    "            head += 1\n",
    "            tail -= 1"
   ]
  },
  {
   "cell_type": "code",
   "execution_count": 81,
   "metadata": {},
   "outputs": [
    {
     "data": {
      "text/plain": [
       "[1, 7, 3, 5, 4, 6, 2, 8]"
      ]
     },
     "execution_count": 81,
     "metadata": {},
     "output_type": "execute_result"
    }
   ],
   "source": [
    "so=Solution()\n",
    "array=[1,2,3,4,5,6,7,8]\n",
    "so.reOrderArray(array)\n",
    "array"
   ]
  },
  {
   "cell_type": "markdown",
   "metadata": {},
   "source": [
    "## 面试22:链表中倒数第k个结点"
   ]
  },
  {
   "cell_type": "markdown",
   "metadata": {},
   "source": [
    "题目：输入一个链表，输出该链表中倒数第k个结点。"
   ]
  },
  {
   "cell_type": "code",
   "execution_count": 82,
   "metadata": {
    "collapsed": true
   },
   "outputs": [],
   "source": [
    "class ListNode:\n",
    "    def __init__(self, x):\n",
    "        self.val = x\n",
    "        self.next = None\n",
    "\n",
    "class Solution:\n",
    "    def FindKthToTail(self, head, k):\n",
    "        # write code here\n",
    "        if head == None or k <= 0:\n",
    "            return None\n",
    "        \n",
    "        pAhead = head\n",
    "        pBhead = None\n",
    "        \n",
    "        for i in range(k-1):\n",
    "            if pAhead.next != None:\n",
    "                pAhead = pAhead.next\n",
    "            else:\n",
    "                return None\n",
    "            \n",
    "        pBhead = head\n",
    "        while pAhead.next != None:\n",
    "            pAhead = pAhead.next\n",
    "            pBhead = pBhead.next\n",
    "        return pBhead"
   ]
  },
  {
   "cell_type": "code",
   "execution_count": 83,
   "metadata": {
    "collapsed": true
   },
   "outputs": [],
   "source": [
    "llist1 = ListNode(1)\n",
    "pnode = llist1\n",
    "for i in range(2, 11):\n",
    "    pnode.next = ListNode(i)\n",
    "    pnode = pnode.next"
   ]
  },
  {
   "cell_type": "code",
   "execution_count": 84,
   "metadata": {},
   "outputs": [
    {
     "data": {
      "text/plain": [
       "8"
      ]
     },
     "execution_count": 84,
     "metadata": {},
     "output_type": "execute_result"
    }
   ],
   "source": [
    "so=Solution()\n",
    "so.FindKthToTail(llist1,3).val"
   ]
  },
  {
   "cell_type": "markdown",
   "metadata": {},
   "source": [
    "## 面试23:链表中环的入口结点"
   ]
  },
  {
   "cell_type": "markdown",
   "metadata": {},
   "source": [
    "题目：一个链表中包含环，请找出该链表的环的入口结点。"
   ]
  },
  {
   "cell_type": "code",
   "execution_count": 85,
   "metadata": {
    "collapsed": true
   },
   "outputs": [],
   "source": [
    "class ListNode:\n",
    "    def __init__(self, x):\n",
    "        self.val = x\n",
    "        self.next = None\n",
    "\n",
    "class Solution:\n",
    "    \n",
    "    def EntryNodeOfLoop(self, pHead):\n",
    "        meetNode = self.MeetNode(pHead)\n",
    "        if not meetNode:\n",
    "            return None\n",
    "        loop = 1\n",
    "        flag = meetNode\n",
    "        while flag.next != meetNode:\n",
    "            loop += 1\n",
    "            flag = flag.next\n",
    "            \n",
    "        fast = pHead\n",
    "        for i in range(loop):\n",
    "            fast = fast.next\n",
    "        slow = pHead\n",
    "        while fast != slow:\n",
    "            fast = fast.next\n",
    "            slow = slow.next\n",
    "        return fast\n",
    "    \n",
    "    def MeetNode(self, head):\n",
    "        if not head:\n",
    "            return None\n",
    "        slow = head.next\n",
    "        if slow == None:\n",
    "            return None\n",
    "        fast = slow.next\n",
    "        while fast:\n",
    "            if slow == fast:\n",
    "                return slow\n",
    "            slow = slow.next\n",
    "            fast = fast.next.next          "
   ]
  },
  {
   "cell_type": "code",
   "execution_count": 86,
   "metadata": {
    "collapsed": true
   },
   "outputs": [],
   "source": [
    "node1= ListNode(1)\n",
    "node2= ListNode(2)\n",
    "node3= ListNode(3)\n",
    "node4= ListNode(4)\n",
    "node5= ListNode(5)\n",
    "\n",
    "node1.next=node2\n",
    "node2.next=node3\n",
    "node3.next=node4\n",
    "node4.next=node5\n",
    "node5.next=node2"
   ]
  },
  {
   "cell_type": "code",
   "execution_count": 87,
   "metadata": {},
   "outputs": [],
   "source": [
    "so=Solution()\n",
    "head=so.EntryNodeOfLoop(node1)"
   ]
  },
  {
   "cell_type": "code",
   "execution_count": 88,
   "metadata": {},
   "outputs": [
    {
     "name": "stdout",
     "output_type": "stream",
     "text": [
      "2\n"
     ]
    }
   ],
   "source": [
    "print(head.val)"
   ]
  },
  {
   "cell_type": "markdown",
   "metadata": {},
   "source": [
    "## 面试24:反转链表"
   ]
  },
  {
   "cell_type": "markdown",
   "metadata": {},
   "source": [
    "题目：输入一个链表，输出反转后的链表。 "
   ]
  },
  {
   "cell_type": "code",
   "execution_count": 89,
   "metadata": {
    "collapsed": true
   },
   "outputs": [],
   "source": [
    "class ListNode:\n",
    "    def __init__(self, x):\n",
    "        self.val = x\n",
    "        self.next = None\n",
    "class Solution:\n",
    "    # 返回ListNode\n",
    "    def ReverseList(self, pHead):\n",
    "        # write code here\n",
    "        pReversedHead = None\n",
    "        pNode = pHead\n",
    "        pPrev = None\n",
    "        while pNode != None:\n",
    "            pNext = pNode.next\n",
    "            if pNext == None:\n",
    "                pReversedHead = pNode\n",
    "                \n",
    "            pNode.next = pPrev\n",
    "            pPrev = pNode\n",
    "            pNode = pNext\n",
    "        return pReversedHead"
   ]
  },
  {
   "cell_type": "code",
   "execution_count": 90,
   "metadata": {},
   "outputs": [
    {
     "name": "stdout",
     "output_type": "stream",
     "text": [
      "10\n",
      "9\n",
      "8\n",
      "7\n",
      "6\n",
      "5\n",
      "4\n",
      "3\n",
      "2\n",
      "1\n"
     ]
    }
   ],
   "source": [
    "llist1 = ListNode(1)\n",
    "pnode = llist1\n",
    "for i in range(2, 11):\n",
    "    pnode.next = ListNode(i)\n",
    "    pnode = pnode.next\n",
    "\n",
    "so = Solution()\n",
    "head=so.ReverseList(llist1)\n",
    "while head:\n",
    "    print(head.val)\n",
    "    head=head.next"
   ]
  },
  {
   "cell_type": "markdown",
   "metadata": {},
   "source": [
    "## 面试25:合并两个排序的链表"
   ]
  },
  {
   "cell_type": "markdown",
   "metadata": {},
   "source": [
    "题目：输入两个单调递增的链表，输出两个链表合成后的链表，当然我们需要合成后的链表满足单调不减规则。"
   ]
  },
  {
   "cell_type": "code",
   "execution_count": 91,
   "metadata": {
    "collapsed": true
   },
   "outputs": [],
   "source": [
    "class ListNode:\n",
    "    def __init__(self, x):\n",
    "        self.val = x\n",
    "        self.next = None\n",
    "\n",
    "class Solution:\n",
    "    \n",
    "    # 返回合并后列表\n",
    "    def Merge(self, pHead1, pHead2):\n",
    "        # write code here\n",
    "        if pHead1 == None:\n",
    "            return pHead2\n",
    "        if pHead2 == None:\n",
    "            return pHead1\n",
    "        \n",
    "        pMergeHead = None\n",
    "        if pHead1.val < pHead2.val:\n",
    "            pMergeHead = pHead1\n",
    "            pMergeHead.next = self.Merge(pHead1.next,pHead2)\n",
    "        else:\n",
    "            pMergeHead = pHead2\n",
    "            pMergeHead.next = self.Merge(pHead1,pHead2.next)\n",
    "        return pMergeHead"
   ]
  },
  {
   "cell_type": "code",
   "execution_count": 92,
   "metadata": {
    "collapsed": true
   },
   "outputs": [],
   "source": [
    "llist1 = ListNode(1)\n",
    "pnode1 = llist1\n",
    "for i in range(2, 11):\n",
    "    pnode1.next = ListNode(i)\n",
    "    pnode1 = pnode1.next\n",
    "\n",
    "llist2 = ListNode(5)\n",
    "pnode2 = llist2\n",
    "for i in range(6, 11):\n",
    "    pnode2.next = ListNode(i)\n",
    "    pnode2 = pnode2.next\n",
    "    \n",
    "so=Solution()"
   ]
  },
  {
   "cell_type": "code",
   "execution_count": 93,
   "metadata": {
    "collapsed": true
   },
   "outputs": [],
   "source": [
    "head=so.Merge(llist1,llist2)"
   ]
  },
  {
   "cell_type": "code",
   "execution_count": 94,
   "metadata": {},
   "outputs": [
    {
     "name": "stdout",
     "output_type": "stream",
     "text": [
      "1\n",
      "2\n",
      "3\n",
      "4\n",
      "5\n",
      "5\n",
      "6\n",
      "6\n",
      "7\n",
      "7\n",
      "8\n",
      "8\n",
      "9\n",
      "9\n",
      "10\n",
      "10\n"
     ]
    }
   ],
   "source": [
    "while head:\n",
    "    print(head.val)\n",
    "    head=head.next"
   ]
  },
  {
   "cell_type": "markdown",
   "metadata": {},
   "source": [
    "## 面试26:树的子结构"
   ]
  },
  {
   "cell_type": "markdown",
   "metadata": {},
   "source": [
    "题目：输入两棵二叉树A，B，判断B是不是A的子结构。（ps：我们约定空树不是任意一个树的子结构）"
   ]
  },
  {
   "cell_type": "code",
   "execution_count": 95,
   "metadata": {
    "collapsed": true
   },
   "outputs": [],
   "source": [
    "class TreeNode:\n",
    "    def __init__(self, x):\n",
    "        self.val = x\n",
    "        self.left = None\n",
    "        self.right = None\n",
    "class Solution:\n",
    "    def HasSubtree(self, pRoot1, pRoot2):\n",
    "\n",
    "        result = False\n",
    "        if pRoot1 != None and pRoot2 != None:\n",
    "            if pRoot1.val == pRoot2.val:\n",
    "                result = self.DoesTree1haveTree2(pRoot1,pRoot2)\n",
    "            if not result:\n",
    "                result = self.HasSubtree(pRoot1.left,pRoot2)\n",
    "            if not result:\n",
    "                result = self.HasSubtree(pRoot1.right,pRoot2)\n",
    "        \n",
    "        return result\n",
    "        \n",
    "    def DoesTree1haveTree2(self,pRoot1,pRoot2):\n",
    "        if pRoot2 == None:\n",
    "            return True\n",
    "        if pRoot1 == None:\n",
    "            return False\n",
    "        if pRoot1.val != pRoot2.val:\n",
    "            return False\n",
    "        \n",
    "        return self.DoesTree1haveTree2(pRoot1.left, pRoot2.left) and self.DoesTree1haveTree2(pRoot1.right, pRoot2.right)"
   ]
  },
  {
   "cell_type": "code",
   "execution_count": 96,
   "metadata": {},
   "outputs": [
    {
     "data": {
      "text/plain": [
       "True"
      ]
     },
     "execution_count": 96,
     "metadata": {},
     "output_type": "execute_result"
    }
   ],
   "source": [
    "Root = TreeNode(5)\n",
    "Root.left = TreeNode(3)\n",
    "Root.left.left = TreeNode(2)\n",
    "Root.left.right = TreeNode(4)\n",
    "Root.right = TreeNode(7)\n",
    "Root.right.left = TreeNode(6)\n",
    "Root.right.right = TreeNode(8)\n",
    "\n",
    "so=Solution()\n",
    "so.HasSubtree(Root,Root.right)"
   ]
  },
  {
   "cell_type": "markdown",
   "metadata": {},
   "source": [
    "## 面试27:二叉树的镜像"
   ]
  },
  {
   "cell_type": "markdown",
   "metadata": {},
   "source": [
    "题目:操作给定的二叉树，将其变换为源二叉树的镜像。 "
   ]
  },
  {
   "cell_type": "code",
   "execution_count": 97,
   "metadata": {
    "collapsed": true
   },
   "outputs": [],
   "source": [
    "class TreeNode:\n",
    "    def __init__(self, x):\n",
    "        self.val = x\n",
    "        self.left = None\n",
    "        self.right = None\n",
    "\n",
    "class Solution:\n",
    "    # 返回镜像树的根节点\n",
    "    def Mirror(self, root):\n",
    "    \n",
    "        if root == None:\n",
    "            return\n",
    "        if root.left == None and root.right == None:\n",
    "            return root\n",
    "        ptemp = root.left\n",
    "        root.left = root.right\n",
    "        root.right = ptemp\n",
    "        \n",
    "        self.Mirror(root.left)\n",
    "        self.Mirror(root.right)\n",
    "        \n",
    "    # 按行打印二叉树\n",
    "    def Print(self, pRoot):\n",
    "        if pRoot is None:\n",
    "            return []\n",
    "        nodes, res = [pRoot], []\n",
    "        while nodes:\n",
    "            curStack, nextStack = [], []\n",
    "            for node in nodes:\n",
    "                curStack.append(node.val)\n",
    "                if node.left:\n",
    "                    nextStack.append(node.left)\n",
    "                if node.right:\n",
    "                    nextStack.append(node.right)\n",
    "            res.append(curStack)\n",
    "            nodes = nextStack\n",
    "        return res"
   ]
  },
  {
   "cell_type": "code",
   "execution_count": 98,
   "metadata": {
    "collapsed": true
   },
   "outputs": [],
   "source": [
    "Root = TreeNode(5)\n",
    "Root.left = TreeNode(3)\n",
    "Root.left.left = TreeNode(2)\n",
    "Root.left.right = TreeNode(4)\n",
    "Root.right = TreeNode(7)\n",
    "Root.right.left = TreeNode(6)\n",
    "Root.right.right = TreeNode(8)"
   ]
  },
  {
   "cell_type": "code",
   "execution_count": 99,
   "metadata": {
    "collapsed": true
   },
   "outputs": [],
   "source": [
    "so=Solution()"
   ]
  },
  {
   "cell_type": "code",
   "execution_count": 100,
   "metadata": {},
   "outputs": [
    {
     "name": "stdout",
     "output_type": "stream",
     "text": [
      "[[5], [3, 7], [2, 4, 6, 8]]\n"
     ]
    },
    {
     "data": {
      "text/plain": [
       "[[5], [7, 3], [8, 6, 4, 2]]"
      ]
     },
     "execution_count": 100,
     "metadata": {},
     "output_type": "execute_result"
    }
   ],
   "source": [
    "print(so.Print(Root))\n",
    "so.Mirror(Root)\n",
    "so.Print(Root)"
   ]
  },
  {
   "cell_type": "markdown",
   "metadata": {},
   "source": [
    "## 面试28:对称的二叉树"
   ]
  },
  {
   "cell_type": "markdown",
   "metadata": {
    "collapsed": true
   },
   "source": [
    "题目：请实现一个函数，用来判断一颗二叉树是不是对称的。注意，如果一个二叉树同此二叉树的镜像是同样的，定义其为对称的。"
   ]
  },
  {
   "cell_type": "code",
   "execution_count": 101,
   "metadata": {
    "collapsed": true
   },
   "outputs": [],
   "source": [
    "class TreeNode:\n",
    "    def __init__(self, x):\n",
    "        self.val = x\n",
    "        self.left = None\n",
    "        self.right = None\n",
    "\n",
    "class Solution:\n",
    "    \n",
    "    def isSymmetrical(self, pRoot):\n",
    "        return self.selfIsSym(pRoot,pRoot)\n",
    "    \n",
    "    def selfIsSym(self,root1,root2):\n",
    "        if root1 == root2 and root2 == None:\n",
    "            return True\n",
    "        if root1 == None or root2 == None:\n",
    "            return False\n",
    "        if root1.val != root2.val:\n",
    "            return False\n",
    "        return self.selfIsSym(root1.left, root2.right) and self.selfIsSym(root1.right,root2.left)"
   ]
  },
  {
   "cell_type": "code",
   "execution_count": 102,
   "metadata": {},
   "outputs": [
    {
     "data": {
      "text/plain": [
       "True"
      ]
     },
     "execution_count": 102,
     "metadata": {},
     "output_type": "execute_result"
    }
   ],
   "source": [
    "Root = TreeNode(5)\n",
    "Root.left = TreeNode(3)\n",
    "Root.left.left = TreeNode(2)\n",
    "Root.left.right = TreeNode(4)\n",
    "Root.right = TreeNode(3)\n",
    "Root.right.left = TreeNode(4)\n",
    "Root.right.right = TreeNode(2)\n",
    "\n",
    "so=Solution()\n",
    "so.isSymmetrical(Root)"
   ]
  },
  {
   "cell_type": "markdown",
   "metadata": {},
   "source": [
    "## 面试29:顺时针打印矩阵"
   ]
  },
  {
   "cell_type": "markdown",
   "metadata": {},
   "source": [
    "输入一个矩阵，按照从外向里以顺时针的顺序依次打印出每一个数字，例如，如果输入如下4 X 4矩阵： \n",
    "```\n",
    "1 2 3 4 \n",
    "5 6 7 8 \n",
    "9 10 11 12 \n",
    "13 14 15 16 \n",
    "```\n",
    "则依次打印出数字1,2,3,4,8,12,16,15,14,13,9,5,6,7,11,10."
   ]
  },
  {
   "cell_type": "code",
   "execution_count": 103,
   "metadata": {
    "collapsed": true
   },
   "outputs": [],
   "source": [
    "class Solution:\n",
    "    # matrix类型为二维列表，需要返回列表\n",
    "    def printMatrix(self, matrix):\n",
    "        if not matrix:\n",
    "            return []\n",
    "        \n",
    "        rows = len(matrix)\n",
    "        columns = len(matrix[0])\n",
    "        start = 0\n",
    "        result = []\n",
    "        while rows > start * 2 and columns > start * 2:\n",
    "            self.PrintMatrixInCircle(matrix, columns, rows, start,result)\n",
    "            start += 1\n",
    "        return result    \n",
    "            \n",
    "    def PrintMatrixInCircle(self, matrix, columns, rows,start,result):\n",
    "        endX = columns - 1 - start\n",
    "        endY = rows - 1 - start\n",
    "\n",
    "        # 从左到右打印一行\n",
    "        for i in range(start, endX+1):\n",
    "            #number = matrix[start][i]\n",
    "            result.append(matrix[start][i])\n",
    "\n",
    "        # 从上到下打印一行\n",
    "        if start < endY:\n",
    "            for i in range(start+1, endY+1):\n",
    "                #number = matrix[i][endX]\n",
    "                result.append(matrix[i][endX])\n",
    "\n",
    "        # 从右到左打印一行\n",
    "        if start < endX and start < endY:\n",
    "            for i in range(endX-1, start-1, -1):\n",
    "                #number = matrix[endY][i]\n",
    "                result.append(matrix[endY][i])\n",
    "\n",
    "        # 从下到上打印一行\n",
    "        if start < endX and start < endY-1:\n",
    "            for i in range(endY-1, start, -1):\n",
    "                #number = matrix[i][start]\n",
    "                result.append(matrix[i][start])"
   ]
  },
  {
   "cell_type": "code",
   "execution_count": 104,
   "metadata": {},
   "outputs": [
    {
     "data": {
      "text/plain": [
       "[1, 2, 3, 4, 8, 12, 16, 15, 14, 13, 9, 5, 6, 7, 11, 10]"
      ]
     },
     "execution_count": 104,
     "metadata": {},
     "output_type": "execute_result"
    }
   ],
   "source": [
    "so=Solution()\n",
    "so.printMatrix([[1,2,3,4],[5,6,7,8],[9,10,11,12],[13,14,15,16]])"
   ]
  },
  {
   "cell_type": "markdown",
   "metadata": {},
   "source": [
    "## 面试30:包含main函数的栈"
   ]
  },
  {
   "cell_type": "markdown",
   "metadata": {},
   "source": [
    "题目:定义栈的数据结构，请在该类型中实现一个能够得到栈最小元素的min函数。"
   ]
  },
  {
   "cell_type": "code",
   "execution_count": 105,
   "metadata": {
    "collapsed": true
   },
   "outputs": [],
   "source": [
    "class Solution:\n",
    "    def __init__(self):\n",
    "        self.stack = []\n",
    "        self.minStack = []\n",
    "        \n",
    "    def push(self, node):\n",
    "        # write code here\n",
    "        self.stack.append(node)\n",
    "        if self.minStack == [] or node < self.min():\n",
    "            self.minStack.append(node)\n",
    "        else:\n",
    "            temp = self.min()\n",
    "            self.minStack.append(temp)\n",
    "        \n",
    "    def pop(self):\n",
    "        # write code here\n",
    "        if self.stack == None or self.minStack == None:\n",
    "            return None\n",
    "        self.minStack.pop()\n",
    "        self.stack.pop()\n",
    "        \n",
    "    def top(self):\n",
    "        # write code here\n",
    "        return self.stack[-1]\n",
    "        \n",
    "    def min(self):\n",
    "        # write code here\n",
    "        return self.minStack[-1]"
   ]
  },
  {
   "cell_type": "code",
   "execution_count": 106,
   "metadata": {},
   "outputs": [
    {
     "data": {
      "text/plain": [
       "5"
      ]
     },
     "execution_count": 106,
     "metadata": {},
     "output_type": "execute_result"
    }
   ],
   "source": [
    "so=Solution()\n",
    "so.push(5)\n",
    "so.min()"
   ]
  },
  {
   "cell_type": "code",
   "execution_count": 107,
   "metadata": {},
   "outputs": [
    {
     "data": {
      "text/plain": [
       "1"
      ]
     },
     "execution_count": 107,
     "metadata": {},
     "output_type": "execute_result"
    }
   ],
   "source": [
    "so.push(1)\n",
    "so.min()"
   ]
  },
  {
   "cell_type": "markdown",
   "metadata": {},
   "source": [
    "## 面试31:栈的压入、弹出序列"
   ]
  },
  {
   "cell_type": "markdown",
   "metadata": {},
   "source": [
    "题目:输入两个整数序列，第一个序列表示栈的压入顺序，请判断第二个序列是否可能为该栈的弹出顺序。假设压入栈的所有数字均不相等。例如序列 {1, 2, 3, 4, 5} 是某栈的压入序列，序列 {4, 5, 3, 2, 1} 是该压栈序列对应的一个弹出序列，但 {4, 3, 5, 1, 2} 就不可能是该压栈序列的弹出序列。（注意：这两个序列的长度是相等的）"
   ]
  },
  {
   "cell_type": "code",
   "execution_count": 108,
   "metadata": {
    "collapsed": true
   },
   "outputs": [],
   "source": [
    "class Solution:\n",
    "    def IsPopOrder(self, pushV, popV):\n",
    "        # write code here\n",
    "        if pushV == [] or popV == []:\n",
    "            return False\n",
    "        \n",
    "        stack = []\n",
    "        for i in pushV:\n",
    "            stack.append(i)\n",
    "            while len(stack) and stack[-1] == popV[0]:\n",
    "                stack.pop()\n",
    "                popV.pop(0)\n",
    "            \n",
    "        if len(stack): \n",
    "            return False\n",
    "        else:\n",
    "            return True"
   ]
  },
  {
   "cell_type": "code",
   "execution_count": 109,
   "metadata": {},
   "outputs": [
    {
     "data": {
      "text/plain": [
       "False"
      ]
     },
     "execution_count": 109,
     "metadata": {},
     "output_type": "execute_result"
    }
   ],
   "source": [
    "so=Solution()\n",
    "so.IsPopOrder([1,2,3,4,5],[4,3,5,1,2])"
   ]
  },
  {
   "cell_type": "code",
   "execution_count": 110,
   "metadata": {},
   "outputs": [
    {
     "data": {
      "text/plain": [
       "True"
      ]
     },
     "execution_count": 110,
     "metadata": {},
     "output_type": "execute_result"
    }
   ],
   "source": [
    "so.IsPopOrder([1,2,3,4,5],[4,5,3,2,1])"
   ]
  },
  {
   "cell_type": "markdown",
   "metadata": {},
   "source": [
    "## 面试32:从上往下打印二叉树"
   ]
  },
  {
   "cell_type": "markdown",
   "metadata": {},
   "source": [
    "题目一：不分行从上到下打印二叉树"
   ]
  },
  {
   "cell_type": "code",
   "execution_count": 111,
   "metadata": {
    "collapsed": true
   },
   "outputs": [],
   "source": [
    "class TreeNode:\n",
    "    def __init__(self, x):\n",
    "        self.val = x\n",
    "        self.left = None\n",
    "        self.right = None\n",
    "\n",
    "class Solution:\n",
    "    # 返回从上到下每个节点值列表，例：[1,2,3]\n",
    "    def PrintFromTopToBottom(self, root):\n",
    "        # write code here\n",
    "        if root is None:\n",
    "            return []\n",
    "        queue = []\n",
    "        result = []\n",
    "        \n",
    "        queue.append(root)\n",
    "        while len(queue) > 0:\n",
    "            currentRoot = queue.pop(0)\n",
    "            result.append(currentRoot.val)\n",
    "            if currentRoot.left:\n",
    "                queue.append(currentRoot.left)\n",
    "            if currentRoot.right:\n",
    "                queue.append(currentRoot.right)\n",
    "                \n",
    "        return result"
   ]
  },
  {
   "cell_type": "code",
   "execution_count": 112,
   "metadata": {},
   "outputs": [
    {
     "data": {
      "text/plain": [
       "[5, 3, 7, 2, 4, 6, 8]"
      ]
     },
     "execution_count": 112,
     "metadata": {},
     "output_type": "execute_result"
    }
   ],
   "source": [
    "Root = TreeNode(5)\n",
    "Root.left = TreeNode(3)\n",
    "Root.left.left = TreeNode(2)\n",
    "Root.left.right = TreeNode(4)\n",
    "Root.right = TreeNode(7)\n",
    "Root.right.left = TreeNode(6)\n",
    "Root.right.right = TreeNode(8)\n",
    "\n",
    "so=Solution()\n",
    "so.PrintFromTopToBottom(Root)"
   ]
  },
  {
   "cell_type": "markdown",
   "metadata": {},
   "source": [
    "题目二：分行上到下打印二叉树"
   ]
  },
  {
   "cell_type": "code",
   "execution_count": 113,
   "metadata": {
    "collapsed": true
   },
   "outputs": [],
   "source": [
    "class TreeNode:\n",
    "    def __init__(self, x):\n",
    "        self.val = x\n",
    "        self.left = None\n",
    "        self.right = None\n",
    "class Solution:\n",
    "    \n",
    "    def Print(self, pRoot):\n",
    "        # write code here\n",
    "        if pRoot is None:\n",
    "            return []\n",
    "        nodes,res = [pRoot],[]\n",
    "        while nodes:\n",
    "            curStack, nextStack = [],[]\n",
    "            for node in nodes:\n",
    "                curStack.append(node.val)\n",
    "                if node.left:\n",
    "                    nextStack.append(node.left)\n",
    "                if node.right:\n",
    "                    nextStack.append(node.right)\n",
    "            res.append(curStack)\n",
    "            nodes = nextStack\n",
    "        return res"
   ]
  },
  {
   "cell_type": "code",
   "execution_count": 114,
   "metadata": {},
   "outputs": [
    {
     "data": {
      "text/plain": [
       "[[5], [3, 7], [2, 4, 6, 8]]"
      ]
     },
     "execution_count": 114,
     "metadata": {},
     "output_type": "execute_result"
    }
   ],
   "source": [
    "Root = TreeNode(5)\n",
    "Root.left = TreeNode(3)\n",
    "Root.left.left = TreeNode(2)\n",
    "Root.left.right = TreeNode(4)\n",
    "Root.right = TreeNode(7)\n",
    "Root.right.left = TreeNode(6)\n",
    "Root.right.right = TreeNode(8)\n",
    "\n",
    "so=Solution()\n",
    "so.Print(Root)"
   ]
  },
  {
   "cell_type": "markdown",
   "metadata": {},
   "source": [
    "题目三：按之字形顺序打印二叉树"
   ]
  },
  {
   "cell_type": "code",
   "execution_count": 115,
   "metadata": {
    "collapsed": true
   },
   "outputs": [],
   "source": [
    "class TreeNode:\n",
    "    def __init__(self, x):\n",
    "        self.val = x\n",
    "        self.left = None\n",
    "        self.right = None\n",
    "\n",
    "class Solution:\n",
    "    def Print(self, pRoot):\n",
    "        # write code here\n",
    "        if not pRoot:\n",
    "            return []\n",
    "        result,nodes = [],[pRoot]\n",
    "        right = True\n",
    "        while nodes:\n",
    "            curStack, nextStack = [],[]\n",
    "            if right:\n",
    "                for node in nodes:\n",
    "                    curStack.append(node.val)\n",
    "                    if node.left:\n",
    "                        nextStack.append(node.left)\n",
    "                    if node.right:\n",
    "                        nextStack.append(node.right)\n",
    "            else:\n",
    "                for node in nodes:\n",
    "                    curStack.append(node.val)\n",
    "                    if node.right:\n",
    "                        nextStack.append(node.right)\n",
    "                    if node.left:\n",
    "                        nextStack.append(node.left)\n",
    "            nextStack.reverse()\n",
    "            right = not right\n",
    "            result.append(curStack)\n",
    "            nodes = nextStack\n",
    "        return result"
   ]
  },
  {
   "cell_type": "code",
   "execution_count": 116,
   "metadata": {},
   "outputs": [
    {
     "data": {
      "text/plain": [
       "[[5], [7, 3], [2, 4, 6, 8]]"
      ]
     },
     "execution_count": 116,
     "metadata": {},
     "output_type": "execute_result"
    }
   ],
   "source": [
    "Root = TreeNode(5)\n",
    "Root.left = TreeNode(3)\n",
    "Root.left.left = TreeNode(2)\n",
    "Root.left.right = TreeNode(4)\n",
    "Root.right = TreeNode(7)\n",
    "Root.right.left = TreeNode(6)\n",
    "Root.right.right = TreeNode(8)\n",
    "\n",
    "so=Solution()\n",
    "so.Print(Root)"
   ]
  },
  {
   "cell_type": "markdown",
   "metadata": {},
   "source": [
    "## 面试33:二叉搜索树的后序遍历序列"
   ]
  },
  {
   "cell_type": "markdown",
   "metadata": {},
   "source": [
    "题目：输入一个整数数组，判断该数组是不是某二叉搜索树的后序遍历的结果。如果是则输出Yes,否则输出No。假设输入的数组的任意两个数字都互不相同。"
   ]
  },
  {
   "cell_type": "code",
   "execution_count": 117,
   "metadata": {
    "collapsed": true
   },
   "outputs": [],
   "source": [
    "class Solution:\n",
    "    def VerifySquenceOfBST(self, sequence):\n",
    "        # write code here\n",
    "        if sequence == []:\n",
    "            return False\n",
    "        \n",
    "        length = len(sequence)\n",
    "        root = sequence[-1]\n",
    "        \n",
    "        for i in range(length):\n",
    "            if sequence[i] > root:\n",
    "                break\n",
    "        \n",
    "        for j in range(i, length):\n",
    "            if sequence[j] < root:\n",
    "                return False\n",
    "            \n",
    "        left = True\n",
    "        if i > 0:\n",
    "            left = self.VerifySquenceOfBST(sequence[:i])\n",
    "        right = True\n",
    "        if j < length - 1:\n",
    "            right = self.VerifySquenceOfBST(sequence[i:length-1])\n",
    "            \n",
    "        return left and right"
   ]
  },
  {
   "cell_type": "code",
   "execution_count": 118,
   "metadata": {},
   "outputs": [
    {
     "data": {
      "text/plain": [
       "True"
      ]
     },
     "execution_count": 118,
     "metadata": {},
     "output_type": "execute_result"
    }
   ],
   "source": [
    "so=Solution()\n",
    "so.VerifySquenceOfBST([5,7,6,9,11,10,8])"
   ]
  },
  {
   "cell_type": "markdown",
   "metadata": {},
   "source": [
    "## 面试34:二叉树中和为某一值的路径"
   ]
  },
  {
   "cell_type": "markdown",
   "metadata": {},
   "source": [
    "题目:输入一颗二叉树和一个整数，打印出二叉树中结点值的和为输入整数的所有路径。路径定义为从树的根结点开始往下一直到叶结点所经过的结点形成一条路径。"
   ]
  },
  {
   "cell_type": "code",
   "execution_count": 119,
   "metadata": {
    "collapsed": true
   },
   "outputs": [],
   "source": [
    "class TreeNode:\n",
    "    def __init__(self, x):\n",
    "        self.val = x\n",
    "        self.left = None\n",
    "        self.right = None\n",
    "\n",
    "class Solution:\n",
    "    # 返回二维列表，内部每个列表表示找到的路径\n",
    "    def FindPath(self, root, expectNumber):\n",
    "        # write code here\n",
    "        if not root or root.val > expectNumber:\n",
    "            return []\n",
    "        \n",
    "        if not root.left and not root.right and root.val == expectNumber:\n",
    "            return [[root.val]]\n",
    "        else:\n",
    "            expectNumber -= root.val\n",
    "            left = self.FindPath(root.left,expectNumber)\n",
    "            right = self.FindPath(root.right,expectNumber)\n",
    "            \n",
    "            result = [[root.val]+i for i in left]\n",
    "            for i in right:\n",
    "                result.append([root.val]+i)\n",
    "            \n",
    "        return sorted(result, key=lambda x:-len(x))"
   ]
  },
  {
   "cell_type": "code",
   "execution_count": 120,
   "metadata": {},
   "outputs": [
    {
     "data": {
      "text/plain": [
       "[[5, 3, 2]]"
      ]
     },
     "execution_count": 120,
     "metadata": {},
     "output_type": "execute_result"
    }
   ],
   "source": [
    "Root = TreeNode(5)\n",
    "Root.left = TreeNode(3)\n",
    "Root.left.left = TreeNode(2)\n",
    "Root.left.right = TreeNode(4)\n",
    "Root.right = TreeNode(7)\n",
    "Root.right.left = TreeNode(6)\n",
    "Root.right.right = TreeNode(8)\n",
    "\n",
    "so=Solution()\n",
    "so.FindPath(Root,10)"
   ]
  },
  {
   "cell_type": "markdown",
   "metadata": {},
   "source": [
    "## 面试35:复杂链表的复制"
   ]
  },
  {
   "cell_type": "markdown",
   "metadata": {},
   "source": [
    "题目：输入一个复杂链表（每个节点中有节点值，以及两个指针，一个指向下一个节点，另一个特殊指针指向任意一个节点），返回结果为复制后复杂链表的head。（注意，输出结果中请不要返回参数中的节点引用，否则判题程序会直接返回空）"
   ]
  },
  {
   "cell_type": "code",
   "execution_count": 121,
   "metadata": {
    "collapsed": true
   },
   "outputs": [],
   "source": [
    "class RandomListNode:\n",
    "    def __init__(self, x):\n",
    "        self.label = x\n",
    "        self.next = None\n",
    "        self.random = None\n",
    "    \n",
    "class Solution:\n",
    "    # 返回 RandomListNode\n",
    "    def Clone(self, pHead):\n",
    "        # write code here\n",
    "        if not pHead:\n",
    "            return None\n",
    "        pNode = pHead\n",
    "        \n",
    "        while pNode:\n",
    "            pClone = RandomListNode(pNode.label)\n",
    "            pClone.next = pNode.next\n",
    "            pNode.next = pClone\n",
    "            pNode = pClone.next\n",
    "        \n",
    "        pNode = pHead\n",
    "        \n",
    "        while pNode:\n",
    "            pClone = pNode.next\n",
    "            if pNode.random != None:\n",
    "                pClone.random = pNode.random.next\n",
    "            pNode = pClone.next\n",
    "            \n",
    "        pNode = pHead\n",
    "        pCloneHead = pCloneNode = pNode.next\n",
    "        pNode.next = pCloneHead.next\n",
    "        pNode = pNode.next\n",
    "        \n",
    "        while pNode:\n",
    "            pCloneNode.next = pNode.next\n",
    "            pCloneNode = pCloneNode.next\n",
    "            pNode.next = pCloneNode.next\n",
    "            pNode = pNode.next\n",
    "            \n",
    "        return pCloneHead"
   ]
  },
  {
   "cell_type": "markdown",
   "metadata": {},
   "source": [
    "## 面试题36:二叉搜索树与双向链表"
   ]
  },
  {
   "cell_type": "markdown",
   "metadata": {},
   "source": [
    "题目:输入一棵二叉搜索树，将该二叉搜索树转换成一个排序的双向链表。要求不能创建任何新的结点，只能调整树中结点指针的指向。"
   ]
  },
  {
   "cell_type": "code",
   "execution_count": 122,
   "metadata": {
    "collapsed": true
   },
   "outputs": [],
   "source": [
    "class TreeNode:\n",
    "    def __init__(self, x):\n",
    "        self.val = x\n",
    "        self.left = None\n",
    "        self.right = None\n",
    "\n",
    "class Solution:\n",
    "    def Convert(self, pRootOfTree):\n",
    "        if not pRootOfTree:\n",
    "            return None\n",
    "        \n",
    "        if not pRootOfTree.left and not pRootOfTree.right:\n",
    "            return pRootOfTree\n",
    "        \n",
    "        self.Convert(pRootOfTree.left)\n",
    "        left = pRootOfTree.left\n",
    "        \n",
    "        if left:\n",
    "            while left.right:\n",
    "                left = left.right\n",
    "                \n",
    "            pRootOfTree.left = left\n",
    "            left.right = pRootOfTree\n",
    "            \n",
    "        self.Convert(pRootOfTree.right)\n",
    "        right = pRootOfTree.right\n",
    "        \n",
    "        if right:\n",
    "            while right.left:\n",
    "                right = right.left\n",
    "            pRootOfTree.right = right\n",
    "            right.left = pRootOfTree\n",
    "            \n",
    "        while pRootOfTree.left:\n",
    "            pRootOfTree = pRootOfTree.left\n",
    "            \n",
    "        return pRootOfTree"
   ]
  },
  {
   "cell_type": "code",
   "execution_count": 123,
   "metadata": {
    "collapsed": true
   },
   "outputs": [],
   "source": [
    "Root = TreeNode(5)\n",
    "Root.left = TreeNode(3)\n",
    "Root.left.left = TreeNode(2)\n",
    "Root.left.right = TreeNode(4)\n",
    "Root.right = TreeNode(7)\n",
    "Root.right.left = TreeNode(6)\n",
    "Root.right.right = TreeNode(8)"
   ]
  },
  {
   "cell_type": "code",
   "execution_count": 124,
   "metadata": {
    "collapsed": true
   },
   "outputs": [],
   "source": [
    "so=Solution()\n",
    "head=so.Convert(Root)"
   ]
  },
  {
   "cell_type": "code",
   "execution_count": 125,
   "metadata": {},
   "outputs": [
    {
     "name": "stdout",
     "output_type": "stream",
     "text": [
      "2\n",
      "3\n",
      "4\n",
      "5\n",
      "6\n",
      "7\n",
      "8\n"
     ]
    }
   ],
   "source": [
    "while head:\n",
    "    print(head.val)\n",
    "    head=head.right"
   ]
  },
  {
   "cell_type": "markdown",
   "metadata": {},
   "source": [
    "## 面试题37:序列化二叉树"
   ]
  },
  {
   "cell_type": "markdown",
   "metadata": {},
   "source": [
    "题目:请实现两个函数，分别用来序列化和反序列化二叉树。\n",
    "    \n",
    "序列化二叉树：把一棵二叉树按照某种遍历方式的结果以某种格式保存为字符串。需要注意的是，序列化二叉树的过程中，如果遇到空节点，需要以某种符号（这里用#）表示。以下图二叉树为例，序列化二叉树时，需要将空节点也存入字符串中。\n",
    "\n",
    "反序列化二叉树：根据某种遍历顺序得到的序列化字符串，重构二叉树。具体思路是按前序遍历“根左右”的顺序，根节点位于其左右子节点的前面，即非空（#）的第一个节点是某子树的根节点，左右子节点在该根节点后，以空节点#为分隔符。"
   ]
  },
  {
   "cell_type": "code",
   "execution_count": 126,
   "metadata": {
    "collapsed": true
   },
   "outputs": [],
   "source": [
    "class TreeNode:\n",
    "    def __init__(self, x):\n",
    "        self.val = x\n",
    "        self.left = None\n",
    "        self.right = None\n",
    "\n",
    "\n",
    "class Solution:\n",
    "    def __init__(self):\n",
    "        self.flag = -1\n",
    "         \n",
    "    def Serialize(self, root):\n",
    "        if not root:\n",
    "            return '#,'\n",
    "        return str(root.val)+','+self.Serialize(root.left)+self.Serialize(root.right)\n",
    "         \n",
    "    def Deserialize(self, s):\n",
    "        # write code here\n",
    "        self.flag += 1\n",
    "        l = s.split(',')\n",
    "         \n",
    "        if self.flag >= len(s):\n",
    "            return None\n",
    "        root = None\n",
    "         \n",
    "        if l[self.flag] != '#':\n",
    "            root = TreeNode(int(l[self.flag]))\n",
    "            root.left = self.Deserialize(s)\n",
    "            root.right = self.Deserialize(s)\n",
    "        return root  "
   ]
  },
  {
   "cell_type": "code",
   "execution_count": 127,
   "metadata": {},
   "outputs": [
    {
     "name": "stdout",
     "output_type": "stream",
     "text": [
      "5,3,2,#,#,4,#,#,7,6,#,#,8,#,#,\n"
     ]
    },
    {
     "data": {
      "text/plain": [
       "5"
      ]
     },
     "execution_count": 127,
     "metadata": {},
     "output_type": "execute_result"
    }
   ],
   "source": [
    "Root = TreeNode(5)\n",
    "Root.left = TreeNode(3)\n",
    "Root.left.left = TreeNode(2)\n",
    "Root.left.right = TreeNode(4)\n",
    "Root.right = TreeNode(7)\n",
    "Root.right.left = TreeNode(6)\n",
    "Root.right.right = TreeNode(8)\n",
    "\n",
    "so=Solution()\n",
    "s=so.Serialize(Root)\n",
    "print(s)\n",
    "so.Deserialize(s).val"
   ]
  },
  {
   "cell_type": "markdown",
   "metadata": {},
   "source": [
    "## 面试题38:字符串的排列"
   ]
  },
  {
   "cell_type": "markdown",
   "metadata": {},
   "source": [
    "题目:输入一个字符串,按字典序打印出该字符串中字符的所有排列。例如输入字符串abc,则打印出由字符a,b,c所能排列出来的所有字符串abc,acb,bac,bca,cab和cba。 "
   ]
  },
  {
   "cell_type": "code",
   "execution_count": 128,
   "metadata": {
    "collapsed": true
   },
   "outputs": [],
   "source": [
    "class Solution:\n",
    "    def Permutation(self, ss):\n",
    "        # write code here\n",
    "        if not ss:\n",
    "            return []\n",
    "        if len(ss) == 1:\n",
    "            return list(ss)\n",
    "\n",
    "        charList = list(ss)\n",
    "        charList.sort()\n",
    "        pStr = []\n",
    "        for i in range(0, len(charList)):\n",
    "            if i > 0 and charList[i] == charList[i - 1]:\n",
    "                continue\n",
    "            temp = self.Permutation(''.join(charList[:i]) +\n",
    "                                    ''.join(charList[i + 1:]))\n",
    "            for j in temp:\n",
    "                pStr.append(charList[i] + j)\n",
    "\n",
    "        return pStr"
   ]
  },
  {
   "cell_type": "code",
   "execution_count": 129,
   "metadata": {},
   "outputs": [
    {
     "data": {
      "text/plain": [
       "['abc', 'acb', 'bac', 'bca', 'cab', 'cba']"
      ]
     },
     "execution_count": 129,
     "metadata": {},
     "output_type": "execute_result"
    }
   ],
   "source": [
    "so=Solution()\n",
    "so.Permutation(\"abc\")"
   ]
  },
  {
   "cell_type": "markdown",
   "metadata": {},
   "source": [
    "## 面试题39:数组中出现次数超过一半的数字"
   ]
  },
  {
   "cell_type": "markdown",
   "metadata": {},
   "source": [
    "题目:数组中有一个数字出现的次数超过数组长度的一半，请找出这个数字。例如输入一个长度为9的数组{1,2,3,2,2,2,5,4,2}。由于数字2在数组中出现了5次，超过数组长度的一半，因此输出2。如果不存在则输出0。"
   ]
  },
  {
   "cell_type": "code",
   "execution_count": 130,
   "metadata": {
    "collapsed": true
   },
   "outputs": [],
   "source": [
    "class Solution:\n",
    "    def MoreThanHalfNum_Solution(self, numbers):\n",
    "        # write code here\n",
    "        length = len(numbers)\n",
    "        if not numbers:\n",
    "            return 0\n",
    "        result = numbers[0]\n",
    "        times = 1\n",
    "\n",
    "        for i in range(1, length):\n",
    "            if times == 0:\n",
    "                result = numbers[i]\n",
    "                times = 1\n",
    "            elif numbers[i] == result:\n",
    "                times += 1\n",
    "            else:\n",
    "                times -= 1\n",
    "\n",
    "        if not self.CheckNoreThanHalf(numbers, length, result):\n",
    "            return 0\n",
    "        return result\n",
    "\n",
    "    def CheckNoreThanHalf(self, numbers, length, number):\n",
    "        times = 0\n",
    "        for i in range(length):\n",
    "            if numbers[i] == number:\n",
    "                times += 1\n",
    "\n",
    "        if times * 2 <= length:\n",
    "            return False\n",
    "        return True"
   ]
  },
  {
   "cell_type": "code",
   "execution_count": 131,
   "metadata": {},
   "outputs": [
    {
     "data": {
      "text/plain": [
       "2"
      ]
     },
     "execution_count": 131,
     "metadata": {},
     "output_type": "execute_result"
    }
   ],
   "source": [
    "so=Solution()\n",
    "so.MoreThanHalfNum_Solution([1,2,3,2,2,2,5,4,2])"
   ]
  },
  {
   "cell_type": "markdown",
   "metadata": {},
   "source": [
    "## 面试题40:最小的k个数"
   ]
  },
  {
   "cell_type": "markdown",
   "metadata": {},
   "source": [
    "题目:输入n个整数，找出其中最小的K个数。例如输入4,5,1,6,2,7,3,8这8个数字，则最小的4个数字是1,2,3,4,。"
   ]
  },
  {
   "cell_type": "code",
   "execution_count": 132,
   "metadata": {
    "collapsed": true
   },
   "outputs": [],
   "source": [
    "class Solution:\n",
    "    def GetLeastNumbers_Solution(self, tinput, k):\n",
    "        # write code here\n",
    "        if not tinput or k > len(tinput):\n",
    "            return []\n",
    "        tinput = self.quick_sort(tinput)\n",
    "        return tinput[:k]\n",
    "\n",
    "    def quick_sort(self, lst):\n",
    "        if not lst:\n",
    "            return []\n",
    "        pivot = lst[0]\n",
    "        left = self.quick_sort([x for x in lst[1:] if x < pivot])\n",
    "        right = self.quick_sort([x for x in lst[1:] if x >= pivot])\n",
    "\n",
    "        return left + [pivot] + right"
   ]
  },
  {
   "cell_type": "code",
   "execution_count": 133,
   "metadata": {},
   "outputs": [
    {
     "data": {
      "text/plain": [
       "[1, 2, 3, 4]"
      ]
     },
     "execution_count": 133,
     "metadata": {},
     "output_type": "execute_result"
    }
   ],
   "source": [
    "so=Solution()\n",
    "so.GetLeastNumbers_Solution([4,5,1,6,2,7,3,8],4)"
   ]
  },
  {
   "cell_type": "markdown",
   "metadata": {},
   "source": [
    "## 面试题41:数据流中的中位数"
   ]
  },
  {
   "cell_type": "markdown",
   "metadata": {},
   "source": [
    "题目:如何得到一个数据流中的中位数？如果从数据流中读出奇数个数值，那么中位数就是所有数值排序之后位于中间的数值。如果从数据流中读出偶数个数值，那么中位数就是所有数值排序之后中间两个数的平均值。我们使用Insert()方法读取数据流，使用GetMedian()方法获取当前读取数据的中位数。|"
   ]
  },
  {
   "cell_type": "code",
   "execution_count": 134,
   "metadata": {
    "collapsed": true
   },
   "outputs": [],
   "source": [
    "class Solution:\n",
    "    def __init__(self):\n",
    "        self.left = []\n",
    "        self.right = []\n",
    "        self.count = 0\n",
    "    def Insert(self, num):\n",
    "        if self.count & 1 == 0:\n",
    "            self.left.append(num)\n",
    "        else:\n",
    "            self.right.append(num)\n",
    "        self.count += 1\n",
    "\n",
    "    def GetMedian(self, x):\n",
    "        if self.count == 1:\n",
    "            return self.left[0]\n",
    "        self.MaxHeap(self.left)\n",
    "        self.MinHeap(self.right)\n",
    "        if self.left[0] > self.right[0]:\n",
    "            self.left[0], self.right[0] = self.right[0], self.left[0]\n",
    "        self.MaxHeap(self.left)\n",
    "        self.MinHeap(self.right)\n",
    "        if self.count & 1 == 0:\n",
    "            return (self.left[0] + self.right[0])/2.0\n",
    "        else:\n",
    "            return self.left[0]\n",
    "\n",
    "    def MaxHeap(self, alist):\n",
    "        length = len(alist)\n",
    "        if alist == None or length <= 0:\n",
    "            return\n",
    "        if length == 1:\n",
    "            return alist\n",
    "        for i in range(length//2-1, -1, -1):\n",
    "            k = i; temp = alist[k]; heap = False\n",
    "            while not heap and 2*k < length-1:\n",
    "                index = 2*k+1\n",
    "                if index < length - 1:\n",
    "                    if alist[index] < alist[index + 1]: index += 1\n",
    "                if temp >= alist[index]: heap = True\n",
    "                else:\n",
    "                    alist[k] = alist[index]\n",
    "                    k = index\n",
    "            alist[k] = temp\n",
    "\n",
    "    def MinHeap(self, alist):\n",
    "        length = len(alist)\n",
    "        if alist == None or length <= 0:\n",
    "            return\n",
    "        if length == 1:\n",
    "            return alist\n",
    "        for i in range(length//2-1, -1, -1):\n",
    "            k = i; temp = alist[k]; heap = False\n",
    "            while not heap and 2 * k < length - 1:\n",
    "                index = 2 * k+1\n",
    "                if index < length - 1:\n",
    "                    if alist[index] > alist[index + 1]: index += 1\n",
    "                if temp <= alist[index]:\n",
    "                    heap = True\n",
    "                else:\n",
    "                    alist[k] = alist[index]\n",
    "                    k = index\n",
    "            alist[k] = temp"
   ]
  },
  {
   "cell_type": "code",
   "execution_count": 135,
   "metadata": {},
   "outputs": [
    {
     "data": {
      "text/plain": [
       "3"
      ]
     },
     "execution_count": 135,
     "metadata": {},
     "output_type": "execute_result"
    }
   ],
   "source": [
    "so=Solution()\n",
    "so.Insert(1)\n",
    "so.Insert(2)\n",
    "so.Insert(3)\n",
    "so.Insert(4)\n",
    "so.Insert(5)\n",
    "so.GetMedian(0)"
   ]
  },
  {
   "cell_type": "code",
   "execution_count": 136,
   "metadata": {},
   "outputs": [
    {
     "data": {
      "text/plain": [
       "3.5"
      ]
     },
     "execution_count": 136,
     "metadata": {},
     "output_type": "execute_result"
    }
   ],
   "source": [
    "so=Solution()\n",
    "so.Insert(1)\n",
    "so.Insert(2)\n",
    "so.Insert(3)\n",
    "so.Insert(4)\n",
    "so.Insert(5)\n",
    "so.Insert(6)\n",
    "so.GetMedian(0)"
   ]
  },
  {
   "cell_type": "markdown",
   "metadata": {},
   "source": [
    "## 面试题42:连续子数组的最大和"
   ]
  },
  {
   "cell_type": "markdown",
   "metadata": {},
   "source": [
    "题目:输入一个整型数组，数组里有正数也有负数。数组中一个或连续的多个整数组成一个子数组。求所有子数组的和的最大值。要求时间复杂度为O(n)。"
   ]
  },
  {
   "cell_type": "code",
   "execution_count": 137,
   "metadata": {
    "collapsed": true
   },
   "outputs": [],
   "source": [
    "class Solution:\n",
    "    def FindGreatestSumOfSubArray(self, array):\n",
    "        # write code here\n",
    "        if not array:\n",
    "            return 0\n",
    "        \n",
    "        cur_sum = 0\n",
    "        max_sum = array[0]\n",
    "        \n",
    "        for i in range(len(array)):\n",
    "            if cur_sum <= 0:\n",
    "                cur_sum = array[i]\n",
    "            else:\n",
    "                cur_sum += array[i]\n",
    "                \n",
    "            if cur_sum > max_sum:\n",
    "                max_sum = cur_sum\n",
    "                \n",
    "        return max_sum"
   ]
  },
  {
   "cell_type": "code",
   "execution_count": 138,
   "metadata": {},
   "outputs": [
    {
     "data": {
      "text/plain": [
       "18"
      ]
     },
     "execution_count": 138,
     "metadata": {},
     "output_type": "execute_result"
    }
   ],
   "source": [
    "so=Solution()\n",
    "so.FindGreatestSumOfSubArray([1,-2,3,10,-4,7,2,-5])"
   ]
  },
  {
   "cell_type": "markdown",
   "metadata": {
    "collapsed": true
   },
   "source": [
    "## 面试题43:1~n整数中1出现的次数"
   ]
  },
  {
   "cell_type": "markdown",
   "metadata": {},
   "source": [
    "题目：输入一个整数n，求从1到n这n个整数的十进制表示中1出现的次数。例如输入12，从1到12这些整数中包含1的数字有1、10、11和12，1一共出现了5次。"
   ]
  },
  {
   "cell_type": "code",
   "execution_count": 139,
   "metadata": {
    "collapsed": true
   },
   "outputs": [],
   "source": [
    "# 数学规律\n",
    "class Solution:\n",
    "    def NumberOf1Between1AndN_Solution(self, n):\n",
    "        # write code here\n",
    "        count, m =0, 1\n",
    "        while m <= n:\n",
    "            count += (n // m + 8) // 10 * m + (n // m % 10 == 1) * (n % m + 1)\n",
    "            m*=10\n",
    "        return count"
   ]
  },
  {
   "cell_type": "code",
   "execution_count": 140,
   "metadata": {},
   "outputs": [
    {
     "data": {
      "text/plain": [
       "5"
      ]
     },
     "execution_count": 140,
     "metadata": {},
     "output_type": "execute_result"
    }
   ],
   "source": [
    "so=Solution()\n",
    "so.NumberOf1Between1AndN_Solution(12)"
   ]
  },
  {
   "cell_type": "markdown",
   "metadata": {
    "collapsed": true
   },
   "source": [
    "## 面试题44:数字序列中的某一位的数字"
   ]
  },
  {
   "cell_type": "markdown",
   "metadata": {
    "collapsed": true
   },
   "source": [
    "题目:数字以0123456789101112131415…的格式序列化到一个字符序列中。在这个序列中，第5位（从0开始计数）是5，第13位是1，第19位是4，等等。请写一个函数，求任意第n位对应的数字。"
   ]
  },
  {
   "cell_type": "code",
   "execution_count": 141,
   "metadata": {},
   "outputs": [
    {
     "data": {
      "text/plain": [
       "'4'"
      ]
     },
     "execution_count": 141,
     "metadata": {},
     "output_type": "execute_result"
    }
   ],
   "source": [
    "def print_num(n):\n",
    "    length = 0\n",
    "    for i in range(n):\n",
    "        length += len(str(i))\n",
    "        if length >= n:\n",
    "            return str(i)[length - n]\n",
    "print_num(19)"
   ]
  },
  {
   "cell_type": "code",
   "execution_count": 142,
   "metadata": {
    "collapsed": true
   },
   "outputs": [],
   "source": [
    "class Solution(object):\n",
    "    def digitAtIndex(self, n):\n",
    "        # 如果 n 小于 10 ，直接返回就可以了\n",
    "        if n < 10:\n",
    "            return n\n",
    "        # 计算前缀部分\n",
    "        base = 9\n",
    "        digits = 1\n",
    "        # 2 位数，从 10 到 99 一共 ( 99 - 10 + 1) * 2 = 90 * 2 = 180 位\n",
    "        # 3 位数，从 100 到 999 一共 ( 999 - 100 + 1) * 2 = 900 * 3 = 2700 位\n",
    "        # 4 位数，从 1000 到 9999 一共 ( 9999 - 1000 + 1) * 2 = 9000 * 4 = 3600 位\n",
    "        while n - base * digits > 0:\n",
    "            n -= base * digits\n",
    "            base *= 10\n",
    "            digits += 1\n",
    "        index = n % digits\n",
    "        if index == 0:\n",
    "            # 计算出 num 是多少\n",
    "            # 例如：192，有 1 个位移的偏差\n",
    "            num = 10 ** (digits - 1) + n // digits - 1\n",
    "            # 返回个位就可以了\n",
    "            return num % 10\n",
    "        else:\n",
    "            # 不能整除，那个偏移就不用算了\n",
    "            # 例如 194 = 189 + 5\n",
    "            # 100 + 2 = 102\n",
    "            num = 10 ** (digits - 1) + n // digits\n",
    "            # 从左边向右边数，第 2 位\n",
    "            for i in range(index, digits):\n",
    "                num //= 10\n",
    "            return num % 10"
   ]
  },
  {
   "cell_type": "code",
   "execution_count": 143,
   "metadata": {},
   "outputs": [
    {
     "name": "stdout",
     "output_type": "stream",
     "text": [
      "4\n"
     ]
    }
   ],
   "source": [
    "so=Solution()\n",
    "print(so.digitAtIndex(19))"
   ]
  },
  {
   "cell_type": "code",
   "execution_count": 144,
   "metadata": {},
   "outputs": [
    {
     "name": "stdout",
     "output_type": "stream",
     "text": [
      "4\n"
     ]
    }
   ],
   "source": [
    "def countOfDigit(digit):\n",
    "    return 9 * 10 ** (digit - 1) if digit > 1 else 10\n",
    "\n",
    "def findDigitWithinRange(digit, index):\n",
    "    if digit == 1:\n",
    "        number = 0\n",
    "    else:\n",
    "        number = 10 ** (digit - 1)\n",
    "    number += index // digit\n",
    "    remainder = index % digit\n",
    "    return str(number)[remainder]\n",
    "\n",
    "def digitAtIndex(index):\n",
    "    \"\"\"\n",
    "    最直观的做法就是从0开始遍历所有整数，然后统计已经出现了多少位数字，直到直到所求下标的数字。这样\n",
    "    做的话效率太低。\n",
    "\n",
    "    如果我们能先确定所求下标的数字是属于几位小数的，即先确定答案位于三位数还是四位数还是五位数的数\n",
    "    字中，然后再在这个位数段中确定具体是哪个数字，最后在这个数字中确定是哪一位，这样就可以大大降低\n",
    "    复杂度。\n",
    "    \"\"\"\n",
    "    if index < 0:\n",
    "        return -1\n",
    "    # 所求的位置属于几位数，先从个位开始\n",
    "    digit = 1\n",
    "    while True:\n",
    "        # 如果确定了所求位置属于几位数了，就进一步求具体的数字\n",
    "        if index <= countOfDigit(digit):\n",
    "            return findDigitWithinRange(digit, index)\n",
    "        # 否则跳过这个n位数\n",
    "        index -= countOfDigit(digit) * digit\n",
    "        digit += 1\n",
    "\n",
    "def main():\n",
    "    print(digitAtIndex(19))\n",
    "\n",
    "if __name__ == '__main__':\n",
    "    main()"
   ]
  },
  {
   "cell_type": "markdown",
   "metadata": {
    "collapsed": true
   },
   "source": [
    "## 面试题45:把数组排成最小的数"
   ]
  },
  {
   "cell_type": "markdown",
   "metadata": {},
   "source": [
    "题目:输入一个正整数数组，把数组里所有数字拼接起来排成一个数，打印能拼接出的所有数字中最小的一个。例如输入数组{3，32，321}，则打印出这三个数字能排成的最小数字为321323。"
   ]
  },
  {
   "cell_type": "code",
   "execution_count": 145,
   "metadata": {
    "collapsed": true
   },
   "outputs": [],
   "source": [
    "class Solution:\n",
    "    def PrintMinNumber(self, numbers):\n",
    "        # write code here\n",
    "        if not numbers:\n",
    "            return ''\n",
    "        \n",
    "        str_num = [str(m) for m in numbers]\n",
    "        for i in range(len(numbers)-1):\n",
    "            for j in range(i+1,len(numbers)):\n",
    "                if str_num[i] + str_num[j] > str_num[j] + str_num[i]:\n",
    "                    str_num[i],str_num[j] = str_num[j] ,str_num[i]\n",
    "                    \n",
    "        return ''.join(str_num)"
   ]
  },
  {
   "cell_type": "code",
   "execution_count": 146,
   "metadata": {},
   "outputs": [
    {
     "data": {
      "text/plain": [
       "'321323'"
      ]
     },
     "execution_count": 146,
     "metadata": {},
     "output_type": "execute_result"
    }
   ],
   "source": [
    "so=Solution()\n",
    "so.PrintMinNumber([3,32,321])"
   ]
  },
  {
   "cell_type": "markdown",
   "metadata": {},
   "source": [
    "## 面试题46:把数字翻译成字符串"
   ]
  },
  {
   "cell_type": "markdown",
   "metadata": {},
   "source": [
    "题目：给定一个数字，按照如下规则翻译成字符串：0翻译成\"a\"，1翻译成\"b\"......25翻译成”z\"。一个数字可能有多个翻译。如12258有5种不同的翻译，分别是\"bccfi\", \"bwfi\", \"bczi\", \"mcfi\", \"mzi\"。请实现一个函数，用来计算一个数字有多少种不同的翻译方法。"
   ]
  },
  {
   "cell_type": "markdown",
   "metadata": {},
   "source": [
    "思路。当最初的一个或者两个数字被翻译成一个字符后，我们接着翻译后面剩下的数字。可以用递归来做。但是递归会有重复的出现。比如12258，翻译成1和2258，或12和258，然后2258可以翻译成2和258或22和58，这样258又重复出现了。因此我们选择从最小的子问题开始自下而上解决问题。也就是我们从数字的末尾开始，然后从右到左翻译并计算不同翻译的数目。"
   ]
  },
  {
   "cell_type": "code",
   "execution_count": 147,
   "metadata": {
    "collapsed": true
   },
   "outputs": [],
   "source": [
    "class Solution:\n",
    "    def GetTranslationCount(self, number):\n",
    "        if number<0:\n",
    "            return 0\n",
    "        StrNumber = str(number)\n",
    "        length = len(StrNumber)\n",
    "        count = 0\n",
    "        counts = [0]*length\n",
    "        for i in range(length-1, -1, -1):\n",
    "            count = 0\n",
    "            if i<length-1:\n",
    "                count = counts[i+1]\n",
    "            else:\n",
    "                count = 1\n",
    "            print(count, counts)\n",
    "            if i<length-1:\n",
    "                digit1 = int(StrNumber[i])\n",
    "                digit2 = int(StrNumber[i+1])\n",
    "                converted = digit1*10+digit2\n",
    "                if converted>=10 and converted<=25:\n",
    "                    if i<length-2:\n",
    "                        count = count+counts[i+2]\n",
    "                    else:\n",
    "                        count = count+1\n",
    "            counts[i] = count\n",
    "        count = counts[0]\n",
    "        return count"
   ]
  },
  {
   "cell_type": "code",
   "execution_count": 148,
   "metadata": {},
   "outputs": [
    {
     "name": "stdout",
     "output_type": "stream",
     "text": [
      "1 [0, 0, 0, 0, 0]\n",
      "1 [0, 0, 0, 0, 1]\n",
      "1 [0, 0, 0, 1, 1]\n",
      "2 [0, 0, 2, 1, 1]\n",
      "3 [0, 3, 2, 1, 1]\n"
     ]
    },
    {
     "data": {
      "text/plain": [
       "5"
      ]
     },
     "execution_count": 148,
     "metadata": {},
     "output_type": "execute_result"
    }
   ],
   "source": [
    "so=Solution()\n",
    "so.GetTranslationCount(12258)"
   ]
  },
  {
   "cell_type": "code",
   "execution_count": 149,
   "metadata": {
    "collapsed": true
   },
   "outputs": [],
   "source": [
    "class Solution:\n",
    "    def getTranslationCount(self, s):\n",
    "        if not s: return 0\n",
    "        if len(s) == 1: return 1\n",
    "        \n",
    "        # 判断字符是否为‘0’，避免0X的形式\n",
    "        if s[0] != '0' and int(s[:2]) >= 0 and int(s[:2]) <= 25:\n",
    "            return self.getTranslationCount(s[2:]) + self.getTranslationCount(s[1:])\n",
    "        return self.getTranslationCount(s[1:])"
   ]
  },
  {
   "cell_type": "code",
   "execution_count": 150,
   "metadata": {},
   "outputs": [
    {
     "data": {
      "text/plain": [
       "5"
      ]
     },
     "execution_count": 150,
     "metadata": {},
     "output_type": "execute_result"
    }
   ],
   "source": [
    "so=Solution()\n",
    "so.getTranslationCount(\"12258\")"
   ]
  },
  {
   "cell_type": "markdown",
   "metadata": {},
   "source": [
    "## 面试题47:礼物的最大价值"
   ]
  },
  {
   "cell_type": "markdown",
   "metadata": {},
   "source": [
    "题目:在一个 m*n 的棋盘中的每一个格都放一个礼物，每个礼物都有一定的价值（价值大于0）.你可以从棋盘的左上角开始拿各种里的礼物，并每次向左或者向下移动一格，直到到达棋盘的右下角。给定一个棋盘及上面个的礼物，请计算你最多能拿走多少价值的礼物？"
   ]
  },
  {
   "cell_type": "code",
   "execution_count": 151,
   "metadata": {
    "collapsed": true
   },
   "outputs": [],
   "source": [
    "class Solution:\n",
    "    def getmaxValue(self, values, rows, cols):\n",
    "        if not values or rows<=0 or cols <=0:\n",
    "            return 0\n",
    "        # 用于存放中间数值的临时数组\n",
    "        temp = [0] * cols\n",
    "\n",
    "        for i in range(rows):\n",
    "            for j in range(cols):\n",
    "                left = 0\n",
    "                up = 0\n",
    "\n",
    "                if i > 0:\n",
    "                    up = temp[j]\n",
    "                if j > 0:\n",
    "                    left = temp[j-1]\n",
    "                temp[j] = max(up,left) + values[i*rows+j]\n",
    "        return temp[-1]"
   ]
  },
  {
   "cell_type": "code",
   "execution_count": 152,
   "metadata": {},
   "outputs": [
    {
     "data": {
      "text/plain": [
       "53"
      ]
     },
     "execution_count": 152,
     "metadata": {},
     "output_type": "execute_result"
    }
   ],
   "source": [
    "so = Solution()\n",
    "so.getmaxValue([1,10,3,8,12,2,9,6,5,7,4,11,3,7,16,5],4,4)"
   ]
  },
  {
   "cell_type": "markdown",
   "metadata": {},
   "source": [
    "## 面试题48:最长不含重复字符的子字符串"
   ]
  },
  {
   "cell_type": "markdown",
   "metadata": {},
   "source": [
    "题目:请从字符串中找出一个最长的不包含重复字符的子字符串，计算该最长子字符串的长度。例如在“arabcacfr”中，最长的不包含重复字符的子字符串是“acfr”，长度为4采用字典的方法，最后输出所有最长字符的列表"
   ]
  },
  {
   "cell_type": "code",
   "execution_count": 153,
   "metadata": {
    "collapsed": true
   },
   "outputs": [],
   "source": [
    "class Solution:\n",
    "    def __init__(self):\n",
    "        self.maxString = []\n",
    "    def longestSubString(self, inputString):\n",
    "        if inputString == '':\n",
    "            return ''\n",
    "        dic = {}\n",
    "        dic = dic.fromkeys(inputString, 0)\n",
    "        self.maxString.append(inputString[0])\n",
    "        for i in range(len(inputString)):\n",
    "            for j in range(i, len(inputString)):\n",
    "                if dic[inputString[j]] != 0:\n",
    "                    dic = dic.fromkeys(inputString, 0)\n",
    "                    break\n",
    "                else:\n",
    "                    if j - i + 1 > len(self.maxString[0]):\n",
    "                        self.maxString = []\n",
    "                        self.maxString.append(inputString[i:j+1])\n",
    "                    elif j - i + 1 == len(self.maxString[0]):\n",
    "                        self.maxString.append(inputString[i:j+1])\n",
    "                    dic[inputString[j]] += 1\n"
   ]
  },
  {
   "cell_type": "code",
   "execution_count": 154,
   "metadata": {},
   "outputs": [
    {
     "name": "stdout",
     "output_type": "stream",
     "text": [
      "['rabc', 'acfr']\n"
     ]
    }
   ],
   "source": [
    "inputString = 'arabcacfr'\n",
    "sol = Solution()\n",
    "sol.longestSubString(inputString)\n",
    "print(sol.maxString)"
   ]
  },
  {
   "cell_type": "markdown",
   "metadata": {},
   "source": [
    "## 面试题49:丑数"
   ]
  },
  {
   "cell_type": "markdown",
   "metadata": {},
   "source": [
    "题目:把只包含质因子2、3和5的数称作丑数（Ugly Number）。例如6、8都是丑数，但14不是，因为它包含质因子7。 习惯上我们把1当做是第一个丑数。求按从小到大的顺序的第N个丑数。"
   ]
  },
  {
   "cell_type": "code",
   "execution_count": 155,
   "metadata": {
    "collapsed": true
   },
   "outputs": [],
   "source": [
    "class Solution:\n",
    "    def GetUglyNumber_Solution(self, index):\n",
    "        \n",
    "        if not index:\n",
    "            return 0\n",
    "        \n",
    "        ugly_number = [1]*index\n",
    "        next_index = 1\n",
    "        \n",
    "        index2 = 0\n",
    "        index3 = 0\n",
    "        index5 = 0\n",
    "        \n",
    "        while next_index < index:\n",
    "            minValue = min(ugly_number[index2]*2, ugly_number[index3]*3,ugly_number[index5]*5)\n",
    "            ugly_number[next_index] = minValue\n",
    "            \n",
    "            while ugly_number[index2]*2 <= ugly_number[next_index]:\n",
    "                index2 += 1\n",
    "                \n",
    "            while ugly_number[index3]*3 <= ugly_number[next_index]:\n",
    "                index3 += 1\n",
    "                \n",
    "            while ugly_number[index5]*5 <= ugly_number[next_index]:\n",
    "                index5 += 1\n",
    "                \n",
    "            next_index += 1\n",
    "            \n",
    "        return ugly_number[-1]"
   ]
  },
  {
   "cell_type": "code",
   "execution_count": 156,
   "metadata": {},
   "outputs": [
    {
     "data": {
      "text/plain": [
       "859963392"
      ]
     },
     "execution_count": 156,
     "metadata": {},
     "output_type": "execute_result"
    }
   ],
   "source": [
    "so=Solution()\n",
    "so.GetUglyNumber_Solution(1500)"
   ]
  },
  {
   "cell_type": "markdown",
   "metadata": {},
   "source": [
    "## 面试题50:第一个只出现一次的字符"
   ]
  },
  {
   "cell_type": "markdown",
   "metadata": {},
   "source": [
    "题目一:字符串中第一个只出现一次的字符\n",
    "    \n",
    "在一个字符串(1<=字符串长度<=10000，全部由字母组成)中找到第一个只出现一次的字符,并返回它的位置"
   ]
  },
  {
   "cell_type": "code",
   "execution_count": 157,
   "metadata": {
    "collapsed": true
   },
   "outputs": [],
   "source": [
    "class Solution:\n",
    "    def FirstNotRepeatingChar(self, s):\n",
    "        # write code here\n",
    "        if not s:\n",
    "            return -1\n",
    "        \n",
    "        store = {}\n",
    "        lis = list(s)\n",
    "        \n",
    "        for i in lis:\n",
    "            if i not in store.keys():\n",
    "                store[i] = 0\n",
    "            store[i] += 1\n",
    "            \n",
    "        for i in lis:\n",
    "            if store[i] == 1:\n",
    "                return s.index(i)\n",
    "            \n",
    "        return -1"
   ]
  },
  {
   "cell_type": "code",
   "execution_count": 158,
   "metadata": {},
   "outputs": [
    {
     "name": "stdout",
     "output_type": "stream",
     "text": [
      "1\n"
     ]
    },
    {
     "data": {
      "text/plain": [
       "'b'"
      ]
     },
     "execution_count": 158,
     "metadata": {},
     "output_type": "execute_result"
    }
   ],
   "source": [
    "so=Solution()\n",
    "print(so.FirstNotRepeatingChar(\"abacccdeff\"))\n",
    "\"abacccdeff\"[so.FirstNotRepeatingChar(\"abacccdeff\")]"
   ]
  },
  {
   "cell_type": "markdown",
   "metadata": {},
   "source": [
    "题目二：字符流中第一个只出现一次的字符\n",
    "\n",
    "请实现一个函数用来找出字符流中第一个只出现一次的字符。例如，当从字符流中只读出前两个字符\"go\"时，第一个只出现一次的字符是\"g\"。当从该字符流中读出前六个字符“google\"时，第一个只出现一次的字符是\"l\"。如果当前字符流没有存在出现一次的字符，返回#字符。"
   ]
  },
  {
   "cell_type": "code",
   "execution_count": 159,
   "metadata": {
    "collapsed": true
   },
   "outputs": [],
   "source": [
    "class Solution:\n",
    "    # init\n",
    "    def __init__(self):\n",
    "        self.dic = {}\n",
    "        self.lis = []\n",
    "    # 返回对应char\n",
    "    def FirstAppearingOnce(self):\n",
    "        # write code here\n",
    "        while len(self.lis) > 0 and self.dic[self.lis[0]] == 2:\n",
    "            self.lis.pop(0)\n",
    "        if len(self.lis) == 0:\n",
    "            return '#'\n",
    "        else:\n",
    "            return self.lis[0]\n",
    "        \n",
    "    def Insert(self, char):\n",
    "        # write code here\n",
    "        if char not in self.dic.keys():\n",
    "            self.dic[char] = 1\n",
    "            self.lis.append(char)\n",
    "        elif self.dic[char]:\n",
    "            self.dic[char] = 2"
   ]
  },
  {
   "cell_type": "code",
   "execution_count": 160,
   "metadata": {
    "collapsed": true
   },
   "outputs": [],
   "source": [
    "so=Solution()\n",
    "so.Insert(\"g\")\n",
    "so.Insert(\"o\")\n",
    "so.Insert(\"o\")\n",
    "so.Insert(\"g\")\n",
    "so.Insert(\"l\")\n",
    "so.Insert(\"e\")"
   ]
  },
  {
   "cell_type": "code",
   "execution_count": 161,
   "metadata": {},
   "outputs": [
    {
     "data": {
      "text/plain": [
       "'l'"
      ]
     },
     "execution_count": 161,
     "metadata": {},
     "output_type": "execute_result"
    }
   ],
   "source": [
    "so.FirstAppearingOnce()"
   ]
  },
  {
   "cell_type": "markdown",
   "metadata": {},
   "source": [
    "## 面试题51:数组中的逆序对"
   ]
  },
  {
   "cell_type": "markdown",
   "metadata": {},
   "source": [
    "在数组中的两个数字，如果前面一个数字大于后面的数字，则这两个数字组成一个逆序对。输入一个数组,求出这个数组中的逆序对的总数P。"
   ]
  },
  {
   "cell_type": "code",
   "execution_count": 162,
   "metadata": {
    "collapsed": true
   },
   "outputs": [],
   "source": [
    "class Solution:\n",
    "    def InversePairs(self, data):\n",
    "        # write code here\n",
    "        count = 0\n",
    "        copy = []\n",
    "        for i in data:\n",
    "            copy.append(i)\n",
    "        copy.sort()\n",
    "         \n",
    "        for i in range(len(copy)):\n",
    "            count += data.index(copy[i])\n",
    "            data.remove(copy[i])\n",
    "             \n",
    "        return count"
   ]
  },
  {
   "cell_type": "code",
   "execution_count": 163,
   "metadata": {},
   "outputs": [
    {
     "data": {
      "text/plain": [
       "5"
      ]
     },
     "execution_count": 163,
     "metadata": {},
     "output_type": "execute_result"
    }
   ],
   "source": [
    "so=Solution()\n",
    "so.InversePairs([7,5,6,4])"
   ]
  },
  {
   "cell_type": "code",
   "execution_count": 164,
   "metadata": {
    "collapsed": true
   },
   "outputs": [],
   "source": [
    "count = 0\n",
    "class Solution:\n",
    "    def InversePairs(self, data):\n",
    "        global count\n",
    "        def MergeSort(lists):\n",
    "            global count\n",
    "            if len(lists) <= 1:\n",
    "                return lists\n",
    "            num = int( len(lists)/2 )\n",
    "            left = MergeSort(lists[:num])\n",
    "            right = MergeSort(lists[num:])\n",
    "            r, l=0, 0\n",
    "            result=[]\n",
    "            while l<len(left) and r<len(right):\n",
    "                if left[l] < right[r]:\n",
    "                    result.append(left[l])\n",
    "                    l += 1\n",
    "                else:\n",
    "                    result.append(right[r])\n",
    "                    r += 1\n",
    "                    count += len(left)-l\n",
    "                    print('count: ', count)\n",
    "            result += right[r:]\n",
    "            result += left[l:]\n",
    " \n",
    "            return result\n",
    "        MergeSort(data)\n",
    "        return count"
   ]
  },
  {
   "cell_type": "code",
   "execution_count": 165,
   "metadata": {},
   "outputs": [
    {
     "name": "stdout",
     "output_type": "stream",
     "text": [
      "count:  1\n",
      "count:  2\n",
      "count:  4\n",
      "count:  5\n"
     ]
    },
    {
     "data": {
      "text/plain": [
       "5"
      ]
     },
     "execution_count": 165,
     "metadata": {},
     "output_type": "execute_result"
    }
   ],
   "source": [
    "so=Solution()\n",
    "so.InversePairs([7,5,6,4])"
   ]
  },
  {
   "cell_type": "markdown",
   "metadata": {},
   "source": [
    "## 面试题52:两个链表的第一个公共节点"
   ]
  },
  {
   "cell_type": "markdown",
   "metadata": {},
   "source": [
    "题目:输入两个链表，找出它们的第一个公共结点。"
   ]
  },
  {
   "cell_type": "code",
   "execution_count": 166,
   "metadata": {
    "collapsed": true
   },
   "outputs": [],
   "source": [
    "class Solution:\n",
    "    def FindFirstCommonNode(self, pHead1, pHead2):\n",
    "\n",
    "        if not pHead1 or not pHead2:\n",
    "            return None\n",
    "        \n",
    "        p1,p2 = pHead1,pHead2\n",
    "        len1 = len2 = 0\n",
    "        while p1:\n",
    "            len1 += 1\n",
    "            p1 = p1.next\n",
    "            \n",
    "        while p2:\n",
    "            len2 += 1\n",
    "            p2 = p2.next\n",
    "            \n",
    "        if len1 > len2:\n",
    "            while len1 - len2:\n",
    "                pHead1 = pHead1.next\n",
    "                len1 -= 1\n",
    "        else:\n",
    "            while len2 - len1:\n",
    "                pHead2 = pHead2.next\n",
    "                len2 -= 1\n",
    "                \n",
    "        while pHead1 and pHead2:\n",
    "            if pHead1 is pHead2:\n",
    "                return pHead1\n",
    "            pHead1 = pHead1.next\n",
    "            pHead2 = pHead2.next\n",
    "            \n",
    "        return None"
   ]
  },
  {
   "cell_type": "code",
   "execution_count": 167,
   "metadata": {
    "collapsed": true
   },
   "outputs": [],
   "source": [
    "def printListFromTailToHead1(head):\n",
    "    if head is None:\n",
    "        return\n",
    "    print(head.val)\n",
    "    printListFromTailToHead1(head.next)"
   ]
  },
  {
   "cell_type": "code",
   "execution_count": 168,
   "metadata": {
    "collapsed": true
   },
   "outputs": [],
   "source": [
    "class ListNode:\n",
    "    def __init__(self, x):\n",
    "        self.val = x\n",
    "        self.next = None"
   ]
  },
  {
   "cell_type": "code",
   "execution_count": 169,
   "metadata": {
    "collapsed": true
   },
   "outputs": [],
   "source": [
    "llist1 = ListNode(1)\n",
    "pnode1 = llist1\n",
    "for i in range(2, 11):\n",
    "    pnode1.next = ListNode(i)\n",
    "    pnode1 = pnode1.next"
   ]
  },
  {
   "cell_type": "code",
   "execution_count": 170,
   "metadata": {},
   "outputs": [
    {
     "name": "stdout",
     "output_type": "stream",
     "text": [
      "1\n",
      "2\n",
      "3\n",
      "4\n",
      "5\n",
      "6\n",
      "7\n",
      "8\n",
      "9\n",
      "10\n"
     ]
    }
   ],
   "source": [
    "printListFromTailToHead1(llist1)"
   ]
  },
  {
   "cell_type": "code",
   "execution_count": 171,
   "metadata": {},
   "outputs": [
    {
     "name": "stdout",
     "output_type": "stream",
     "text": [
      "4\n",
      "5\n",
      "6\n",
      "7\n",
      "8\n",
      "9\n",
      "10\n"
     ]
    }
   ],
   "source": [
    "printListFromTailToHead1(llist1.next.next.next)"
   ]
  },
  {
   "cell_type": "code",
   "execution_count": 172,
   "metadata": {},
   "outputs": [
    {
     "name": "stdout",
     "output_type": "stream",
     "text": [
      "4\n"
     ]
    }
   ],
   "source": [
    "so=Solution()\n",
    "print(so.FindFirstCommonNode(llist1,llist1.next.next.next).val)"
   ]
  },
  {
   "cell_type": "markdown",
   "metadata": {},
   "source": [
    "## 面试题53:在排序数组中查找数字"
   ]
  },
  {
   "cell_type": "markdown",
   "metadata": {},
   "source": [
    "题目一：数字在排序数组中出现的次数\n",
    "\n",
    "统计一个数字在排序数组中出现的次数"
   ]
  },
  {
   "cell_type": "code",
   "execution_count": 173,
   "metadata": {
    "collapsed": true
   },
   "outputs": [],
   "source": [
    "class Solution:\n",
    "    def GetNumberOfK(self, data, k):\n",
    "        # write code here\n",
    "        if not data:\n",
    "            return 0\n",
    "        if self.GetLastK(data, k) == -1 and self.GetFirstK(data, k) == -1:\n",
    "            return 0\n",
    "        return self.GetLastK(data, k) - self.GetFirstK(data, k) + 1\n",
    "        \n",
    "    def GetFirstK(self, data, k):\n",
    "        low = 0\n",
    "        high = len(data) - 1\n",
    "        while low <= high:\n",
    "            mid = (low + high) // 2\n",
    "            if data[mid] < k:\n",
    "                low = mid + 1\n",
    "            elif data[mid] > k:\n",
    "                high = mid - 1\n",
    "            else:\n",
    "                if mid == low or data[mid - 1] != k: #当到list[0]或不为k的时候跳出函数\n",
    "                    return mid\n",
    "                else:\n",
    "                    high = mid - 1\n",
    "        return -1\n",
    "\n",
    "    def GetLastK(self, data, k):\n",
    "        low = 0\n",
    "        high = len(data) - 1\n",
    "        while low <= high:\n",
    "            mid = (low + high) // 2\n",
    "            if data[mid] > k:\n",
    "                high = mid - 1\n",
    "            elif data[mid] < k:\n",
    "                low = mid + 1\n",
    "            else:\n",
    "                if mid == high or data[mid + 1] != k:\n",
    "                    return mid\n",
    "                else:\n",
    "                    low = mid + 1\n",
    "        return -1"
   ]
  },
  {
   "cell_type": "code",
   "execution_count": 174,
   "metadata": {},
   "outputs": [
    {
     "data": {
      "text/plain": [
       "4"
      ]
     },
     "execution_count": 174,
     "metadata": {},
     "output_type": "execute_result"
    }
   ],
   "source": [
    "so=Solution()\n",
    "so.GetNumberOfK([1,2,3,3,3,3,4,5],3)"
   ]
  },
  {
   "cell_type": "markdown",
   "metadata": {},
   "source": [
    "题目二：0~n-1中缺失的数字\n",
    "\n",
    "一个长度为n-1的递增排序数组中的所有数字都是唯一的，并且每个数字都在范围0到n-1之内。\n",
    "\n",
    "在范围0到n-1的n个数字中有且只有一个数字不在该数组中，请找出这个数字。"
   ]
  },
  {
   "cell_type": "code",
   "execution_count": 175,
   "metadata": {
    "collapsed": true
   },
   "outputs": [],
   "source": [
    "#最简单，肯定不是最好的算法\n",
    "class Solution(object):\n",
    "    def getMissingNumber(self, nums):\n",
    "        \"\"\"\n",
    "        :type nums: List[int]\n",
    "        :rtype: int\n",
    "        \"\"\"\n",
    "        if not nums:\n",
    "            return 0\n",
    "        for i in range(len(nums)):\n",
    "            if i!= nums[i]:\n",
    "                return i\n",
    "        \n",
    "        return i+1"
   ]
  },
  {
   "cell_type": "code",
   "execution_count": 176,
   "metadata": {},
   "outputs": [
    {
     "data": {
      "text/plain": [
       "3"
      ]
     },
     "execution_count": 176,
     "metadata": {},
     "output_type": "execute_result"
    }
   ],
   "source": [
    "so=Solution()\n",
    "so.getMissingNumber([0,1,2,4])"
   ]
  },
  {
   "cell_type": "code",
   "execution_count": 177,
   "metadata": {
    "collapsed": true
   },
   "outputs": [],
   "source": [
    "class Solution(object):\n",
    "    def getMissingNumber(self, nums):\n",
    "        \"\"\"\n",
    "        :type nums: List[int]\n",
    "        :rtype: int\n",
    "        \"\"\"\n",
    "        if not nums:\n",
    "            return 0\n",
    "        l = 0\n",
    "        r = len(nums)-1\n",
    "        while l<=r:\n",
    "            mid = l+(r-l)//2\n",
    "            if mid!=nums[mid]:\n",
    "                if mid==0 or  nums[mid-1]==mid-1:\n",
    "                    return mid\n",
    "                r = mid-1\n",
    "            else:\n",
    "                l = mid+1\n",
    "        if l == len(nums):\n",
    "            return l\n",
    "        return -1"
   ]
  },
  {
   "cell_type": "code",
   "execution_count": 178,
   "metadata": {},
   "outputs": [
    {
     "data": {
      "text/plain": [
       "3"
      ]
     },
     "execution_count": 178,
     "metadata": {},
     "output_type": "execute_result"
    }
   ],
   "source": [
    "so=Solution()\n",
    "so.getMissingNumber([0,1,2,4])"
   ]
  },
  {
   "cell_type": "markdown",
   "metadata": {},
   "source": [
    "题目三：数组中数值和下标相等的元素\n",
    "\n",
    "假设一个单调递增的数组里的每个元素都是整数并且是唯一的。\n",
    "请编程实现一个函数找出数组中任意一个数值等于其下标的元素。\n",
    "例如，在数组{-3, -1, 1, 3, 5}中，数字3和它的下标相等。\n"
   ]
  },
  {
   "cell_type": "code",
   "execution_count": 179,
   "metadata": {
    "collapsed": true
   },
   "outputs": [],
   "source": [
    "'''\n",
    "假设一个单调递增的数组里的每个元素都是整数并且是唯一的。\n",
    "请编程实现一个函数找出数组中任意一个数值等于其下标的元素。\n",
    "例如，在数组{-3, -1, 1, 3, 5}中，数字3和它的下标相等。\n",
    "'''\n",
    "\n",
    "\n",
    "class Solution:\n",
    "    def GetNumberSameAsIndex(self, data, num):\n",
    "        if num < 0 or len(data) <= 0:\n",
    "            return \"please input right data or number\"\n",
    "        \n",
    "        start = 0\n",
    "        end = len(data) - 1\n",
    "        while start <= end:\n",
    "            mid = (start + end) // 2\n",
    "            if data[mid] == num:\n",
    "                return mid\n",
    "            \n",
    "            # 一个元素的值一旦大于他的下标，那么该元素右边的值\n",
    "            # 肯定都大于他的下标。因此从改元素左边找就可以了\n",
    "            elif data[mid] > mid:\n",
    "                end = mid - 1\n",
    "\n",
    "            # 同理，一个元素的值如果小于他的下标，\n",
    "            # 那么左侧的值也都不满足条件\n",
    "            elif data[mid] < mid:\n",
    "                start = mid + 1\n",
    "                \n",
    "        return None"
   ]
  },
  {
   "cell_type": "code",
   "execution_count": 180,
   "metadata": {},
   "outputs": [
    {
     "data": {
      "text/plain": [
       "3"
      ]
     },
     "execution_count": 180,
     "metadata": {},
     "output_type": "execute_result"
    }
   ],
   "source": [
    "a = Solution()\n",
    "a.GetNumberSameAsIndex([-3, -1, 1, 3, 5], 3)"
   ]
  },
  {
   "cell_type": "code",
   "execution_count": 181,
   "metadata": {
    "collapsed": true
   },
   "outputs": [],
   "source": [
    "a = Solution()\n",
    "a.GetNumberSameAsIndex([-3, -1, 1, 4, 5], 3)"
   ]
  },
  {
   "cell_type": "markdown",
   "metadata": {},
   "source": [
    "## 面试题54:二叉搜索树的第K大结点"
   ]
  },
  {
   "cell_type": "markdown",
   "metadata": {},
   "source": [
    "题目：给定一棵二叉搜索树，请找出其中的第k小的结点。例如， （5，3，7，2，4，6，8）    中，按结点数值大小顺序第三小结点的值为4。"
   ]
  },
  {
   "cell_type": "code",
   "execution_count": 182,
   "metadata": {
    "collapsed": true
   },
   "outputs": [],
   "source": [
    "class TreeNode:\n",
    "    def __init__(self, x):\n",
    "        self.val = x\n",
    "        self.left = None\n",
    "        self.right = None\n",
    "\n",
    "class Solution:\n",
    "    # 返回对应节点TreeNode\n",
    "    def KthNode(self, pRoot, k):\n",
    "        # write code here\n",
    "        if not pRoot or not k:\n",
    "            return \n",
    "        res = []\n",
    "        \n",
    "        def traverse(node):\n",
    "            if len(res) >= k or not node:\n",
    "                return\n",
    "            traverse(node.left)\n",
    "            res.append(node)\n",
    "            traverse(node.right)\n",
    "        traverse(pRoot)\n",
    "        if len(res) < k:\n",
    "            return\n",
    "        return res[k-1]"
   ]
  },
  {
   "cell_type": "code",
   "execution_count": 183,
   "metadata": {
    "collapsed": true
   },
   "outputs": [],
   "source": [
    "Root = TreeNode(5)\n",
    "Root.left = TreeNode(3)\n",
    "Root.left.left = TreeNode(2)\n",
    "Root.left.right = TreeNode(4)\n",
    "Root.right = TreeNode(7)\n",
    "Root.right.left = TreeNode(6)\n",
    "Root.right.right = TreeNode(8)"
   ]
  },
  {
   "cell_type": "code",
   "execution_count": 184,
   "metadata": {},
   "outputs": [
    {
     "data": {
      "text/plain": [
       "4"
      ]
     },
     "execution_count": 184,
     "metadata": {},
     "output_type": "execute_result"
    }
   ],
   "source": [
    "so=Solution()\n",
    "so.KthNode(Root,3).val"
   ]
  },
  {
   "cell_type": "markdown",
   "metadata": {},
   "source": [
    "## 面试题55:二叉树的深度"
   ]
  },
  {
   "cell_type": "markdown",
   "metadata": {},
   "source": [
    "题目一：二叉树的深度\n",
    "\n",
    "输入一棵二叉树，求该树的深度。从根结点到叶结点依次经过的结点（含根、叶结点）形成树的一条路径，最长路径的长度为树的深度。"
   ]
  },
  {
   "cell_type": "code",
   "execution_count": 185,
   "metadata": {
    "collapsed": true
   },
   "outputs": [],
   "source": [
    "class Solution:\n",
    "    def TreeDepth(self, pRoot):\n",
    "        if not pRoot:\n",
    "            return 0\n",
    "        return max(self.TreeDepth(pRoot.left),self.TreeDepth(pRoot.right)) + 1"
   ]
  },
  {
   "cell_type": "code",
   "execution_count": 186,
   "metadata": {},
   "outputs": [
    {
     "data": {
      "text/plain": [
       "5"
      ]
     },
     "execution_count": 186,
     "metadata": {},
     "output_type": "execute_result"
    }
   ],
   "source": [
    "Root = TreeNode(5)\n",
    "Root.left = TreeNode(3)\n",
    "Root.left.left = TreeNode(2)\n",
    "Root.left.right = TreeNode(4)\n",
    "Root.right = TreeNode(7)\n",
    "Root.right.left = TreeNode(6)\n",
    "Root.right.right = TreeNode(8)\n",
    "Root.right.right.right = TreeNode(10)\n",
    "Root.right.right.right.right = TreeNode(12)\n",
    "\n",
    "so=Solution()\n",
    "so.TreeDepth(Root)"
   ]
  },
  {
   "cell_type": "markdown",
   "metadata": {},
   "source": [
    "题目二：平衡二叉树\n",
    "\n",
    "输入一棵二叉树，判断该二叉树是否是平衡二叉树。\n",
    "\n",
    "平衡二叉树的定义是任何节点的左右子树高度差都不超过1的二叉树。"
   ]
  },
  {
   "cell_type": "code",
   "execution_count": 187,
   "metadata": {
    "collapsed": true
   },
   "outputs": [],
   "source": [
    "class Solution:\n",
    "    def __init__(self):\n",
    "        self.flag = True\n",
    "    \n",
    "    def IsBalanced_Solution(self, pRoot):\n",
    "        # write code here\n",
    "        self.getDepth(pRoot)\n",
    "        return self.flag\n",
    "    \n",
    "    def getDepth(self, root):\n",
    "        if not root:\n",
    "            return 0\n",
    "        left = self.getDepth(root.left) + 1\n",
    "        right = self.getDepth(root.right) + 1\n",
    "        \n",
    "        if abs(left - right) > 1:\n",
    "            self.flag = False\n",
    "            \n",
    "        return left if left > right else right"
   ]
  },
  {
   "cell_type": "code",
   "execution_count": 188,
   "metadata": {},
   "outputs": [
    {
     "data": {
      "text/plain": [
       "False"
      ]
     },
     "execution_count": 188,
     "metadata": {},
     "output_type": "execute_result"
    }
   ],
   "source": [
    "so=Solution()\n",
    "so.IsBalanced_Solution(Root)"
   ]
  },
  {
   "cell_type": "code",
   "execution_count": 189,
   "metadata": {},
   "outputs": [
    {
     "data": {
      "text/plain": [
       "True"
      ]
     },
     "execution_count": 189,
     "metadata": {},
     "output_type": "execute_result"
    }
   ],
   "source": [
    "Root = TreeNode(5)\n",
    "Root.left = TreeNode(3)\n",
    "Root.left.left = TreeNode(2)\n",
    "Root.left.right = TreeNode(4)\n",
    "Root.right = TreeNode(7)\n",
    "Root.right.left = TreeNode(6)\n",
    "Root.right.right = TreeNode(8)\n",
    "\n",
    "so=Solution()\n",
    "so.IsBalanced_Solution(Root)"
   ]
  },
  {
   "cell_type": "markdown",
   "metadata": {},
   "source": [
    "## 面试题56:数组中数字出现的次数"
   ]
  },
  {
   "cell_type": "markdown",
   "metadata": {},
   "source": [
    "题目一：数组中只出现一次的两个数字\n",
    "\n",
    "一个整型数组里除了两个数字之外，其他的数字都出现了两次。请写程序找出这两个只出现一次的数字。\n",
    "\n",
    "要求时间复杂度O(n)，空间复杂度O(1)"
   ]
  },
  {
   "cell_type": "code",
   "execution_count": 190,
   "metadata": {
    "collapsed": true
   },
   "outputs": [],
   "source": [
    "# 哈希法\n",
    "class Solution:\n",
    "    # 返回[a,b] 其中ab是出现一次的两个数字\n",
    "    def FindNumsAppearOnce(self, array):\n",
    "        # write code here\n",
    "        hashmap = {}\n",
    "        for i in array:\n",
    "            if str(i) in hashmap:\n",
    "                hashmap[str(i)] += 1\n",
    "            else:\n",
    "                hashmap[str(i)] = 1\n",
    "        result = []\n",
    "        for k in hashmap.keys():\n",
    "            if hashmap[k] == 1:\n",
    "                result.append(int(k))\n",
    "        return result"
   ]
  },
  {
   "cell_type": "code",
   "execution_count": 191,
   "metadata": {},
   "outputs": [
    {
     "data": {
      "text/plain": [
       "[4, 6]"
      ]
     },
     "execution_count": 191,
     "metadata": {},
     "output_type": "execute_result"
    }
   ],
   "source": [
    "so=Solution()\n",
    "so.FindNumsAppearOnce([2,4,3,6,3,2,5,5])"
   ]
  },
  {
   "cell_type": "code",
   "execution_count": 192,
   "metadata": {
    "collapsed": true
   },
   "outputs": [],
   "source": [
    "class Solution:\n",
    "    # 返回[a,b] 其中ab是出现一次的两个数字\n",
    "    def FindNumsAppearOnce(self, array):\n",
    "        if array == None:\n",
    "            return []\n",
    "        xor = 0\n",
    "        for i in array:\n",
    "            xor ^= i\n",
    "\n",
    "        idxOf1 = self.getFirstIdx(xor)\n",
    "        num1 = num2 = 0\n",
    "        for j in range(len(array)):\n",
    "            if self.IsBit(array[j], idxOf1):\n",
    "                num1 ^= array[j]\n",
    "            else:\n",
    "                num2 ^= array[j]\n",
    "        return [num1, num2]\n",
    "\n",
    "    def getFirstIdx(self, num):\n",
    "        idx = 0\n",
    "        while num & 1 == 0 and idx <= 32:\n",
    "            idx += 1\n",
    "            num = num >> 1\n",
    "        return idx\n",
    "\n",
    "    def IsBit(self, num, indexBit):\n",
    "        num = num >> indexBit\n",
    "        return num & 1"
   ]
  },
  {
   "cell_type": "code",
   "execution_count": 193,
   "metadata": {},
   "outputs": [
    {
     "data": {
      "text/plain": [
       "[6, 4]"
      ]
     },
     "execution_count": 193,
     "metadata": {},
     "output_type": "execute_result"
    }
   ],
   "source": [
    "so=Solution()\n",
    "so.FindNumsAppearOnce([2,4,3,6,3,2,5,5])"
   ]
  },
  {
   "cell_type": "markdown",
   "metadata": {},
   "source": [
    "题目二：数组中唯一只出现一次的数字\n",
    "\n",
    "在一个数组中除了一个数字只出现一次之外，其他数字都出现了三次。O(n)"
   ]
  },
  {
   "cell_type": "code",
   "execution_count": 194,
   "metadata": {
    "collapsed": true
   },
   "outputs": [],
   "source": [
    "class Solution:\n",
    "    def findNumberAppearingOnce(self,nums):\n",
    "        res=0\n",
    "        for i in range(32):\n",
    "            count=0\n",
    "            for num in nums:\n",
    "                if (num>>i)&1:\n",
    "                    count+=1\n",
    "            if count%3:\n",
    "                res+=1<<i\n",
    "        return res"
   ]
  },
  {
   "cell_type": "code",
   "execution_count": 195,
   "metadata": {},
   "outputs": [
    {
     "data": {
      "text/plain": [
       "2"
      ]
     },
     "execution_count": 195,
     "metadata": {},
     "output_type": "execute_result"
    }
   ],
   "source": [
    "so=Solution()\n",
    "so.findNumberAppearingOnce([4,3,4,3,2,3,4])"
   ]
  },
  {
   "cell_type": "markdown",
   "metadata": {},
   "source": [
    "## 面试题57:和为s的数字"
   ]
  },
  {
   "cell_type": "markdown",
   "metadata": {},
   "source": [
    "题目一：和为s的两个数字\n",
    "\n",
    "输入一个递增排序的数组和一个数字S，在数组中查找两个数，是的他们的和正好是S，如果有多对数字的和等于S，输出任意一对即可。"
   ]
  },
  {
   "cell_type": "code",
   "execution_count": 196,
   "metadata": {
    "collapsed": true
   },
   "outputs": [],
   "source": [
    "class Solution:\n",
    "    def FindNumbersWithSum(self, array, tsum):\n",
    "        # write code here\n",
    "        if not array or not tsum:\n",
    "            return []\n",
    "        start = 0\n",
    "        end = len(array) - 1\n",
    "        while start < end:\n",
    "            csum = array[start] + array[end]\n",
    "            \n",
    "            if csum < tsum:\n",
    "                start += 1\n",
    "            elif csum > tsum:\n",
    "                end -= 1\n",
    "            else:\n",
    "                return [array[start],array[end]]\n",
    "        return []"
   ]
  },
  {
   "cell_type": "code",
   "execution_count": 197,
   "metadata": {},
   "outputs": [
    {
     "data": {
      "text/plain": [
       "[0, 15]"
      ]
     },
     "execution_count": 197,
     "metadata": {},
     "output_type": "execute_result"
    }
   ],
   "source": [
    "so=Solution()\n",
    "so.FindNumbersWithSum([0,1,2,4,7,11,15],15)"
   ]
  },
  {
   "cell_type": "markdown",
   "metadata": {},
   "source": [
    "题目二：和为s的连续整数序列\n",
    "\n",
    "输出所有和为S的连续正数序列。序列内按照从小至大的顺序，序列间按照开始数字从小到大的顺序\n",
    "\n",
    "例如：15=1+2+3+4+5=4+5+6=7+8"
   ]
  },
  {
   "cell_type": "code",
   "execution_count": 198,
   "metadata": {
    "collapsed": true
   },
   "outputs": [],
   "source": [
    "class Solution:\n",
    "    def FindContinuousSequence(self, tsum):\n",
    "        small, big,res = 1, 2, []\n",
    "        csum = small + big\n",
    "        while small < big:\n",
    "            if csum > tsum:\n",
    "                csum -= small\n",
    "                small += 1\n",
    "            else:\n",
    "                if csum == tsum:\n",
    "                    res.append([i for i in range(small,big+1)])\n",
    "                big += 1\n",
    "                csum += big\n",
    "        return res"
   ]
  },
  {
   "cell_type": "code",
   "execution_count": 199,
   "metadata": {},
   "outputs": [
    {
     "data": {
      "text/plain": [
       "[[1, 2, 3, 4, 5], [4, 5, 6], [7, 8]]"
      ]
     },
     "execution_count": 199,
     "metadata": {},
     "output_type": "execute_result"
    }
   ],
   "source": [
    "so=Solution()\n",
    "so.FindContinuousSequence(15)"
   ]
  },
  {
   "cell_type": "markdown",
   "metadata": {},
   "source": [
    "## 面试题58:翻转字符串"
   ]
  },
  {
   "cell_type": "markdown",
   "metadata": {},
   "source": [
    "题目一：翻转单词顺序\n",
    "\n",
    "例如，“I am a student.”。翻转后的句子应该是“student. a am I”。 "
   ]
  },
  {
   "cell_type": "code",
   "execution_count": 200,
   "metadata": {
    "collapsed": true
   },
   "outputs": [],
   "source": [
    "class Solution:\n",
    "    def ReverseSentence(self, s):\n",
    "        # write code here\n",
    "        if not s or len(s) <= 0:\n",
    "            return ''\n",
    "        lis = list(s)\n",
    "        lis = self.Reverse(lis)\n",
    "        start = 0\n",
    "        end = 0\n",
    "        res = ''\n",
    "        lisTmp = []\n",
    "        \n",
    "        while end < len(s):\n",
    "            if end == len(s) - 1:\n",
    "                lisTmp.append(self.Reverse(lis[start:]))\n",
    "                break\n",
    "            if lis[start] == ' ':\n",
    "                start += 1\n",
    "                end += 1\n",
    "                lisTmp.append(' ')\n",
    "            elif lis[end] == ' ':\n",
    "                lisTmp.append(self.Reverse(lis[start:end]))\n",
    "                start = end\n",
    "            else:\n",
    "                end += 1\n",
    "        for i in lisTmp:\n",
    "            res += ''.join(i)\n",
    "        return res\n",
    "        \n",
    "        \n",
    "    def Reverse(self,lis):\n",
    "        if not lis or len(lis) <= 0:\n",
    "            return ''\n",
    "        start = 0\n",
    "        end = len(lis) - 1\n",
    "        while start < end:\n",
    "            lis[start], lis[end] = lis[end], lis[start]\n",
    "            start += 1\n",
    "            end -= 1\n",
    "            \n",
    "        return lis"
   ]
  },
  {
   "cell_type": "code",
   "execution_count": 201,
   "metadata": {},
   "outputs": [
    {
     "data": {
      "text/plain": [
       "'student. a am I'"
      ]
     },
     "execution_count": 201,
     "metadata": {},
     "output_type": "execute_result"
    }
   ],
   "source": [
    "so=Solution()\n",
    "so.ReverseSentence(\"I am a student.\")"
   ]
  },
  {
   "cell_type": "markdown",
   "metadata": {},
   "source": [
    "题目二：左旋转字符串\n",
    "\n",
    "例如，字符序列S=”abcXYZdef”,要求输出循环左移3位后的结果，即“XYZdefabc”。"
   ]
  },
  {
   "cell_type": "code",
   "execution_count": 202,
   "metadata": {
    "collapsed": true
   },
   "outputs": [],
   "source": [
    "class Solution:\n",
    "    def LeftRotateString(self, s, n):\n",
    "        # write code here\n",
    "        if len(s) <= 0 or n < 0 or len(s) < n:\n",
    "            return ''\n",
    "        lis = list(s)\n",
    "        self.Reverse(lis)\n",
    "        length = len(s)\n",
    "        pivot = length - n\n",
    "        frontlist = self.Reverse(lis[:pivot])\n",
    "        behindlist = self.Reverse(lis[pivot:])\n",
    "        res = ''.join(frontlist) + ''.join(behindlist)\n",
    "        return res\n",
    "        \n",
    "    def Reverse(self,lis):\n",
    "        if not lis or len(lis) <= 0:\n",
    "            return ''\n",
    "        start = 0\n",
    "        end = len(lis) - 1\n",
    "        while start < end:\n",
    "            lis[start], lis[end] = lis[end], lis[start]\n",
    "            start += 1\n",
    "            end -= 1\n",
    "            \n",
    "        return lis"
   ]
  },
  {
   "cell_type": "code",
   "execution_count": 203,
   "metadata": {},
   "outputs": [
    {
     "data": {
      "text/plain": [
       "'XYZdefabc'"
      ]
     },
     "execution_count": 203,
     "metadata": {},
     "output_type": "execute_result"
    }
   ],
   "source": [
    "so=Solution()\n",
    "so.LeftRotateString(\"abcXYZdef\",3)"
   ]
  },
  {
   "cell_type": "markdown",
   "metadata": {},
   "source": [
    "## 面试题59:队列的最大值"
   ]
  },
  {
   "cell_type": "markdown",
   "metadata": {},
   "source": [
    "题目一： 滑动窗口的最大值。给定一个数组和滑动窗口的大小，请找出所有滑动窗口里的最大值。例如，如果输入数组{2,3,4,2,6,2,5,1}及滑动窗口的大小3，那么一共存在6个滑动窗口，他们的最大值分别为{4,4,6,6,6,5}； 针对数组{2,3,4,2,6,2,5,1}的滑动窗口有以下6个： {[2,3,4],2,6,2,5,1}， {2,[3,4,2],6,2,5,1}， {2,3,[4,2,6],2,5,1}， {2,3,4,[2,6,2],5,1}， {2,3,4,2,[6,2,5],1}， {2,3,4,2,6,[2,5,1]}。"
   ]
  },
  {
   "cell_type": "code",
   "execution_count": 204,
   "metadata": {
    "collapsed": true
   },
   "outputs": [],
   "source": [
    "class Solution:\n",
    "    \n",
    "    def max_in_sliding_window(self,array, window_width):\n",
    "        \"\"\"\n",
    "        :param array: numbers\n",
    "        :param window_width:sliding window size\n",
    "        :return: all max number\n",
    "        \"\"\"\n",
    "        if not array or window_width < 1:\n",
    "            return None\n",
    "        max_i = []\n",
    "        res = []\n",
    "        for i in range(len(array)):\n",
    "            while max_i and array[i] >= array[max_i[-1]]:\n",
    "                max_i.pop()\n",
    "            max_i.append(i)\n",
    "            while max_i and i - max_i[0] >= window_width:\n",
    "                max_i.pop(0)\n",
    "            if window_width - 1 <= i:\n",
    "                res.append(array[max_i[0]])\n",
    "        return res"
   ]
  },
  {
   "cell_type": "code",
   "execution_count": 205,
   "metadata": {},
   "outputs": [
    {
     "data": {
      "text/plain": [
       "[4, 4, 6, 6, 6, 5]"
      ]
     },
     "execution_count": 205,
     "metadata": {},
     "output_type": "execute_result"
    }
   ],
   "source": [
    "so=Solution()\n",
    "so.max_in_sliding_window([2,3,4,2,6,2,5,1],3)"
   ]
  },
  {
   "cell_type": "markdown",
   "metadata": {},
   "source": [
    "题目二： 队列的最大值。请定义一个队列并实现函数max得到队列里的最大值，要求函数max、push_back和\n",
    "pop_front的时间复杂度都是O(1)。"
   ]
  },
  {
   "cell_type": "markdown",
   "metadata": {},
   "source": [
    "用队列先进先出的特点，可以免于考虑剔除最大值后，候补最大值不存在于队列的情况，大大减少了计算。"
   ]
  },
  {
   "cell_type": "code",
   "execution_count": 206,
   "metadata": {
    "collapsed": true
   },
   "outputs": [],
   "source": [
    "class Queue(object):\n",
    "\n",
    "    def __init__(self):\n",
    "        self.data = []\n",
    "        self.max_data = []\n",
    "\n",
    "    def pop(self):\n",
    "        \"\"\"\n",
    "        pop out the head element\n",
    "        :return: head element\n",
    "        \"\"\"\n",
    "        if not self.data:\n",
    "            raise Exception('Empty Queue Cannot Pop')\n",
    "        if self.data[0] == self.max_data[0]:\n",
    "            self.max_data.pop(0)\n",
    "        return self.data.pop(0)\n",
    "\n",
    "    def push(self, x):\n",
    "        \"\"\"\n",
    "        push in the back\n",
    "        :param x: element\n",
    "        :return: None\n",
    "        \"\"\"\n",
    "        self.data.append(x)\n",
    "        while self.max_data and self.max_data[-1] < x:\n",
    "            self.max_data.pop()\n",
    "        self.max_data.append(x)\n",
    "        return\n",
    "\n",
    "    def max(self):\n",
    "        \"\"\"\n",
    "        get the maximum element\n",
    "        :return: max element\n",
    "        \"\"\"\n",
    "        return self.max_data[0]"
   ]
  },
  {
   "cell_type": "code",
   "execution_count": 207,
   "metadata": {},
   "outputs": [
    {
     "data": {
      "text/plain": [
       "40"
      ]
     },
     "execution_count": 207,
     "metadata": {},
     "output_type": "execute_result"
    }
   ],
   "source": [
    "q=Queue()\n",
    "q.push(4)\n",
    "q.push(1)\n",
    "q.push(30)\n",
    "q.push(40)\n",
    "q.push(-2)\n",
    "q.max()"
   ]
  },
  {
   "cell_type": "code",
   "execution_count": 208,
   "metadata": {},
   "outputs": [
    {
     "data": {
      "text/plain": [
       "4"
      ]
     },
     "execution_count": 208,
     "metadata": {},
     "output_type": "execute_result"
    }
   ],
   "source": [
    "q.pop()"
   ]
  },
  {
   "cell_type": "code",
   "execution_count": 209,
   "metadata": {},
   "outputs": [
    {
     "data": {
      "text/plain": [
       "1"
      ]
     },
     "execution_count": 209,
     "metadata": {},
     "output_type": "execute_result"
    }
   ],
   "source": [
    "q.pop()"
   ]
  },
  {
   "cell_type": "markdown",
   "metadata": {},
   "source": [
    "## 面试题60:n个骰子的点数"
   ]
  },
  {
   "cell_type": "markdown",
   "metadata": {},
   "source": [
    "题目:把n个骰子扔在地上，所有骰子朝上一面的点数之和为s。输入n，打印出s的所有可能的值的出现概率。"
   ]
  },
  {
   "cell_type": "code",
   "execution_count": 210,
   "metadata": {
    "collapsed": true
   },
   "outputs": [],
   "source": [
    "class Solution:\n",
    "    def dicesSum(self, n):\n",
    "        if n < 1:\n",
    "            return []\n",
    "        probability = []\n",
    "        probability.append([0] * (6 * n + 1))\n",
    "        probability.append([0] * (6 * n + 1))\n",
    "        flag = 0\n",
    "        ratio = []\n",
    "        for i in range(1, 7):\n",
    "            probability[flag][i] = 1\n",
    "        for k in range(2, n + 1):\n",
    "            for i in range(0, k):\n",
    "                probability[1 - flag][i] = 0\n",
    "            for i in range(k, 6 * k + 1):\n",
    "                probability[1 - flag][i] = 0\n",
    "                for j in range(1, min(i + 1, 7)):\n",
    "                    probability[1 - flag][i] += probability[flag][i - j]\n",
    "            flag = 1 - flag\n",
    "        total = pow(6, n)\n",
    "        for i in range(n, 6 * n + 1):\n",
    "            ratio.append([i, probability[flag][i] / total])\n",
    "        return ratio"
   ]
  },
  {
   "cell_type": "code",
   "execution_count": 211,
   "metadata": {},
   "outputs": [
    {
     "data": {
      "text/plain": [
       "[[3, 0.004629629629629629],\n",
       " [4, 0.013888888888888888],\n",
       " [5, 0.027777777777777776],\n",
       " [6, 0.046296296296296294],\n",
       " [7, 0.06944444444444445],\n",
       " [8, 0.09722222222222222],\n",
       " [9, 0.11574074074074074],\n",
       " [10, 0.125],\n",
       " [11, 0.125],\n",
       " [12, 0.11574074074074074],\n",
       " [13, 0.09722222222222222],\n",
       " [14, 0.06944444444444445],\n",
       " [15, 0.046296296296296294],\n",
       " [16, 0.027777777777777776],\n",
       " [17, 0.013888888888888888],\n",
       " [18, 0.004629629629629629]]"
      ]
     },
     "execution_count": 211,
     "metadata": {},
     "output_type": "execute_result"
    }
   ],
   "source": [
    "Solution().dicesSum(3)"
   ]
  },
  {
   "cell_type": "markdown",
   "metadata": {},
   "source": [
    "## 面试题61:扑克牌中的顺子"
   ]
  },
  {
   "cell_type": "markdown",
   "metadata": {},
   "source": [
    "题目：从扑克牌中随机抽5张牌，判断是不是一个顺子， 即这5张牌是不是连续的。2～10为数字本身， A为1。 J为11、Q为12、 K为13。大、小王可以看成任意数字。(为了方便，输入数组中0代表大小王)"
   ]
  },
  {
   "cell_type": "code",
   "execution_count": 212,
   "metadata": {
    "collapsed": true
   },
   "outputs": [],
   "source": [
    "class Solution:\n",
    "    def IsContinuous(self, numbers):\n",
    "        if not numbers or len(numbers) == 0:\n",
    "            return False\n",
    "        \n",
    "        transdict = {'A':1,'J':11,'Q':12,'K':13}\n",
    "        for i in range(len(numbers)):\n",
    "            if numbers[i] in transdict.keys():\n",
    "                numbers[i] = transdict[numbers[i]]\n",
    "                \n",
    "        numbers = sorted(numbers)\n",
    "        number_0 = 0\n",
    "        number_gap = 0\n",
    "        \n",
    "        i = 0\n",
    "        while i < len(numbers) and numbers[i] == 0:\n",
    "            number_0 += 1\n",
    "            i += 1\n",
    "            \n",
    "        front = number_0\n",
    "        behind = front + 1\n",
    "        while behind < len(numbers):\n",
    "            if numbers[front] == numbers[behind]:\n",
    "                return False\n",
    "            number_gap += numbers[behind] - numbers[front] - 1\n",
    "            front = behind\n",
    "            behind += 1\n",
    "        return False if number_gap > number_0 else True"
   ]
  },
  {
   "cell_type": "code",
   "execution_count": 213,
   "metadata": {},
   "outputs": [
    {
     "data": {
      "text/plain": [
       "True"
      ]
     },
     "execution_count": 213,
     "metadata": {},
     "output_type": "execute_result"
    }
   ],
   "source": [
    "so=Solution()\n",
    "so.IsContinuous([9,10,\"J\",\"Q\",\"K\"])"
   ]
  },
  {
   "cell_type": "markdown",
   "metadata": {},
   "source": [
    "## 面试题62:圆圈中最后剩下的数字"
   ]
  },
  {
   "cell_type": "markdown",
   "metadata": {},
   "source": [
    "题目：有个游戏是这样的:首先,让小朋友们围成一个大圈。然后,他随机指定一个数m,让编号为0的小朋友开始报数。每次喊到m-1的那个小朋友要出列并且不再回到圈中,从他的下一个小朋友开始,继续0…m-1报数….这样下去….直到剩下最后一个小朋友,求最后一个小朋友的编号"
   ]
  },
  {
   "cell_type": "markdown",
   "metadata": {},
   "source": [
    "有一个不太容易发现的递推关系：\n",
    "\n",
    "约瑟夫环的公式是：\n",
    "\n",
    "f(n, m) = 0         (n = 1)\n",
    "\n",
    "f(n, m) = [f(n-1, m) +m] % n  (n > 1)"
   ]
  },
  {
   "cell_type": "code",
   "execution_count": 214,
   "metadata": {
    "collapsed": true
   },
   "outputs": [],
   "source": [
    "class Solution:\n",
    "    def LastRemaining_Solution(self, n, m):\n",
    "        if n < 1 or m < 1:\n",
    "            return -1\n",
    "        con = list(range(n))\n",
    "        start = 0\n",
    "        end = -1\n",
    "        while con:\n",
    "            k = (start + m - 1) % n\n",
    "            end = con.pop(k)\n",
    "            n -= 1\n",
    "            start = k\n",
    "        return end"
   ]
  },
  {
   "cell_type": "code",
   "execution_count": 215,
   "metadata": {},
   "outputs": [
    {
     "data": {
      "text/plain": [
       "3"
      ]
     },
     "execution_count": 215,
     "metadata": {},
     "output_type": "execute_result"
    }
   ],
   "source": [
    "so=Solution()\n",
    "so.LastRemaining_Solution(5,3)"
   ]
  },
  {
   "cell_type": "code",
   "execution_count": 216,
   "metadata": {
    "collapsed": true
   },
   "outputs": [],
   "source": [
    "class Solution:\n",
    "    def LastRemaining_Solution(self, n, m):\n",
    "        if n < 1 or m < 1:\n",
    "            return -1\n",
    "        idx = 0\n",
    "        for i in range(1,n+1):\n",
    "            idx = (idx + m ) % i\n",
    "        return idx"
   ]
  },
  {
   "cell_type": "code",
   "execution_count": 217,
   "metadata": {},
   "outputs": [
    {
     "data": {
      "text/plain": [
       "3"
      ]
     },
     "execution_count": 217,
     "metadata": {},
     "output_type": "execute_result"
    }
   ],
   "source": [
    "so=Solution()\n",
    "so.LastRemaining_Solution(5,3)"
   ]
  },
  {
   "cell_type": "markdown",
   "metadata": {},
   "source": [
    "## 面试题63:股票的最大利润"
   ]
  },
  {
   "cell_type": "markdown",
   "metadata": {},
   "source": [
    "题目:假设把某股票的价格按照时间先后顺序存储在数组中，请问买卖该股票一次可获得的最大利润是多少？\n",
    "   \n",
    "例如，一只股票在某些时间节点的价格为{9,11,8,5,7,12,16,14}。如果我们能在价格为5的时候买入并在价格为16时卖出，则能获得最大的利润为11."
   ]
  },
  {
   "cell_type": "markdown",
   "metadata": {},
   "source": [
    "思路：当扫描到第i个数字的时候，min记住前min中的最小值，就可算出在当前价位卖出时可能得到的最大利润。"
   ]
  },
  {
   "cell_type": "code",
   "execution_count": 218,
   "metadata": {
    "collapsed": true
   },
   "outputs": [],
   "source": [
    "class Solution(object):\n",
    "    def maxProfit(self, prices):\n",
    "        if not prices or len(prices)<2:\n",
    "            return 0\n",
    "        min_p = prices[0]\n",
    "        maxDiff = prices[1]-min_p\n",
    "        for i in range(2, len(prices)):\n",
    "            if prices[i-1]<min_p:\n",
    "                min_p = prices[i-1]\n",
    "            if prices[i]-min_p > maxDiff:\n",
    "                maxDiff = prices[i]-min_p\n",
    "        if maxDiff<0:\n",
    "            return 0\n",
    "        return maxDiff"
   ]
  },
  {
   "cell_type": "code",
   "execution_count": 219,
   "metadata": {},
   "outputs": [
    {
     "data": {
      "text/plain": [
       "11"
      ]
     },
     "execution_count": 219,
     "metadata": {},
     "output_type": "execute_result"
    }
   ],
   "source": [
    "so=Solution()\n",
    "so.maxProfit([9,11,8,5,7,12,16,14])"
   ]
  },
  {
   "cell_type": "markdown",
   "metadata": {},
   "source": [
    "思路2 动态规划， 前i天的最大收益 = max{前i-1天的最大收益，第i天的价格-前i-1天中的最小价格}"
   ]
  },
  {
   "cell_type": "code",
   "execution_count": 220,
   "metadata": {
    "collapsed": true
   },
   "outputs": [],
   "source": [
    "class Solution(object):\n",
    "    def maxProfit(self, prices):\n",
    "        min_p, max_p = 99999, 0\n",
    "        for i in range(len(prices)):\n",
    "            min_p = min(min_p, prices[i])\n",
    "            max_p = max(max_p, prices[i]-min_p)\n",
    "        return max_p"
   ]
  },
  {
   "cell_type": "code",
   "execution_count": 221,
   "metadata": {},
   "outputs": [
    {
     "data": {
      "text/plain": [
       "11"
      ]
     },
     "execution_count": 221,
     "metadata": {},
     "output_type": "execute_result"
    }
   ],
   "source": [
    "so=Solution()\n",
    "so.maxProfit([9,11,8,5,7,12,16,14])"
   ]
  },
  {
   "cell_type": "code",
   "execution_count": 222,
   "metadata": {},
   "outputs": [
    {
     "data": {
      "text/plain": [
       "11"
      ]
     },
     "execution_count": 222,
     "metadata": {},
     "output_type": "execute_result"
    }
   ],
   "source": [
    "class Solution(object):\n",
    "    def maxProfit(self, prices):\n",
    "        if not prices:\n",
    "            return 0\n",
    "        cur_diff = 0\n",
    "        maxn = 0\n",
    "        for i in range(1,len(prices)):\n",
    "            cur_diff = max(cur_diff+prices[i]-prices[i-1],0)\n",
    "            maxn = max(cur_diff,maxn)\n",
    "        return maxn\n",
    "    \n",
    "Solution().maxProfit([9,11,8,5,7,12,16,14])"
   ]
  },
  {
   "cell_type": "markdown",
   "metadata": {},
   "source": [
    "## 面试题64:求1+2+3+...+n"
   ]
  },
  {
   "cell_type": "markdown",
   "metadata": {},
   "source": [
    "题目:求1+2+3+...+n，要求不能使用乘除法、for、while、if、else、switch、case等关键字及条件判断语句（A?B:C）。"
   ]
  },
  {
   "cell_type": "code",
   "execution_count": 223,
   "metadata": {
    "collapsed": true
   },
   "outputs": [],
   "source": [
    "class Solution:\n",
    "    def Sum_Solution(self, n):\n",
    "        # write code here\n",
    "        return self.sumN(n)\n",
    "        \n",
    "    def sum0(self, n):\n",
    "        return 0\n",
    "    \n",
    "    def sumN(self,n):\n",
    "        fun = {False:self.sum0,True: self.sumN}\n",
    "        return n + fun[not not n](n - 1)"
   ]
  },
  {
   "cell_type": "code",
   "execution_count": 224,
   "metadata": {},
   "outputs": [
    {
     "data": {
      "text/plain": [
       "55"
      ]
     },
     "execution_count": 224,
     "metadata": {},
     "output_type": "execute_result"
    }
   ],
   "source": [
    "so=Solution()\n",
    "so.Sum_Solution(10)"
   ]
  },
  {
   "cell_type": "code",
   "execution_count": 225,
   "metadata": {
    "collapsed": true
   },
   "outputs": [],
   "source": [
    "class Solution:\n",
    "    def Sum_Solution(self, n):\n",
    "        return n and self.Sum_Solution(n - 1) + n"
   ]
  },
  {
   "cell_type": "code",
   "execution_count": 226,
   "metadata": {},
   "outputs": [
    {
     "data": {
      "text/plain": [
       "55"
      ]
     },
     "execution_count": 226,
     "metadata": {},
     "output_type": "execute_result"
    }
   ],
   "source": [
    "so=Solution()\n",
    "so.Sum_Solution(10)"
   ]
  },
  {
   "cell_type": "markdown",
   "metadata": {},
   "source": [
    "## 面试题65:不用加减乘除做加法"
   ]
  },
  {
   "cell_type": "markdown",
   "metadata": {},
   "source": [
    "题目:写一个函数，求两个整数之和，要求在函数体内不得使用+、-、*、/四则运算符号。"
   ]
  },
  {
   "cell_type": "code",
   "execution_count": 227,
   "metadata": {
    "collapsed": true
   },
   "outputs": [],
   "source": [
    "class Solution:\n",
    "    def Add(self, num1, num2):\n",
    "        while num2 != 0:\n",
    "            temp = num1 ^ num2\n",
    "            num2 = (num1 & num2) << 1\n",
    "            num1 = temp & 0xFFFFFFFF\n",
    "        return num1 if num1 >> 31 == 0 else num1 - 4294967296"
   ]
  },
  {
   "cell_type": "code",
   "execution_count": 228,
   "metadata": {},
   "outputs": [
    {
     "data": {
      "text/plain": [
       "210"
      ]
     },
     "execution_count": 228,
     "metadata": {},
     "output_type": "execute_result"
    }
   ],
   "source": [
    "so=Solution()\n",
    "so.Add(200,10)"
   ]
  },
  {
   "cell_type": "markdown",
   "metadata": {},
   "source": [
    "## 面试题66:构建乘积数组"
   ]
  },
  {
   "cell_type": "markdown",
   "metadata": {},
   "source": [
    "题目：给定一个数组A[0,1,...,n-1],请构建一个数组B[0,1,...,n-1],其中B中的元素B[i]=A[0]*A[1]*...*A[i-1]*A[i+1]*...*A[n-1]。不能使用除法。"
   ]
  },
  {
   "cell_type": "code",
   "execution_count": 229,
   "metadata": {
    "collapsed": true
   },
   "outputs": [],
   "source": [
    "class Solution:\n",
    "    def multiply(self, A):\n",
    "        if not A or len(A) <= 0:\n",
    "            return\n",
    "        length = len(A)\n",
    "        lis = [1] * length\n",
    "        for i in range(1,length):\n",
    "            lis[i] = lis[i-1] * A[i-1]\n",
    "        temp = 1\n",
    "        for i in range(length-2,-1,-1):\n",
    "            temp = temp * A[i+1]\n",
    "            lis[i] *= temp\n",
    "        return lis"
   ]
  },
  {
   "cell_type": "code",
   "execution_count": 230,
   "metadata": {},
   "outputs": [
    {
     "data": {
      "text/plain": [
       "[144, 72, 18, 16]"
      ]
     },
     "execution_count": 230,
     "metadata": {},
     "output_type": "execute_result"
    }
   ],
   "source": [
    "so=Solution()\n",
    "so.multiply([1,2,8,9])"
   ]
  },
  {
   "cell_type": "markdown",
   "metadata": {},
   "source": [
    "## 面试题67:把字符串转换成整数"
   ]
  },
  {
   "cell_type": "markdown",
   "metadata": {},
   "source": [
    "题目:将一个字符串转换成一个整数，要求不能使用字符串转换整数的库函数。 数值为0或者字符串不是一个合法的数值则返回0"
   ]
  },
  {
   "cell_type": "code",
   "execution_count": 231,
   "metadata": {
    "collapsed": true
   },
   "outputs": [],
   "source": [
    "class Solution:\n",
    "    def StrToInt(self, s):\n",
    "        # write code here\n",
    "        flag = False\n",
    "        if not s or len(s) < 1:\n",
    "            return 0\n",
    "        num = []\n",
    "        numdict = {'0': 0, '1': 1, '2': 2, '3': 3, '4': 4, '5': 5, '6': 6, '7': 7, '8': 8, '9': 9}\n",
    "        for i in s:\n",
    "            if i in numdict.keys():\n",
    "                num.append(numdict[i])\n",
    "            elif i == '+' or i == '-':\n",
    "                continue\n",
    "            else: \n",
    "                return 0\n",
    "        ans = 0\n",
    "        if len(num) == 1 and num[0] == 0:\n",
    "            flag = True\n",
    "            return 0\n",
    "        for i in num:\n",
    "            ans = ans*10 + i\n",
    "        if s[0] == '-':\n",
    "            ans = 0 - ans\n",
    "        return ans"
   ]
  },
  {
   "cell_type": "code",
   "execution_count": 232,
   "metadata": {
    "collapsed": true
   },
   "outputs": [],
   "source": [
    "so=Solution()"
   ]
  },
  {
   "cell_type": "code",
   "execution_count": 233,
   "metadata": {},
   "outputs": [
    {
     "data": {
      "text/plain": [
       "-10"
      ]
     },
     "execution_count": 233,
     "metadata": {},
     "output_type": "execute_result"
    }
   ],
   "source": [
    "so.StrToInt(\"-10\")"
   ]
  },
  {
   "cell_type": "code",
   "execution_count": 234,
   "metadata": {},
   "outputs": [
    {
     "data": {
      "text/plain": [
       "10"
      ]
     },
     "execution_count": 234,
     "metadata": {},
     "output_type": "execute_result"
    }
   ],
   "source": [
    "so.StrToInt(\"+10\")"
   ]
  },
  {
   "cell_type": "code",
   "execution_count": 235,
   "metadata": {},
   "outputs": [
    {
     "data": {
      "text/plain": [
       "0"
      ]
     },
     "execution_count": 235,
     "metadata": {},
     "output_type": "execute_result"
    }
   ],
   "source": [
    "so.StrToInt(\"10.001\")"
   ]
  },
  {
   "cell_type": "code",
   "execution_count": 236,
   "metadata": {},
   "outputs": [
    {
     "data": {
      "text/plain": [
       "10"
      ]
     },
     "execution_count": 236,
     "metadata": {},
     "output_type": "execute_result"
    }
   ],
   "source": [
    "so.StrToInt(\"10\")"
   ]
  },
  {
   "cell_type": "code",
   "execution_count": 237,
   "metadata": {},
   "outputs": [
    {
     "data": {
      "text/plain": [
       "0"
      ]
     },
     "execution_count": 237,
     "metadata": {},
     "output_type": "execute_result"
    }
   ],
   "source": [
    "so.StrToInt(\"a10\")"
   ]
  },
  {
   "cell_type": "code",
   "execution_count": 238,
   "metadata": {},
   "outputs": [
    {
     "data": {
      "text/plain": [
       "0"
      ]
     },
     "execution_count": 238,
     "metadata": {},
     "output_type": "execute_result"
    }
   ],
   "source": [
    "so.StrToInt(\"a 10\")"
   ]
  },
  {
   "cell_type": "markdown",
   "metadata": {
    "collapsed": true
   },
   "source": [
    "## 面试题68:树中两个节点的最低公共祖先"
   ]
  },
  {
   "cell_type": "markdown",
   "metadata": {},
   "source": [
    "题目:输入两个二叉搜索树的结点，求两个结点的最低公共祖先，所谓的最低公共祖先是指距离两个节点最近的共同祖先"
   ]
  },
  {
   "cell_type": "code",
   "execution_count": 239,
   "metadata": {
    "collapsed": true
   },
   "outputs": [],
   "source": [
    "class TreeNode:\n",
    "    def __init__(self, x):\n",
    "        self.val = x\n",
    "        self.left = None\n",
    "        self.right = None"
   ]
  },
  {
   "cell_type": "code",
   "execution_count": 240,
   "metadata": {
    "collapsed": true
   },
   "outputs": [],
   "source": [
    "class Solution:\n",
    "    def lowestCommonAncestor(self,root,A,B):\n",
    "        if root is None or root==A or root==B:\n",
    "            return root\n",
    "        left=self.lowestCommonAncestor(root.left,A,B)\n",
    "        right=self.lowestCommonAncestor(root.right,A,B)\n",
    "        if left is not None and right is not None:\n",
    "            return root\n",
    "        if left is None:\n",
    "            return right\n",
    "        if right is None:\n",
    "            return left\n",
    "    \n",
    "    # 按行打印二叉树\n",
    "    def Print(self, pRoot):\n",
    "        if pRoot is None:\n",
    "            return []\n",
    "        nodes, res = [pRoot], []\n",
    "        while nodes:\n",
    "            curStack, nextStack = [], []\n",
    "            for node in nodes:\n",
    "                curStack.append(node.val)\n",
    "                if node.left:\n",
    "                    nextStack.append(node.left)\n",
    "                if node.right:\n",
    "                    nextStack.append(node.right)\n",
    "            res.append(curStack)\n",
    "            nodes = nextStack\n",
    "        return res"
   ]
  },
  {
   "cell_type": "code",
   "execution_count": 241,
   "metadata": {
    "collapsed": true
   },
   "outputs": [],
   "source": [
    "Root = TreeNode(5)\n",
    "Root.left = TreeNode(3)\n",
    "Root.left.left = TreeNode(2)\n",
    "Root.left.right = TreeNode(4)\n",
    "Root.right = TreeNode(7)\n",
    "Root.right.left = TreeNode(6)\n",
    "Root.right.right = TreeNode(8)"
   ]
  },
  {
   "cell_type": "code",
   "execution_count": 242,
   "metadata": {},
   "outputs": [
    {
     "name": "stdout",
     "output_type": "stream",
     "text": [
      "[[5], [3, 7], [2, 4, 6, 8]]\n"
     ]
    }
   ],
   "source": [
    "so=Solution()\n",
    "print(so.Print(Root))\n",
    "treenode=so.lowestCommonAncestor(Root,Root.left.left,Root.right.right)"
   ]
  },
  {
   "cell_type": "code",
   "execution_count": 243,
   "metadata": {},
   "outputs": [
    {
     "name": "stdout",
     "output_type": "stream",
     "text": [
      "5\n"
     ]
    }
   ],
   "source": [
    "print(treenode.val)"
   ]
  },
  {
   "cell_type": "code",
   "execution_count": null,
   "metadata": {
    "collapsed": true
   },
   "outputs": [],
   "source": []
  }
 ],
 "metadata": {
  "kernelspec": {
   "display_name": "Python 3",
   "language": "python",
   "name": "python3"
  },
  "language_info": {
   "codemirror_mode": {
    "name": "ipython",
    "version": 3
   },
   "file_extension": ".py",
   "mimetype": "text/x-python",
   "name": "python",
   "nbconvert_exporter": "python",
   "pygments_lexer": "ipython3",
   "version": "3.6.8"
  }
 },
 "nbformat": 4,
 "nbformat_minor": 2
}
