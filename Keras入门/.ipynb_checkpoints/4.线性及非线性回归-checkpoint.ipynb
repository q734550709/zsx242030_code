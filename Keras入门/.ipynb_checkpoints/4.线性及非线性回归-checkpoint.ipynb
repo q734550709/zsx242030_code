{
 "cells": [
  {
   "cell_type": "markdown",
   "metadata": {},
   "source": [
    "# 线性及非线性回归"
   ]
  },
  {
   "cell_type": "markdown",
   "metadata": {},
   "source": [
    "### 线性回归"
   ]
  },
  {
   "cell_type": "code",
   "execution_count": 14,
   "metadata": {
    "collapsed": true
   },
   "outputs": [],
   "source": [
    "from keras.models import Sequential\n",
    "from keras.layers import Dense\n",
    "from keras.optimizers import SGD\n",
    "import numpy as np\n",
    "import matplotlib.pyplot as plt"
   ]
  },
  {
   "cell_type": "code",
   "execution_count": 5,
   "metadata": {},
   "outputs": [
    {
     "name": "stdout",
     "output_type": "stream",
     "text": [
      "[0.97446435 0.77420408 0.04419657 0.88138699 0.01638792 0.61178941\n",
      " 0.66952198 0.60191838 0.25729128 0.36361366 0.11984661 0.54384077\n",
      " 0.21495461 0.64170114 0.96525887 0.70799855 0.91695371 0.72636326\n",
      " 0.68817798 0.18349728]\n",
      "[-0.00151997 -0.01265187 -0.00125081 -0.00305735 -0.00181497 -0.00783038\n",
      " -0.01782151 -0.00107702 -0.00877196  0.01742475  0.00058364  0.0030426\n",
      "  0.00520332  0.00407159 -0.00382744 -0.02005522 -0.00790796  0.00097637\n",
      "  0.01327421 -0.00380923]\n",
      "(100,)\n",
      "(100,)\n"
     ]
    }
   ],
   "source": [
    "x_data = np.random.rand(100)\n",
    "print(x_data[:20])\n",
    "noise = np.random.normal(0, 0.01, x_data.shape)\n",
    "print(noise[:20])\n",
    "print(noise.shape)\n",
    "y_data = 0.1*x_data + 0.2 + noise\n",
    "print(y_data.shape)"
   ]
  },
  {
   "cell_type": "code",
   "execution_count": 6,
   "metadata": {},
   "outputs": [
    {
     "data": {
      "image/png": "[encoded data removed]",
      "text/plain": [
       "<matplotlib.figure.Figure at 0x14d5b048>"
      ]
     },
     "metadata": {},
     "output_type": "display_data"
    }
   ],
   "source": [
    "plt.scatter(x_data, y_data)\n",
    "plt.show()"
   ]
  },
  {
   "cell_type": "code",
   "execution_count": 8,
   "metadata": {},
   "outputs": [
    {
     "name": "stdout",
     "output_type": "stream",
     "text": [
      "_________________________________________________________________\n",
      "Layer (type)                 Output Shape              Param #   \n",
      "=================================================================\n",
      "dense_1 (Dense)              (None, 1)                 2         \n",
      "=================================================================\n",
      "Total params: 2\n",
      "Trainable params: 2\n",
      "Non-trainable params: 0\n",
      "_________________________________________________________________\n"
     ]
    }
   ],
   "source": [
    "#(n,1)*(1,1)=(n,1)\n",
    "model = Sequential()\n",
    "model.add(Dense(1, input_shape=(1,)))\n",
    "model.compile(optimizer=SGD(), loss=\"MSE\")\n",
    "model.summary()"
   ]
  },
  {
   "cell_type": "code",
   "execution_count": 9,
   "metadata": {},
   "outputs": [
    {
     "name": "stdout",
     "output_type": "stream",
     "text": [
      "step: 0 cost: 0.048468824\n",
      "step: 500 cost: 0.0072608604\n",
      "step: 1000 cost: 0.0020147702\n",
      "step: 1500 cost: 0.00059985335\n",
      "step: 2000 cost: 0.00021823554\n",
      "step: 2500 cost: 0.00011530905\n",
      "step: 3000 cost: 8.754867e-05\n",
      "step: 3500 cost: 8.006157e-05\n",
      "step: 4000 cost: 7.8042234e-05\n",
      "step: 4500 cost: 7.7497585e-05\n",
      "step: 5000 cost: 7.7350676e-05\n",
      "step: 5500 cost: 7.7311044e-05\n"
     ]
    }
   ],
   "source": [
    "for i in range(6000):\n",
    "    cost = model.train_on_batch(x_data, y_data)\n",
    "    if i % 500 == 0:\n",
    "        print('step:', i, 'cost:', cost)"
   ]
  },
  {
   "cell_type": "code",
   "execution_count": 10,
   "metadata": {},
   "outputs": [
    {
     "name": "stdout",
     "output_type": "stream",
     "text": [
      "[[0.09827642]] [0.20038627]\n"
     ]
    }
   ],
   "source": [
    "W, b = model.layers[0].get_weights()\n",
    "print(W, b)"
   ]
  },
  {
   "cell_type": "code",
   "execution_count": 11,
   "metadata": {},
   "outputs": [
    {
     "data": {
      "image/png": "[encoded data removed]",
      "text/plain": [
       "<matplotlib.figure.Figure at 0x6944198>"
      ]
     },
     "metadata": {},
     "output_type": "display_data"
    }
   ],
   "source": [
    "y_pred = model.predict(x_data)\n",
    "plt.scatter(x_data, y_data)\n",
    "plt.plot(x_data, y_pred, 'r-', lw=3)\n",
    "plt.show()"
   ]
  },
  {
   "cell_type": "markdown",
   "metadata": {},
   "source": [
    "### 非线性回归"
   ]
  },
  {
   "cell_type": "code",
   "execution_count": 15,
   "metadata": {
    "collapsed": true
   },
   "outputs": [],
   "source": [
    "x_data = np.linspace(-1, 1, 200)\n",
    "noise = np.random.normal(0, 0.1, x_data.shape)\n",
    "y_data = np.square(x_data) + noise"
   ]
  },
  {
   "cell_type": "code",
   "execution_count": 16,
   "metadata": {},
   "outputs": [
    {
     "data": {
      "image/png": "[encoded data removed]",
      "text/plain": [
       "<matplotlib.figure.Figure at 0x14d5bd68>"
      ]
     },
     "metadata": {},
     "output_type": "display_data"
    }
   ],
   "source": [
    "plt.scatter(x_data, y_data)\n",
    "plt.show()"
   ]
  },
  {
   "cell_type": "code",
   "execution_count": 17,
   "metadata": {
    "collapsed": true
   },
   "outputs": [],
   "source": [
    "#(n,1)*(1,5)=(n,5)\n",
    "#(n,5)*(5,1)=(n,1)\n",
    "model = Sequential()\n",
    "model.add(Dense(5, input_shape=(1,), activation='tanh'))\n",
    "model.add(Dense(1))\n",
    "model.compile(optimizer=SGD(), loss=\"MSE\")"
   ]
  },
  {
   "cell_type": "code",
   "execution_count": 18,
   "metadata": {},
   "outputs": [
    {
     "name": "stdout",
     "output_type": "stream",
     "text": [
      "_________________________________________________________________\n",
      "Layer (type)                 Output Shape              Param #   \n",
      "=================================================================\n",
      "dense_2 (Dense)              (None, 5)                 10        \n",
      "_________________________________________________________________\n",
      "dense_3 (Dense)              (None, 1)                 6         \n",
      "=================================================================\n",
      "Total params: 16\n",
      "Trainable params: 16\n",
      "Non-trainable params: 0\n",
      "_________________________________________________________________\n"
     ]
    }
   ],
   "source": [
    "model.summary()"
   ]
  },
  {
   "cell_type": "code",
   "execution_count": 19,
   "metadata": {},
   "outputs": [
    {
     "name": "stdout",
     "output_type": "stream",
     "text": [
      "step: 0     cost: 0.23159948\n",
      "step: 500     cost: 0.08828691\n",
      "step: 1000     cost: 0.06258672\n",
      "step: 1500     cost: 0.038399056\n",
      "step: 2000     cost: 0.022528643\n",
      "step: 2500     cost: 0.015444043\n",
      "step: 3000     cost: 0.013039635\n",
      "step: 3500     cost: 0.012306053\n",
      "step: 4000     cost: 0.012051654\n",
      "step: 4500     cost: 0.011922744\n",
      "step: 5000     cost: 0.01182836\n",
      "step: 5500     cost: 0.0117465975\n",
      "[[ 0.11472424 -0.04284989 -0.22766276  1.3293614  -1.3487533 ]] [-0.41233873 -0.4274684  -0.11089709  0.7141212   0.76289   ]\n"
     ]
    }
   ],
   "source": [
    "for i in range(6000):\n",
    "    cost = model.train_on_batch(x_data, y_data)\n",
    "    if i % 500 == 0:\n",
    "        print('step:', i, '    cost:', cost)\n",
    "W, b = model.layers[0].get_weights()\n",
    "print(W, b)"
   ]
  },
  {
   "cell_type": "code",
   "execution_count": 20,
   "metadata": {},
   "outputs": [
    {
     "data": {
      "image/png": "[encoded data removed]",
      "text/plain": [
       "<matplotlib.figure.Figure at 0x170d8be0>"
      ]
     },
     "metadata": {},
     "output_type": "display_data"
    }
   ],
   "source": [
    "y_pred = model.predict(x_data)\n",
    "plt.scatter(x_data, y_data)\n",
    "plt.plot(x_data, y_pred, 'r-', lw=3)\n",
    "plt.show()"
   ]
  },
  {
   "cell_type": "code",
   "execution_count": null,
   "metadata": {
    "collapsed": true
   },
   "outputs": [],
   "source": []
  }
 ],
 "metadata": {
  "kernelspec": {
   "display_name": "Python 3",
   "language": "python",
   "name": "python3"
  },
  "language_info": {
   "codemirror_mode": {
    "name": "ipython",
    "version": 3
   },
   "file_extension": ".py",
   "mimetype": "text/x-python",
   "name": "python",
   "nbconvert_exporter": "python",
   "pygments_lexer": "ipython3",
   "version": "3.6.1"
  }
 },
 "nbformat": 4,
 "nbformat_minor": 2
}
